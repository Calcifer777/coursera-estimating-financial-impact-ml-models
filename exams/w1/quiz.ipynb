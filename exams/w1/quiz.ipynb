{
 "cells": [
  {
   "cell_type": "markdown",
   "id": "276730b3-42e5-4c41-b645-0d1bd2131940",
   "metadata": {},
   "source": [
    "# Question 1\n",
    "\n",
    "A project may be accepted if…\n",
    "- [X] NPV>0, IRR>0, PI > 1"
   ]
  },
  {
   "cell_type": "markdown",
   "id": "b4bbb96f-7e5a-4001-8d70-750f8da2aa78",
   "metadata": {},
   "source": [
    "# Question 2\n",
    "\n",
    "To launch a new project, a company invested USD 30 mln. of equity and took out a loan of USD 70 mln. for 3 years at a 5% rate. Cost of equity is 10% and the tax rate is 20%. Calculate the WACC value \n",
    "\n",
    "$$\n",
    "WACC= Cost of Equity × Equity Weight + Cost of Debt × Debt Weight × (1 - Income Tax Rate)\n",
    "$$"
   ]
  },
  {
   "cell_type": "code",
   "execution_count": 38,
   "id": "9652e093-0af2-4662-bd82-856048b60d2b",
   "metadata": {
    "tags": []
   },
   "outputs": [
    {
     "name": "stdout",
     "output_type": "stream",
     "text": [
      "WACC is 5.8%\n"
     ]
    }
   ],
   "source": [
    "equity = 30\n",
    "debt = 70\n",
    "total_investment = equity + loan\n",
    "equity_ratio = equity / total_investment\n",
    "debt_ratio = debt / total_investment\n",
    "cost_debt = 0.05\n",
    "cost_equity = 0.10\n",
    "tax_rate = 0.20\n",
    "\n",
    "wacc = cost_equity * equity_ratio + cost_debt * debt_ratio * (1 - tax_rate)\n",
    "print(\"WACC is {0:.1%}\".format(wacc))"
   ]
  },
  {
   "cell_type": "markdown",
   "id": "fe563200-17a8-4ec2-b155-852d2c7a1e86",
   "metadata": {},
   "source": [
    "# Question 3\n",
    "\n",
    "Which of the following is not a valuation principle?\n",
    "- [X] Significance"
   ]
  },
  {
   "cell_type": "markdown",
   "id": "c6eaeef0-b996-41bc-8ba5-aa31dd97a429",
   "metadata": {},
   "source": [
    "# Question 4\n",
    "\n",
    "Select the most important criterion in project / AI valuation?\n",
    "- [X] NPV"
   ]
  },
  {
   "cell_type": "markdown",
   "id": "832e557e-72a4-4983-b8c8-4271a5ee2c95",
   "metadata": {},
   "source": [
    "# Question 5\n",
    "\n",
    "You have 2 projects with the following cash flow forecasts. Calculate NPV for the project with the highest NPV.\n",
    "\n",
    "Assume that the discount rate is 10%. \n",
    "\n",
    "| Year | Project A | Project B |\n",
    "|:----:|:---------:|:---------:|\n",
    "| 0    | -300      | -300      |\n",
    "| 1    | 150       | 200       |\n",
    "| 2    | 100       | 140       |\n",
    "| 3    | 150       | 50        |"
   ]
  },
  {
   "cell_type": "code",
   "execution_count": 1,
   "id": "31ca5441-e84d-477d-ad05-77fd5d695552",
   "metadata": {},
   "outputs": [
    {
     "data": {
      "text/html": [
       "<div>\n",
       "<style scoped>\n",
       "    .dataframe tbody tr th:only-of-type {\n",
       "        vertical-align: middle;\n",
       "    }\n",
       "\n",
       "    .dataframe tbody tr th {\n",
       "        vertical-align: top;\n",
       "    }\n",
       "\n",
       "    .dataframe thead th {\n",
       "        text-align: right;\n",
       "    }\n",
       "</style>\n",
       "<table border=\"1\" class=\"dataframe\">\n",
       "  <thead>\n",
       "    <tr style=\"text-align: right;\">\n",
       "      <th></th>\n",
       "      <th>period</th>\n",
       "      <th>cf_A</th>\n",
       "      <th>cf_B</th>\n",
       "    </tr>\n",
       "  </thead>\n",
       "  <tbody>\n",
       "    <tr>\n",
       "      <th>0</th>\n",
       "      <td>0.0</td>\n",
       "      <td>-300.0</td>\n",
       "      <td>-300.0</td>\n",
       "    </tr>\n",
       "    <tr>\n",
       "      <th>1</th>\n",
       "      <td>1.0</td>\n",
       "      <td>150.0</td>\n",
       "      <td>200.0</td>\n",
       "    </tr>\n",
       "    <tr>\n",
       "      <th>2</th>\n",
       "      <td>2.0</td>\n",
       "      <td>100.0</td>\n",
       "      <td>140.0</td>\n",
       "    </tr>\n",
       "    <tr>\n",
       "      <th>3</th>\n",
       "      <td>3.0</td>\n",
       "      <td>150.0</td>\n",
       "      <td>50.0</td>\n",
       "    </tr>\n",
       "  </tbody>\n",
       "</table>\n",
       "</div>"
      ],
      "text/plain": [
       "   period   cf_A   cf_B\n",
       "0     0.0 -300.0 -300.0\n",
       "1     1.0  150.0  200.0\n",
       "2     2.0  100.0  140.0\n",
       "3     3.0  150.0   50.0"
      ]
     },
     "execution_count": 1,
     "metadata": {},
     "output_type": "execute_result"
    }
   ],
   "source": [
    "import numpy as np\n",
    "import pandas as pd\n",
    "\n",
    "data = np.array([\n",
    "    [0, 1, 2, 3, ],\n",
    "    [-300, 150, 100, 150],\n",
    "    [-300, 200, 140, 50],\n",
    "    ], dtype=float).transpose()\n",
    "discount_rate = 0.10\n",
    "df = pd.DataFrame(data, columns=[\"period\", \"cf_A\", \"cf_B\"])\n",
    "df.head()"
   ]
  },
  {
   "cell_type": "code",
   "execution_count": 2,
   "id": "0e4d4172-f6cb-40bc-bcff-346516025e5b",
   "metadata": {},
   "outputs": [],
   "source": [
    "df['discount_coeff'] = np.power(1 / (1 + discount_rate), df['period'])\n",
    "df['discounted_cf_A'] = df['cf_A'] * df['discount_coeff']\n",
    "df['discounted_cf_B'] = df['cf_B'] * df['discount_coeff']"
   ]
  },
  {
   "cell_type": "code",
   "execution_count": 3,
   "id": "88b39ca4-a5d2-4125-b904-246119d799fb",
   "metadata": {},
   "outputs": [
    {
     "name": "stdout",
     "output_type": "stream",
     "text": [
      "NPV A 31.7\n",
      "NPV B 35.1\n"
     ]
    }
   ],
   "source": [
    "print(\"NPV A {0:.1f}\".format(df['discounted_cf_A'].sum()))\n",
    "print(\"NPV B {0:.1f}\".format(df['discounted_cf_B'].sum()))"
   ]
  },
  {
   "cell_type": "markdown",
   "id": "707f1b9d-731e-41c9-aa15-e72c77f77b3b",
   "metadata": {},
   "source": [
    "# Question 6 \n",
    "\n",
    "You have 2 projects with the following cash flow forecasts. What is the IRR for the project with the lowest NPV? (same data as Q5)"
   ]
  },
  {
   "cell_type": "code",
   "execution_count": 5,
   "id": "89916beb-5166-405e-9e93-4297c7c69b0d",
   "metadata": {},
   "outputs": [],
   "source": [
    "import numpy_financial as npf"
   ]
  },
  {
   "cell_type": "code",
   "execution_count": 17,
   "id": "c49c2ee7-5759-42de-bcec-0278deade9ea",
   "metadata": {},
   "outputs": [
    {
     "name": "stdout",
     "output_type": "stream",
     "text": [
      "IRR A 15.9%\n"
     ]
    }
   ],
   "source": [
    "irr_a = npf.irr(df['cf_A'])\n",
    "# Test value satisfies IRR confition\n",
    "assert(np.abs((np.power(1 / (1 + irr_a), df['period']) * df['cf_A']).sum()) < 1E-6 )\n",
    "print(\"IRR A {0:.1%}\".format(irr_a))"
   ]
  },
  {
   "cell_type": "markdown",
   "id": "6d8139c8-6dd7-41c4-9757-3b7128148e87",
   "metadata": {},
   "source": [
    "# Question 7\n",
    "\n",
    "You have 2 projects with the following cash flow forecasts. What is the PI for the project with the highest NPV?"
   ]
  },
  {
   "cell_type": "code",
   "execution_count": 31,
   "id": "000bd3e1-b184-4653-8c62-a6bc09330651",
   "metadata": {},
   "outputs": [
    {
     "name": "stdout",
     "output_type": "stream",
     "text": [
      "PI B 1.12\n"
     ]
    }
   ],
   "source": [
    "pi_b = (\n",
    "    df.loc[df['period']>0, ['discounted_cf_B']].sum() / \n",
    "    - df.loc[df['period']==0, ['discounted_cf_B']].sum()\n",
    ").iloc[0]\n",
    "print(\"PI B {0:.2f}\".format(pi_b))"
   ]
  },
  {
   "cell_type": "markdown",
   "id": "aca5448e-4629-4819-a0fb-853ae104db66",
   "metadata": {},
   "source": [
    "# Question 8\n",
    "\n",
    "If we know that some of the costs and incomes will not significantly affect the NPV, we do not need to waste our time trying to make their assessment more accurate. Which principle is this?\n",
    "\n",
    "- [X] Materiality "
   ]
  },
  {
   "cell_type": "markdown",
   "id": "3c3a8ae2-7a75-47cf-a100-3c40f9521d5d",
   "metadata": {},
   "source": [
    "# Question 9\n",
    "\n",
    "What is the average valuation period for AI initiatives?\n",
    "\n",
    "- [X] 3 years, but it may take more ..."
   ]
  },
  {
   "cell_type": "markdown",
   "id": "3e92e414-2f25-48a0-9f05-297888be8a07",
   "metadata": {},
   "source": [
    "# Question 10\n",
    "\n",
    "Which of the following is not one of the 6 basic sources of income?\n",
    "\n",
    "- [X] Customer Satisfaction growth"
   ]
  },
  {
   "cell_type": "markdown",
   "id": "0013aa11-add3-44a2-a8b1-8cfac27f708b",
   "metadata": {},
   "source": [
    "# Question 11\n",
    "\n",
    "Which statement is wrong?\n",
    "\n",
    "- [X] We need FCFE to use PP, DPP..."
   ]
  },
  {
   "cell_type": "markdown",
   "id": "770304a3-17c0-4e78-bfbe-4ec7227ceb9b",
   "metadata": {},
   "source": [
    "# Question 12\n",
    "\n",
    "We have the following data about the rates and company's market sensitivity: risk-free rate is 2%, beta is 1.2, country risk premium is 1%, market risk premium is 3%. Calculate the cost of equity."
   ]
  },
  {
   "cell_type": "code",
   "execution_count": 33,
   "id": "b4d6bbdc-402a-471a-ae4c-cbd12312a9d8",
   "metadata": {},
   "outputs": [
    {
     "name": "stdout",
     "output_type": "stream",
     "text": [
      "Cost of equity 6.6%\n"
     ]
    }
   ],
   "source": [
    "rf = 0.02\n",
    "beta = 1.2\n",
    "country_risk = 0.01\n",
    "market_risk = 0.03\n",
    "\n",
    "cost_of_equity = rf + beta * market_risk + country_risk\n",
    "print(\"Cost of equity {0:.1%}\".format(cost_of_equity))"
   ]
  },
  {
   "cell_type": "markdown",
   "id": "70eaeb97-3a6e-4a40-94d0-32e6b7c37b59",
   "metadata": {},
   "source": [
    "# Question 13\n",
    "\n",
    "Which is essential for calculating the NPV? Please select all correct answers.\n",
    "- [X] All"
   ]
  },
  {
   "cell_type": "markdown",
   "id": "421a76ff-ef0f-4ad7-ad4b-785c12cd4592",
   "metadata": {},
   "source": [
    "# Question 14\n",
    "\n",
    "Which statement is wrong?\n",
    "\n",
    "- [X] All of the above"
   ]
  },
  {
   "cell_type": "markdown",
   "id": "7d1bd52e-9a80-4b53-af0d-1b02081a8e75",
   "metadata": {},
   "source": [
    "# Question 15\n",
    "\n",
    "Which statement is wrong?\n",
    "\n",
    "- [X] The IRR is a more preferrable approach of decision making"
   ]
  }
 ],
 "metadata": {
  "kernelspec": {
   "display_name": "Python 3 (ipykernel)",
   "language": "python",
   "name": "python3"
  },
  "language_info": {
   "codemirror_mode": {
    "name": "ipython",
    "version": 3
   },
   "file_extension": ".py",
   "mimetype": "text/x-python",
   "name": "python",
   "nbconvert_exporter": "python",
   "pygments_lexer": "ipython3",
   "version": "3.8.10"
  }
 },
 "nbformat": 4,
 "nbformat_minor": 5
}
