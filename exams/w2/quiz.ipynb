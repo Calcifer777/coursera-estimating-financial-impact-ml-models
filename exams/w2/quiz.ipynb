{
 "cells": [
  {
   "cell_type": "markdown",
   "id": "e847a1b2-ecc8-43c8-8e45-f1d28fea40cc",
   "metadata": {},
   "source": [
    "# Question 1\n",
    "\n",
    "Suppose the total number of creditworthy clients is 1,000. The loan margin is 200 and the amount of losses in case of default is 600. For 100 clients the creditworthiness estimation was wrong. Claculate the maximum number of false positive clients when you can still avoid negative profits?"
   ]
  },
  {
   "cell_type": "code",
   "execution_count": null,
   "id": "9c3001a2-c24b-42d7-b952-d372f6962709",
   "metadata": {},
   "outputs": [],
   "source": [
    "def benefit(tn: int, fp: int, fn: int, fn_cost: int, fp_cost: int) -> int :\n",
    "    return (tn - fp) * fp_cost - fn * fn_cost"
   ]
  },
  {
   "cell_type": "code",
   "execution_count": null,
   "id": "a2d3d71a-b307-40ab-881c-fe822dcf195f",
   "metadata": {},
   "outputs": [],
   "source": [
    "tn = 1000\n",
    "fp_cost = 200\n",
    "fn_cost = 600\n",
    "fn = 100\n",
    "\n",
    "fp_max = tn - fn * fn_cost / fp_cost\n",
    "\n",
    "print(\"Max false positives: {:.0f}\".format(fp_max))\n",
    "\n",
    "assert(benefit(tn=tn, fp=fp_max, fn=fn, fn_cost=fn_cost, fp_cost=fp_cost) == 0)"
   ]
  },
  {
   "cell_type": "markdown",
   "id": "085ff791-6045-4223-bc94-d7784b109fa9",
   "metadata": {},
   "source": [
    "# Question 2\n",
    "\n",
    "Choose the correct statement:\n",
    "- [X] FP and FN can be reduced simultaneously by improving the model"
   ]
  },
  {
   "cell_type": "markdown",
   "id": "0838d477-338c-460a-b119-c70a7c5c672b",
   "metadata": {},
   "source": [
    "# Question 3\n",
    "\n",
    "Choose the correct statement:\n",
    "- [X] It is possible that regardless ..."
   ]
  },
  {
   "cell_type": "markdown",
   "id": "2e9d9d17-32c8-42f8-bbcc-5b43e38c96d0",
   "metadata": {},
   "source": [
    "# Question 4\n",
    "\n",
    "Complete the statement below\n",
    "\n",
    "In order to optimize cross-sell profits with response model one should…\n",
    "- [X] Sort all client decreasing by difference between "
   ]
  },
  {
   "cell_type": "markdown",
   "id": "5d63a5d0-7e66-4482-bcd2-abbd1c1f66f7",
   "metadata": {},
   "source": [
    "# Question 5\n",
    "\n",
    "Consider a credit scoring problem where the positive case is a delinquent client. \n",
    "\n",
    "FP and FN error costs are equal, number of positive cases is 1,000, number of negative ones is 500. \n",
    "\n",
    "Suppose that we will be accepting all loan applications. \n",
    "\n",
    "Which statement is true for the value of financial benefit?"
   ]
  },
  {
   "cell_type": "code",
   "execution_count": null,
   "id": "546e0fe7-d15f-41f7-84bf-0332ce22ea87",
   "metadata": {},
   "outputs": [],
   "source": [
    "cost = fn_cost = fp_cost = 1\n",
    "tp = 1000\n",
    "tn = 500\n",
    "Nn = tp + tn\n",
    "\n",
    "benefit_5 = benefit(tn, fp=0, fn=tp, fn_cost=cost, fp_cost=cost)\n",
    "print(\"Benefit {:d}\".format(benefit_5))"
   ]
  },
  {
   "cell_type": "markdown",
   "id": "9fe44804-febd-496b-a8b1-b351f0f5ead5",
   "metadata": {},
   "source": [
    "- [X] Financial benefit will be below zero"
   ]
  },
  {
   "cell_type": "markdown",
   "id": "ed77524d-f799-4056-ab18-ae74eb244ce4",
   "metadata": {},
   "source": [
    "# Question 6\n",
    "\n",
    "Consider a binary classification response model which is deployed to maximize profits when offering a product to clients. \n",
    "\n",
    "Suppose, the call center can make only 1,000 client offers per week. \n",
    "\n",
    "Which decision strategy seems to be the best here?\n",
    "\n",
    "- [X] Establish communication with top 1000 clients per week which are predicted to have maximum increment\n",
    "and their expected benefit exceeds communication cost"
   ]
  },
  {
   "cell_type": "markdown",
   "id": "0205f709-cec1-4c06-ac25-e9c923a2408c",
   "metadata": {},
   "source": [
    "# Question 7\n",
    "\n",
    "Suppose the total number of creditworthy clients is 1,000. \n",
    "Loan margin is 100 and loss amount in case of default is 2,000. \n",
    "\n",
    "Your current model shows FP = 500 and FN = 10. \n",
    "\n",
    "Your colleague offers to use different model which shows FP = 100 and FN = 30. \n",
    "\n",
    "Whose model is better in terms of financial benefit?"
   ]
  },
  {
   "cell_type": "code",
   "execution_count": null,
   "id": "3005c211-031e-4ab8-a073-123f9276b264",
   "metadata": {},
   "outputs": [],
   "source": [
    "benefit_my = benefit(tn=1000, fp=500, fn=10, fn_cost=2000, fp_cost=100)\n",
    "benefit_theirs = benefit(tn=1000, fp=100, fn=30, fn_cost=2000, fp_cost=100)\n",
    "\n",
    "print(\"Benefit My: {:d}\".format(benefit_my))\n",
    "print(\"Benefit Theirs: {:d}\".format(benefit_theirs))\n",
    "\n",
    "print(\"My better Theirs?\", benefit_my > benefit_theirs)"
   ]
  },
  {
   "cell_type": "markdown",
   "id": "20a5e7dc-15b2-4132-911c-ff765a5ad42e",
   "metadata": {},
   "source": [
    "- [X] My current model is better"
   ]
  },
  {
   "cell_type": "markdown",
   "id": "2fb9af64-27a8-4510-aaa5-359cd2cd4ca3",
   "metadata": {
    "jp-MarkdownHeadingCollapsed": true,
    "tags": []
   },
   "source": [
    "# Question 8\n",
    "\n",
    "Consider a credit scoring model which aims to predict loan default which is denoted as positive case. \n",
    "\n",
    "Your manager is worried about disappointed clients who were rejected based on model predictions and \n",
    "sets a goal for your department to hold FP = 0. \n",
    "\n",
    "What is going to happen if this goal is accomplished?\n",
    "\n",
    "- [X] The number of defaults is going to increase"
   ]
  },
  {
   "cell_type": "markdown",
   "id": "90a01a29-c5df-406d-b48f-83d6d13a3c9f",
   "metadata": {
    "tags": []
   },
   "source": [
    "# Question 9\n",
    "\n",
    "Suppose you are eager to increase your loan market share by providing loans to as many borrowers as possible. \n",
    "\n",
    "For simplicity, let each loan have a fixed margin 100 and loss given default 1000. \n",
    "\n",
    "You ask your credit risk department to accept every loan application. \n",
    "\n",
    "Analysts warn you that the odds of creditworthy and uncreditworthy clients are approximately 7:1.\n",
    "\n",
    "- [X] Too  risky"
   ]
  },
  {
   "cell_type": "code",
   "execution_count": null,
   "id": "0d2928fa-3442-4801-af55-78d4cc9079d0",
   "metadata": {},
   "outputs": [],
   "source": [
    "creditworthy = 7\n",
    "uncreditworthy = 1\n",
    "\n",
    "benefit_9 = benefit(creditworthy, fp=0, fn=uncreditworthy, fn_cost=1000, fp_cost=100)\n",
    "\n",
    "print(\"Exp. benefit {:.0f}\".format(benefit_9))"
   ]
  },
  {
   "cell_type": "markdown",
   "id": "e12268ec-3551-4b71-9195-a605acb4d596",
   "metadata": {},
   "source": [
    "# Question 10\n",
    "\n",
    "Suppose each client has different individual FP and FN error costs. \n",
    "\n",
    "You are applying a credit scoring model that has default probability as an output. \n",
    "\n",
    "Which of the following statements is true?\n",
    "\n",
    "- [X] You have to use functional threshold"
   ]
  }
 ],
 "metadata": {
  "kernelspec": {
   "display_name": "Python 3 (ipykernel)",
   "language": "python",
   "name": "python3"
  },
  "language_info": {
   "codemirror_mode": {
    "name": "ipython",
    "version": 3
   },
   "file_extension": ".py",
   "mimetype": "text/x-python",
   "name": "python",
   "nbconvert_exporter": "python",
   "pygments_lexer": "ipython3",
   "version": "3.8.10"
  }
 },
 "nbformat": 4,
 "nbformat_minor": 5
}
