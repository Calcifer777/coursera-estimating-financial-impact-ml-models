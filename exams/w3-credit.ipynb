{
 "cells": [
  {
   "cell_type": "markdown",
   "metadata": {
    "deletable": false,
    "editable": false,
    "nbgrader": {
     "cell_type": "markdown",
     "checksum": "2c85f15e777d5b5f62a744c811bb588a",
     "grade": false,
     "grade_id": "cell-570423b715cefbde",
     "locked": true,
     "schema_version": 3,
     "solution": false,
     "task": false
    }
   },
   "source": [
    " \n",
    "## Week 3\n",
    "### Model Risk"
   ]
  },
  {
   "cell_type": "markdown",
   "metadata": {
    "deletable": false,
    "editable": false,
    "nbgrader": {
     "cell_type": "markdown",
     "checksum": "9bd970d7a589f4c3e5ad9fe03d7d8141",
     "grade": false,
     "grade_id": "cell-be3fc69f4bb7ad6d",
     "locked": true,
     "schema_version": 3,
     "solution": false,
     "task": false
    }
   },
   "source": [
    "We use materials from week 2 (credit) - ***Model quality and decision making. Benefit curve***"
   ]
  },
  {
   "cell_type": "markdown",
   "metadata": {
    "deletable": false,
    "editable": false,
    "nbgrader": {
     "cell_type": "markdown",
     "checksum": "202f4cc851785ee005de5295c221a34e",
     "grade": false,
     "grade_id": "cell-d462c2984d25130a",
     "locked": true,
     "schema_version": 3,
     "solution": false,
     "task": false
    }
   },
   "source": [
    "#### Import libraries"
   ]
  },
  {
   "cell_type": "code",
   "execution_count": null,
   "metadata": {},
   "outputs": [],
   "source": [
    "import pandas as pd\n",
    "import numpy as np\n",
    "\n",
    "import seaborn as sns\n",
    "import matplotlib.pyplot as plt\n",
    "\n",
    "\n",
    "from sklearn.model_selection import train_test_split\n",
    "\n",
    "from sklearn.linear_model import LogisticRegression\n",
    "from sklearn.model_selection import GridSearchCV\n",
    "from sklearn.metrics import confusion_matrix\n",
    "\n",
    "\n",
    "from sklearn.metrics import roc_auc_score\n",
    "from sklearn.metrics import roc_curve\n",
    "from sklearn.metrics import f1_score as f1\n",
    "\n",
    "import matplotlib.colors\n",
    "\n",
    "\n",
    "sns.set(style=\"white\")\n",
    "\n",
    "np.random.seed(2020)\n",
    "\n",
    "#settings for plots\n",
    "plt.rcParams.update({'font.size': 16,\n",
    "                     'xtick.labelsize' : 14, \n",
    "                     'ytick.labelsize' : 14,\n",
    "                     'axes.labelsize' : 16,\n",
    "                     'axes.titlesize' : 20})"
   ]
  },
  {
   "cell_type": "code",
   "execution_count": null,
   "metadata": {},
   "outputs": [],
   "source": [
    "import warnings\n",
    "warnings.filterwarnings(\"ignore\")"
   ]
  },
  {
   "cell_type": "markdown",
   "metadata": {
    "deletable": false,
    "editable": false,
    "nbgrader": {
     "cell_type": "markdown",
     "checksum": "1b1adc6f2d99976dc56c04d89e916411",
     "grade": false,
     "grade_id": "cell-0210464d632dd77f",
     "locked": true,
     "schema_version": 3,
     "solution": false,
     "task": false
    }
   },
   "source": [
    "Define some functions that will help us to plot graphs. "
   ]
  },
  {
   "cell_type": "code",
   "execution_count": null,
   "metadata": {},
   "outputs": [],
   "source": [
    "def roc_auc_plot(model, X_train, y_train,\n",
    "                X_oos, y_oos, X_oot, y_oot, names = ['train', 'oos' ]):\n",
    "    \n",
    "    plt.figure(figsize=(10,8))\n",
    "    colors = ['olivedrab','deepskyblue',  'salmon']\n",
    "    \n",
    "    for it, i in enumerate(names):\n",
    "        \n",
    "        #choose the data\n",
    "        if i == 'train':\n",
    "            X = X_train\n",
    "            y_ = y_train\n",
    "        elif i == 'oos':\n",
    "            X = X_oos\n",
    "            y_ = y_oos\n",
    "        else:\n",
    "            X = X_oot\n",
    "            y_ = y_oot\n",
    "        \n",
    "        y_hat = model.predict_proba(X)[:, 1]\n",
    "        fpr, tpr, _ = roc_curve(y_, y_hat)\n",
    "        #gini = 2 * roc_auc_score(y_, y_hat) - 1\n",
    "        plt.plot(fpr, tpr, label = i, color = colors[it], linewidth=2)\n",
    "        #print('Model',i, 'gini: ', np.round(gini,2))\n",
    "\n",
    "    plt.xlabel('FPR')\n",
    "    plt.ylabel('TPR')\n",
    "    plt.title('Model old')\n",
    "    plt.legend(bbox_to_anchor=(1, 1));\n",
    "    plt.plot([0,1], [0,1], '--', color='grey', label='Random model')\n",
    "\n",
    "    plt.grid()\n",
    "    _ = plt.legend(loc= 0, prop= {'size': 16})"
   ]
  },
  {
   "cell_type": "code",
   "execution_count": null,
   "metadata": {},
   "outputs": [],
   "source": [
    "def benefit_plot(model, X_train, y_train,\n",
    "                X_oos, y_oos, X_oot, y_oot, names = ['train', 'oos' ]):\n",
    "                 \n",
    "    plt.figure(figsize=(10,8))\n",
    "\n",
    "    colors = ['olivedrab','deepskyblue',  'salmon']\n",
    "    \n",
    "    max_val = []\n",
    "    for it, i in enumerate(names):\n",
    "        \n",
    "        if i == 'train':\n",
    "            X = X_train\n",
    "            y_ = y_train\n",
    "        elif i == 'oos':\n",
    "            X = X_oos\n",
    "            y_ = y_oos\n",
    "        else:\n",
    "            X = X_oot\n",
    "            y_ = y_oot\n",
    "\n",
    "        benefit = []    \n",
    "        c_acceptance_rate = []\n",
    "        \n",
    "        y_hat = model.predict_proba(X)[:, 1]\n",
    "        \n",
    "        for t in thr:\n",
    "            #calculate confusion matrix\n",
    "            CM = confusion_matrix(y_, (y_hat > t)*1.)  \n",
    "            \n",
    "            #calculate accaptance rate as amount of non-defaulted clients\n",
    "            c_acceptance_rate.append((len(y_hat) - np.sum((y_hat > t)*1.)) / len(y_hat))\n",
    "            TN = CM[0][0]\n",
    "            FN = CM[1][0]\n",
    "            FP = CM[0][1]\n",
    "            \n",
    "            #calculate the financial effect\n",
    "            benefit.append(TN * e_fp - FN * e_fn)\n",
    "\n",
    "        fpr, tpr, _ = roc_curve(y_, y_hat)\n",
    "        print('Model',i, 'Max Benefit: ', np.max(benefit)) \n",
    "        \n",
    "        plt.plot(c_acceptance_rate, benefit, label = i, color = colors[it], linewidth=2)  \n",
    "        plt.plot(c_acceptance_rate[np.argmax(benefit)], np.max(benefit), color = colors[it], marker='*', markersize=10)\n",
    "         \n",
    "\n",
    "    plt.xlabel('Acceptance rate')\n",
    "    plt.ylabel('Benefit')\n",
    "    plt.title('Benefit curve for old model')\n",
    "    plt.legend(bbox_to_anchor=(1, 1));\n",
    "\n",
    "    plt.grid()\n",
    "    _ = plt.legend(loc= 0, prop= {'size': 16})\n",
    "    \n"
   ]
  },
  {
   "cell_type": "markdown",
   "metadata": {
    "deletable": false,
    "editable": false,
    "nbgrader": {
     "cell_type": "markdown",
     "checksum": "131c7a256998e74d94b32e3c61544883",
     "grade": false,
     "grade_id": "cell-754464d6305c52cb",
     "locked": true,
     "schema_version": 3,
     "solution": false,
     "task": false
    }
   },
   "source": [
    "__Consider a binary classification model $X -> Prob$, e.g. credit scoring__:"
   ]
  },
  {
   "cell_type": "markdown",
   "metadata": {
    "deletable": false,
    "editable": false,
    "nbgrader": {
     "cell_type": "markdown",
     "checksum": "628f7e97bcc57284bb5ee33f80c13c7b",
     "grade": false,
     "grade_id": "cell-bb40f986349677ec",
     "locked": true,
     "schema_version": 3,
     "solution": false,
     "task": false
    }
   },
   "source": [
    "#### Load Data"
   ]
  },
  {
   "cell_type": "markdown",
   "metadata": {
    "deletable": false,
    "editable": false,
    "nbgrader": {
     "cell_type": "markdown",
     "checksum": "cde0f40b3b61ca8bd4caa62bae4ee70f",
     "grade": false,
     "grade_id": "cell-43ba74d83277618f",
     "locked": true,
     "schema_version": 3,
     "solution": false,
     "task": false
    }
   },
   "source": [
    "Load **train**, **out-of-sample** and **out-of-time** samples"
   ]
  },
  {
   "cell_type": "code",
   "execution_count": null,
   "metadata": {},
   "outputs": [],
   "source": [
    "df_train = pd.read_csv('../data/benefit-curve/df_train.csv')\n",
    "df_oos = pd.read_csv('../data/benefit-curve/df_oos.csv')\n",
    "df_oot = pd.read_csv('../data/benefit-curve/df_oot.csv')\n",
    "## based on kaggle https://www.kaggle.com/c/GiveMeSomeCredit"
   ]
  },
  {
   "cell_type": "code",
   "execution_count": null,
   "metadata": {},
   "outputs": [],
   "source": [
    "df_train.head()"
   ]
  },
  {
   "cell_type": "markdown",
   "metadata": {
    "deletable": false,
    "editable": false,
    "nbgrader": {
     "cell_type": "markdown",
     "checksum": "e59885045faa1027ce3c474eb6892e13",
     "grade": false,
     "grade_id": "cell-53f45793a89c9fed",
     "locked": true,
     "schema_version": 3,
     "solution": false,
     "task": false
    }
   },
   "source": [
    "__Column description:__\n",
    "\n",
    "- `issue_d` - The month which the loan was funded\n",
    "- `addr_state` - The state provided by the borrower in the loan application\n",
    "- `emp_title` - The job title supplied by the Borrower when applying for the loan.\n",
    "- `installment` - The monthly payment owed by the borrower if the loan originates.\n",
    "- `dti` - A ratio calculated using the borrower’s total monthly debt payments on the total debt obligations, excluding mortgage and the requested LC loan, divided by the borrower’s self-reported monthly income.\n",
    "- `funded_amnt` - The total amount committed to that loan at that point in time.\n",
    "- `annual_inc` - The self-reported annual income provided by the borrower during registration.\n",
    "- `emp_length` - Employment length in years. Possible values are between 0 and 10 where 0 means less than one year and 10 means ten or more years. \n",
    "- `term` - The number of payments on the loan. Values are in months and can be either 36 or 60.\n",
    "- `inq_last_6mths` - The number of inquiries in past 6 months (excluding auto and mortgage inquiries)\n",
    "- `mths_since_recent_inq` - Months since most recent inquiry.\n",
    "- `delinq_2yrs` - The number of 30+ days past-due incidences of delinquency in the borrower's credit file for the past 2 years\n",
    "- `chargeoff_within_12_mths` - Number of charge-offs within 12 months\n",
    "- `num_accts_ever_120_pd` - Number of accounts ever 120 or more days past due\n",
    "- `num_tl_90g_dpd_24m` - Number of accounts 90 or more days past due in last 24 months\n",
    "- `acc_open_past_24mths` - Number of trades opened in past 24 months.\n",
    "- `avg_cur_bal` - Average current balance of all accounts\n",
    "- `tot_hi_cred_lim` - Total high credit/credit limit\n",
    "- `delinq_amnt` - The past-due amount owed for the accounts on which the borrower is now delinquent.\n",
    "\n",
    "And all categorical variables are encoded:\n",
    "- `sub_grade` - External assigned loan subgrade\n",
    "- `purpose` - A category provided by the borrower for the loan request.\n",
    "- `home_ownership` - The home ownership status provided by the borrower during registration or obtained from the credit report. Our values are: RENT, OWN, MORTGAGE, OTHER\n",
    "\n",
    "\n",
    "__Target variable:__\n",
    "- `def`"
   ]
  },
  {
   "cell_type": "markdown",
   "metadata": {
    "deletable": false,
    "editable": false,
    "nbgrader": {
     "cell_type": "markdown",
     "checksum": "f45a35801aaf824ee570c1fe66143d9d",
     "grade": false,
     "grade_id": "cell-c96c2d75682e06e6",
     "locked": true,
     "schema_version": 3,
     "solution": false,
     "task": false
    }
   },
   "source": [
    "#### Modelling"
   ]
  },
  {
   "cell_type": "markdown",
   "metadata": {
    "deletable": false,
    "editable": false,
    "nbgrader": {
     "cell_type": "markdown",
     "checksum": "e5b3c8be8053aa0ad971d4d1d2bc20e4",
     "grade": false,
     "grade_id": "cell-83ac46e58d4176b9",
     "locked": true,
     "schema_version": 3,
     "solution": false,
     "task": false
    }
   },
   "source": [
    "##### *1. Define target*"
   ]
  },
  {
   "cell_type": "code",
   "execution_count": null,
   "metadata": {},
   "outputs": [],
   "source": [
    "targ_cols = [i for i in df_train.columns if i != 'def']\n",
    "\n",
    "X_train = df_train[targ_cols]\n",
    "X_oos = df_oos[targ_cols]\n",
    "X_oot = df_oot[targ_cols]\n",
    "\n",
    "y_train = df_train[\"def\"]\n",
    "y_oos = df_oos[\"def\"]\n",
    "y_oot = df_oot[\"def\"]"
   ]
  },
  {
   "cell_type": "markdown",
   "metadata": {
    "deletable": false,
    "editable": false,
    "nbgrader": {
     "cell_type": "markdown",
     "checksum": "0fc76bae1b8d03c90a4811eff53ff868",
     "grade": false,
     "grade_id": "cell-b3f57972a121d8de",
     "locked": true,
     "schema_version": 3,
     "solution": false,
     "task": false
    }
   },
   "source": [
    "##### *2. Define FP and FN costs*\n",
    "\n",
    "Financial result of model performance depends on FP and FN error"
   ]
  },
  {
   "cell_type": "code",
   "execution_count": null,
   "metadata": {},
   "outputs": [],
   "source": [
    "S = 900 # amount of loan\n",
    "r = 0.035 # interest rate\n",
    "lgd = 0.25 # losses in case of default\n",
    "e_fp = r * S # 1 type error cost\n",
    "e_fn = lgd * S # 2 type error cost"
   ]
  },
  {
   "cell_type": "code",
   "execution_count": null,
   "metadata": {},
   "outputs": [],
   "source": [
    "#the grid to calculate acceptance rate\n",
    "thr = np.linspace(0,1,41) #41"
   ]
  },
  {
   "cell_type": "markdown",
   "metadata": {
    "deletable": false,
    "editable": false,
    "nbgrader": {
     "cell_type": "markdown",
     "checksum": "b520e5fc942d21f2495cab0f397ee8e7",
     "grade": false,
     "grade_id": "cell-f622a8ed562228c2",
     "locked": true,
     "schema_version": 3,
     "solution": false,
     "task": false
    }
   },
   "source": [
    "##### 3.*Train old model*"
   ]
  },
  {
   "cell_type": "code",
   "execution_count": null,
   "metadata": {},
   "outputs": [],
   "source": [
    "model_old = LogisticRegression(C=0.02, fit_intercept=True, max_iter=100,\n",
    "          penalty='l1', random_state=123, solver = 'liblinear',\n",
    "          tol=0.01).fit(X_train, y_train)\n",
    "\n",
    "\n",
    "model_old.fit(X_train, y_train)"
   ]
  },
  {
   "cell_type": "markdown",
   "metadata": {
    "deletable": false,
    "editable": false,
    "nbgrader": {
     "cell_type": "markdown",
     "checksum": "5e7a793b1323417029ec014a6c37c610",
     "grade": false,
     "grade_id": "cell-c86b0f6010eadee5",
     "locked": true,
     "schema_version": 3,
     "solution": false,
     "task": false
    }
   },
   "source": [
    "**Plot roc-auc** in order to compare the quality of model on different samples"
   ]
  },
  {
   "cell_type": "code",
   "execution_count": null,
   "metadata": {},
   "outputs": [],
   "source": [
    "roc_auc_plot(model_old, X_train, y_train,\n",
    "                X_oos, y_oos, X_oot, y_oot, ['train', 'oos', 'oot' ])"
   ]
  },
  {
   "cell_type": "markdown",
   "metadata": {
    "deletable": false,
    "editable": false,
    "nbgrader": {
     "cell_type": "markdown",
     "checksum": "264f907722997314a983a1c34544d0b8",
     "grade": false,
     "grade_id": "cell-ada894736e226ee2",
     "locked": true,
     "schema_version": 3,
     "solution": false,
     "task": false
    }
   },
   "source": [
    "We see that the quality of model on oos and oot data is lower than on the train"
   ]
  },
  {
   "cell_type": "markdown",
   "metadata": {
    "deletable": false,
    "editable": false,
    "nbgrader": {
     "cell_type": "markdown",
     "checksum": "3c855a626fdc41a1626522849c2eb6ea",
     "grade": false,
     "grade_id": "cell-2a10254cd269d873",
     "locked": true,
     "schema_version": 3,
     "solution": false,
     "task": false
    }
   },
   "source": [
    "___\n",
    "**Plot benefit curve** to see the dependence between the benefit and acceptance rate "
   ]
  },
  {
   "cell_type": "markdown",
   "metadata": {
    "deletable": false,
    "editable": false,
    "nbgrader": {
     "cell_type": "markdown",
     "checksum": "4783cd8b5f331e9f8119a17c93d8fbd7",
     "grade": false,
     "grade_id": "cell-5bd8401078dfc9da",
     "locked": true,
     "schema_version": 3,
     "solution": false,
     "task": false
    }
   },
   "source": [
    "Simple threshold decision is a level $a$: \n",
    "if $Prob > a$ then some action is undertaken, i.e. $\\hat{𝑌}=1$ and otherwise $\\hat{𝑌}=0$\n"
   ]
  },
  {
   "cell_type": "markdown",
   "metadata": {
    "deletable": false,
    "editable": false,
    "nbgrader": {
     "cell_type": "markdown",
     "checksum": "1bd985359c5f2f339d9b0352790dff01",
     "grade": false,
     "grade_id": "cell-a559266106c4f1b7",
     "locked": true,
     "schema_version": 3,
     "solution": false,
     "task": false
    }
   },
   "source": [
    "**Acceptance rate** $c$ is a percentage of observations that satisfy rule:\n",
    "$$\n",
    "if Prob \\le a, i.e. c = \\frac{\\sum_{i=1}^{N}I\\{Prob_i\\le a\\}}{N}\n",
    "$$"
   ]
  },
  {
   "cell_type": "markdown",
   "metadata": {
    "deletable": false,
    "editable": false,
    "nbgrader": {
     "cell_type": "markdown",
     "checksum": "0d02060a1c1db10d61138ea2871e1101",
     "grade": false,
     "grade_id": "cell-71438844903e3a25",
     "locked": true,
     "schema_version": 3,
     "solution": false,
     "task": false
    }
   },
   "source": [
    "We use the function that is defined above. For each acceptance rate we calculate the benefit:\n",
    "1. Pick threshold level a. Calculate c (x axis)\n",
    "2. Calculate FP and FN for given c\n",
    "3. Weigh FP and FN with error costs (e_FP and e_FN) and plot on y axis\n",
    "4. Reiterate 1-3 from $c = 0$ to $c = 1$"
   ]
  },
  {
   "cell_type": "code",
   "execution_count": null,
   "metadata": {},
   "outputs": [],
   "source": [
    "benefit_plot(model_old, X_train, y_train, X_oos, y_oos, \n",
    "                X_oot, y_oot,['train', 'oos', 'oot' ])"
   ]
  },
  {
   "cell_type": "markdown",
   "metadata": {
    "deletable": false,
    "editable": false,
    "nbgrader": {
     "cell_type": "markdown",
     "checksum": "c064e20be9b3dd7160de25cfac05e105",
     "grade": false,
     "grade_id": "cell-85dbe960ccd5e5ba",
     "locked": true,
     "schema_version": 3,
     "solution": false,
     "task": false
    }
   },
   "source": [
    "##### 4.*Train new model*"
   ]
  },
  {
   "cell_type": "markdown",
   "metadata": {
    "deletable": false,
    "editable": false,
    "nbgrader": {
     "cell_type": "markdown",
     "checksum": "eda80287d9847c9d11f769c8fcb3248b",
     "grade": false,
     "grade_id": "cell-d4cd1959756e4ce5",
     "locked": true,
     "schema_version": 3,
     "solution": false,
     "task": false
    }
   },
   "source": [
    "Define better model with optimized hyperparameters (outside this notebook)\n",
    "\n",
    "You can also train your own more complex model (random forest or gradient-boosting models)"
   ]
  },
  {
   "cell_type": "code",
   "execution_count": null,
   "metadata": {},
   "outputs": [],
   "source": [
    "model_new = LogisticRegression(C=2, fit_intercept=True, max_iter=100,\n",
    "          penalty='l1', random_state=123, solver = 'liblinear',\n",
    "          tol=0.01).fit(X_train, y_train)\n",
    "\n",
    "model_new.fit(X_train, y_train)"
   ]
  },
  {
   "cell_type": "markdown",
   "metadata": {},
   "source": [
    "**Plot roc-auc** in order to compare the quality of model on different samples"
   ]
  },
  {
   "cell_type": "code",
   "execution_count": null,
   "metadata": {},
   "outputs": [],
   "source": [
    "roc_auc_plot(model_new, X_train, y_train,X_oos, y_oos, \n",
    "                X_oot, y_oot, ['train', 'oos', 'oot'])"
   ]
  },
  {
   "cell_type": "markdown",
   "metadata": {},
   "source": [
    "**Plot benefit curve** to see the dependence between the benefit and acceptance rate "
   ]
  },
  {
   "cell_type": "code",
   "execution_count": null,
   "metadata": {},
   "outputs": [],
   "source": [
    "benefit_plot(model_new, X_train, y_train, X_oos, y_oos, \n",
    "                X_oot, y_oot, ['train', 'oos', 'oot'])"
   ]
  },
  {
   "cell_type": "markdown",
   "metadata": {
    "deletable": false,
    "editable": false,
    "nbgrader": {
     "cell_type": "markdown",
     "checksum": "7d9125b3c0ebbeb6ae7b225d62042b4f",
     "grade": false,
     "grade_id": "cell-3f4f9e9dac1735e9",
     "locked": true,
     "schema_version": 3,
     "solution": false,
     "task": false
    }
   },
   "source": [
    "In our example we get that the higher model quality metrics are, the higher is financial result (in general)"
   ]
  },
  {
   "cell_type": "markdown",
   "metadata": {},
   "source": [
    "___"
   ]
  },
  {
   "cell_type": "markdown",
   "metadata": {
    "deletable": false,
    "editable": false,
    "nbgrader": {
     "cell_type": "markdown",
     "checksum": "1dc25aa16c6f589f0d18ceabc4e5604d",
     "grade": false,
     "grade_id": "cell-2dea60b243ba118f",
     "locked": true,
     "schema_version": 3,
     "solution": false,
     "task": false
    }
   },
   "source": [
    "#### 1.Model non-optimal implementation\n",
    "#### Model Risk = Benefit (Optimal Model) - Benefit (Current Model) \n",
    "\n"
   ]
  },
  {
   "cell_type": "markdown",
   "metadata": {
    "deletable": false,
    "editable": false,
    "nbgrader": {
     "cell_type": "markdown",
     "checksum": "65cb63d358170c6fb4f1026b22741d60",
     "grade": false,
     "grade_id": "cell-2673f42a02341e64",
     "locked": true,
     "schema_version": 3,
     "solution": false,
     "task": false
    }
   },
   "source": [
    "current cut-off = 0.1"
   ]
  },
  {
   "cell_type": "code",
   "execution_count": null,
   "metadata": {},
   "outputs": [],
   "source": [
    "plt.figure(figsize=(10,8))\n",
    "\n",
    "colors = ['salmon']\n",
    "labels_m = ['Old model']\n",
    "\n",
    "\n",
    "val_oos = [] \n",
    "ar_oos = []\n",
    "\n",
    "y_oos_ = model_old.predict_proba(X_oos)[:, 1]\n",
    "\n",
    "for t in thr:\n",
    "    CM_oos = confusion_matrix(y_oos, (y_oos_ > t)*1.)  \n",
    "    ar_oos.append((len(y_oos) - np.sum((y_oos_ > t)*1.)) / len(y_oos_))\n",
    "    val_oos.append(CM_oos[0][0] * e_fp - CM_oos[1][0] * e_fn)\n",
    "\n",
    "plt.plot(ar_oos, val_oos, label = 'Current Model' , color = 'salmon', linewidth=2) \n",
    "\n",
    "## OPTIMAL CUT-OFF\n",
    "plt.plot(ar_oos[np.argmax(val_oos)], np.max(val_oos), color = 'red', marker='*', markersize=15)\n",
    "optimal_benefit = np.max(val_oos)    \n",
    "\n",
    "## Current cut-off\n",
    "t = 0.1\n",
    "\n",
    "\n",
    "y_oos_ = model_old.predict_proba(X_oos)[:, 1]\n",
    "\n",
    "CM_oos = confusion_matrix(y_oos, (y_oos_ > t)*1.)  \n",
    "ar_oos = ((len(y_oos) - np.sum((y_oos_ > t)*1.)) / len(y_oos_))\n",
    "val_oos = (CM_oos[0][0] * e_fp - CM_oos[1][0] * e_fn)\n",
    "\n",
    "## CURRENT CUT-OFF\n",
    "plt.plot(ar_oos, val_oos, color = 'black', marker='*', markersize=12)\n",
    "cutrrent_benefit = val_oos       \n",
    "    \n",
    "plt.xlabel('Acceptance rate')\n",
    "plt.ylabel('Benefit')\n",
    "plt.title('Benefit curve ')\n",
    "plt.legend(bbox_to_anchor=(1, 1));\n",
    "\n",
    "plt.grid()\n",
    "_ = plt.legend(loc= 0, prop= {'size': 16})\n",
    "\n",
    "print('Model Risk = Benefit(Optimal Model Usage) - Benefit(Current Model Usage) = ', optimal_benefit - cutrrent_benefit) \n"
   ]
  },
  {
   "cell_type": "markdown",
   "metadata": {
    "deletable": false,
    "editable": false,
    "nbgrader": {
     "cell_type": "markdown",
     "checksum": "e41bfa471ee9a2bf3212cdce02185208",
     "grade": false,
     "grade_id": "cell-ba42e80bf5f9c709",
     "locked": true,
     "schema_version": 3,
     "solution": false,
     "task": false
    }
   },
   "source": [
    "##### 2. Ignoring better model\n",
    "#### Model Risk = Benefit (Better Model) - Benefit (Current Model)"
   ]
  },
  {
   "cell_type": "code",
   "execution_count": null,
   "metadata": {},
   "outputs": [],
   "source": [
    "#this code duplicates the code from benefit_plot for two models\n",
    "plt.figure(figsize=(10,8))\n",
    "\n",
    "colors = ['salmon', 'olivedrab']\n",
    "labels_m = ['New model', 'Old model']\n",
    "\n",
    "max_val = []\n",
    "for it, model in enumerate([model_new, model_old]):\n",
    "    val_oos = [] \n",
    "    ar_oos = []\n",
    "\n",
    "    y_oos_ = model.predict_proba(X_oos)[:, 1]\n",
    "\n",
    "    for t in thr:\n",
    "\n",
    "        CM_oos = confusion_matrix(y_oos, (y_oos_ > t)*1.)  \n",
    "        ar_oos.append((len(y_oos) - np.sum((y_oos_ > t)*1.)) / len(y_oos_))\n",
    "        val_oos.append(CM_oos[0][0] * e_fp - CM_oos[1][0] * e_fn)\n",
    "\n",
    "\n",
    "    plt.plot(ar_oos, val_oos, label = labels_m[it] + ' oos', color = colors[it], linewidth=2) \n",
    "    plt.plot(ar_oos[np.argmax(val_oos)], np.max(val_oos), color = colors[it], marker='*', markersize=10)\n",
    "    max_val.append(np.max(val_oos))\n",
    "\n",
    "plt.xlabel('Acceptance rate')\n",
    "plt.ylabel('Benefit')\n",
    "plt.title('Benefit curve ')\n",
    "plt.legend(bbox_to_anchor=(1, 1));\n",
    "\n",
    "plt.grid()\n",
    "_ = plt.legend(loc= 0, prop= {'size': 16})\n",
    "\n",
    "print(\n",
    "    'Model Risk = Benefit(Better Model | Optimal Usage) -  Benefit(Current Mode | Optimal Usage)) = ', \n",
    "    np.round(max_val[0] - max_val[1],1)\n",
    ") "
   ]
  },
  {
   "cell_type": "markdown",
   "metadata": {
    "deletable": false,
    "editable": false,
    "nbgrader": {
     "cell_type": "markdown",
     "checksum": "b6ef71150cd65d6617c3d5930c69510b",
     "grade": false,
     "grade_id": "cell-87d3c26fbc4fb2c3",
     "locked": true,
     "schema_version": 3,
     "solution": false,
     "task": false
    }
   },
   "source": [
    "##### 3.*We have out-of-time sample to check model quality*\n",
    "#### Model Risk = Benefit (Current Model) - Benefit (Model Decay)"
   ]
  },
  {
   "cell_type": "code",
   "execution_count": null,
   "metadata": {},
   "outputs": [],
   "source": [
    "roc_auc_plot(model_old, X_train, y_train, X_oos, y_oos,\n",
    "                X_oot, y_oot, ['oos', 'oot'])"
   ]
  },
  {
   "cell_type": "code",
   "execution_count": null,
   "metadata": {},
   "outputs": [],
   "source": [
    "#this code duplicates the code from benefit_plot for two models\n",
    "plt.figure(figsize=(10,8))\n",
    "\n",
    "colors = ['salmon', 'olivedrab']\n",
    "labels_m = ['New model', 'Old model']\n",
    "\n",
    "max_val = []\n",
    "\n",
    "val_oos = [] \n",
    "ar_oos = []\n",
    "val_oot = [] \n",
    "ar_oot = []\n",
    "\n",
    "\n",
    "y_oos_ = model_old.predict_proba(X_oos)[:, 1]\n",
    "y_oot_ = model_old.predict_proba(X_oot)[:, 1]\n",
    "\n",
    "for t in thr:\n",
    "\n",
    "    CM_oos = confusion_matrix(y_oos, (y_oos_ > t)*1.)  \n",
    "    ar_oos.append((len(y_oos) - np.sum((y_oos_ > t)*1.)) / len(y_oos_))\n",
    "    val_oos.append(CM_oos[0][0] * e_fp - CM_oos[1][0] * e_fn)\n",
    "\n",
    "    CM_oot = confusion_matrix(y_oot, (y_oot_ > t)*1.)  \n",
    "    ar_oot.append((len(y_oot) - np.sum((y_oot_ > t)*1.)) / len(y_oot_))\n",
    "    val_oot.append(CM_oot[0][0] * e_fp - CM_oot[1][0] * e_fn)\n",
    "\n",
    "\n",
    "\n",
    "plt.plot(ar_oos, val_oos, label = 'Now', color = 'salmon', linewidth=2) \n",
    "plt.plot(ar_oos[np.argmax(val_oos)], np.max(val_oos), color = 'salmon', marker='*', markersize=12)\n",
    "\n",
    "plt.plot(ar_oot, val_oot, label = 'In 1 Year' , color = 'olivedrab', linewidth=2) \n",
    "plt.plot(ar_oot[np.argmax(val_oot)], np.max(val_oot), color = 'olivedrab', marker='*', markersize=12)\n",
    "\n",
    "plt.xlabel('Acceptance rate')\n",
    "plt.ylabel('Benefit')\n",
    "plt.title('Benefit curve ')\n",
    "plt.legend(bbox_to_anchor=(1, 1));\n",
    "\n",
    "plt.grid()\n",
    "_ = plt.legend(loc= 0, prop= {'size': 16})\n",
    "\n",
    "print(\"Benefit Current Model {:.1f}\".format(val_oos[np.argmax(val_oos)]))\n",
    "print(\"Benefit Decayed Model {:.1f}\".format(val_oos[np.argmax(val_oot)]))\n",
    "\n",
    "print('Model Risk = Benefit(Current Model) -  Benefit(Decay Model) = ',\n",
    "      val_oos[np.argmax(val_oos)] - val_oos[np.argmax(val_oot)])"
   ]
  },
  {
   "cell_type": "markdown",
   "metadata": {
    "deletable": false,
    "editable": false,
    "nbgrader": {
     "cell_type": "markdown",
     "checksum": "3bebe484c39c149d9df698bfec0b792c",
     "grade": false,
     "grade_id": "cell-720f790b78a44f1b",
     "locked": true,
     "schema_version": 3,
     "solution": false,
     "task": false
    }
   },
   "source": [
    "## Model risk"
   ]
  },
  {
   "cell_type": "code",
   "execution_count": null,
   "metadata": {},
   "outputs": [],
   "source": [
    "plt.figure(figsize=(10,8))\n",
    "\n",
    "val_oos = [] \n",
    "ar_oos = []\n",
    "val_oot = [] \n",
    "ar_oot = []\n",
    "val_oos_alt = [] \n",
    "ar_oos_alt = []\n",
    "\n",
    "y_oos_ = model_old.predict_proba(X_oos)[:, 1]\n",
    "y_oot_ = model_old.predict_proba(X_oot)[:, 1]\n",
    "y_oos_alt_ = model_new.predict_proba(X_oos)[:, 1]\n",
    "y_oot_alt_ = model_new.predict_proba(X_oot)[:, 1]\n",
    "\n",
    "\n",
    "for t in thr:\n",
    "\n",
    "    CM_oos = confusion_matrix(y_oos, (y_oos_ > t)*1.)  \n",
    "    ar_oos.append((len(y_oos) - np.sum((y_oos_ > t)*1.)) / len(y_oos_))\n",
    "    val_oos.append(CM_oos[0][0] * e_fp - CM_oos[1][0] * e_fn)\n",
    "\n",
    "    CM_oot = confusion_matrix(y_oot, (y_oot_ > t)*1.)  \n",
    "    ar_oot.append((len(y_oot) - np.sum((y_oot_ > t)*1.)) / len(y_oot_))\n",
    "    val_oot.append(CM_oot[0][0] * e_fp - CM_oot[1][0] * e_fn)\n",
    "\n",
    "    CM_oos_alt = confusion_matrix(y_oos, (y_oos_alt_ > t)*1.)  \n",
    "    ar_oos_alt.append((len(y_oos) - np.sum((y_oos_alt_ > t)*1.)) / len(y_oos_alt_))\n",
    "    val_oos_alt.append(CM_oos_alt[0][0] * e_fp - CM_oos_alt[1][0] * e_fn)\n",
    "\n",
    "\n",
    "plt.plot(ar_oos, val_oos, color = 'salmon', linewidth=2) \n",
    "plt.plot(ar_oos[np.argmax(val_oos)], np.max(val_oos), color = 'salmon', marker='*', markersize=12, \n",
    "         label = 'A - optimal model')\n",
    "\n",
    "plt.plot(ar_oot, val_oot, color = 'olivedrab', linewidth=2) \n",
    "plt.plot(ar_oot[np.argmax(val_oot)], np.max(val_oot), color = 'olivedrab', marker='*', markersize=12,\n",
    "        label = 'B - model decay')\n",
    "\n",
    "plt.plot(ar_oos_alt, val_oos_alt, color = 'deepskyblue', linewidth=2) \n",
    "plt.plot(ar_oos_alt[np.argmax(val_oos_alt)], np.max(val_oos_alt), color = 'deepskyblue', marker='*', markersize=12,\n",
    "        label = 'C - better model')\n",
    "\n",
    "\n",
    "## Current cut-off\n",
    "t = 0.1\n",
    "\n",
    "y_oos_ = model_old.predict_proba(X_oos)[:, 1]\n",
    "\n",
    "CM_oos_sub = confusion_matrix(y_oos, (y_oos_ > t)*1.)  \n",
    "ar_oos_sub = ((len(y_oos) - np.sum((y_oos_ > t)*1.)) / len(y_oos_))\n",
    "val_oos_sub = (CM_oos_sub[0][0] * e_fp - CM_oos_sub[1][0] * e_fn)\n",
    "\n",
    "## CURRENT CUT-OFF\n",
    "plt.plot(ar_oos_sub, val_oos_sub, color = 'black', marker='*', markersize=12,\n",
    "        label = 'D - current model')\n",
    "cutrrent_benefit = val_oos_sub       \n",
    "    \n",
    "\n",
    "plt.xlabel('Acceptance rate')\n",
    "plt.ylabel('Benefit')\n",
    "plt.title('Benefit curve ')\n",
    "plt.legend(bbox_to_anchor=(1, 1));\n",
    "\n",
    "plt.grid()\n",
    "_ = plt.legend(loc= 0, prop= {'size': 16})"
   ]
  },
  {
   "cell_type": "markdown",
   "metadata": {
    "deletable": false,
    "editable": false,
    "nbgrader": {
     "cell_type": "markdown",
     "checksum": "982126bea0c19c3c6a22de12648d0dbb",
     "grade": false,
     "grade_id": "cell-e75ae5ac78ad2a9b",
     "locked": true,
     "schema_version": 3,
     "solution": false,
     "task": false
    },
    "tags": []
   },
   "source": [
    "# Model Risk:\n",
    "   ## Model Decay = A - B\n",
    "   ## Better Model = C - A\n",
    "   ## Optimal model = A - D"
   ]
  },
  {
   "cell_type": "markdown",
   "metadata": {
    "deletable": false,
    "editable": false,
    "nbgrader": {
     "cell_type": "markdown",
     "checksum": "9672a2bbefd6637c2cccae8b8cc13142",
     "grade": false,
     "grade_id": "cell-0931f60c16ce16cc",
     "locked": true,
     "schema_version": 3,
     "solution": false,
     "task": false
    }
   },
   "source": [
    "### Task 1 \n",
    "#### Calculate *Model Risk* for all components and sum of total model risk\n",
    "1. Model non-optimal implementation\n",
    "2. Ignoring better model\n",
    "3. Model degradation"
   ]
  },
  {
   "cell_type": "code",
   "execution_count": null,
   "metadata": {
    "deletable": false,
    "nbgrader": {
     "cell_type": "code",
     "checksum": "91b94600759ddd22230a7d802c4634b4",
     "grade": false,
     "grade_id": "cell-4912d60414dea35f",
     "locked": false,
     "schema_version": 3,
     "solution": true,
     "task": false
    }
   },
   "outputs": [],
   "source": [
    "# your code here\n",
    "model_risk_non_optimal = np.max(val_oos) - val_oos_sub  # A - D\n",
    "model_risk_better_model = np.max(val_oos_alt) - np.max(val_oos)  # C -A\n",
    "model_risk_degradation = np.max(val_oos) - val_oos[np.argmax(val_oot)]\n",
    "\n",
    "print(\"Model Risk - Non Optimal Usage: {:.1f}\".format(model_risk_non_optimal))\n",
    "print(\"Model Risk - Non Optimal Model: {:.1f}\".format(model_risk_better_model))\n",
    "print(\"Model Risk - Degradation: {:.1f}\".format(model_risk_degradation))\n",
    "\n",
    "model_risk_total = model_risk_non_optimal + model_risk_better_model + model_risk_degradation\n",
    "\n",
    "print(\"Model Risk - Total: {:.1f}\".format(model_risk_total))\n",
    "\n",
    "# your code here\n"
   ]
  },
  {
   "cell_type": "code",
   "execution_count": null,
   "metadata": {
    "deletable": false,
    "editable": false,
    "nbgrader": {
     "cell_type": "code",
     "checksum": "f91ce29a6b5f0e4f9f04beebeae9830d",
     "grade": true,
     "grade_id": "cell-93915cee3382238c",
     "locked": true,
     "points": 1,
     "schema_version": 3,
     "solution": false,
     "task": false
    }
   },
   "outputs": [],
   "source": []
  },
  {
   "cell_type": "markdown",
   "metadata": {},
   "source": [
    "### Task 2 \n",
    "#### Calculate *gini metrics* for oos and oot samples new model \n",
    "#### Calculate *gini metrics degradation* for  new model \n"
   ]
  },
  {
   "cell_type": "code",
   "execution_count": null,
   "metadata": {
    "deletable": false,
    "nbgrader": {
     "cell_type": "code",
     "checksum": "3454a0f24903af1d4923eec697e61ea2",
     "grade": false,
     "grade_id": "cell-e9e54cbe37332f23",
     "locked": false,
     "schema_version": 3,
     "solution": true,
     "task": false
    }
   },
   "outputs": [],
   "source": [
    "# your code here \n",
    "\n",
    "oos_gini_new_model = 2 * roc_auc_score(y_oos, y_oos_alt_) - 1\n",
    "oot_gini_new_model =  2 * roc_auc_score(y_oot, y_oot_alt_) - 1\n",
    "gini_degradation = oos_gini_new_model - oot_gini_new_model\n",
    "\n",
    "print(\"Gini - New Model - OOS: {:.2%}\".format(oos_gini_new_model))\n",
    "print(\"Gini - New Model - OOT: {:.2%}\".format(oot_gini_new_model))\n",
    "print(\"Gini - New Model - Delta(OOS, OOT): {:.2%}\".format(gini_degradation))\n",
    "\n",
    "# your code here\n"
   ]
  },
  {
   "cell_type": "code",
   "execution_count": null,
   "metadata": {
    "deletable": false,
    "editable": false,
    "nbgrader": {
     "cell_type": "code",
     "checksum": "9547cb20920433b039a7a540dd40a382",
     "grade": true,
     "grade_id": "cell-20cba533532cb3ad",
     "locked": true,
     "points": 1,
     "schema_version": 3,
     "solution": false,
     "task": false
    }
   },
   "outputs": [],
   "source": []
  },
  {
   "cell_type": "markdown",
   "metadata": {
    "deletable": false,
    "editable": false,
    "nbgrader": {
     "cell_type": "markdown",
     "checksum": "9009f0a0ae36d34cb0967f32a1fd4745",
     "grade": false,
     "grade_id": "cell-4d8234ebfbde2041",
     "locked": true,
     "schema_version": 3,
     "solution": false,
     "task": false
    }
   },
   "source": [
    "### Task 3 \n",
    "__Write the__ `benefit_2mod_diff` to find a difference between the benefit for two models (under conditions of a same cutoff). Find a difference between the benefit:\n",
    "1. at $cut\\_off = 0.01$\n",
    "2. at $cut\\_off = 0.05$"
   ]
  },
  {
   "cell_type": "code",
   "execution_count": null,
   "metadata": {
    "deletable": false,
    "nbgrader": {
     "cell_type": "code",
     "checksum": "1d3c2d03b506ddad50cf480672b4de02",
     "grade": false,
     "grade_id": "cell-1f4e40750b1ad660",
     "locked": false,
     "schema_version": 3,
     "solution": true,
     "task": false
    }
   },
   "outputs": [],
   "source": [
    "# your code here\n",
    "def benefit_2mod_diff(model_new, model_old, X_oos, t):\n",
    "        \n",
    "    y_new_oos_ = model_new.predict_proba(X_oos)[:, 1]\n",
    "    y_old_oos_ = model_old.predict_proba(X_oos)[:, 1]\n",
    "\n",
    "\n",
    "    CM_new = confusion_matrix(y_oos, (y_new_oos_ > t)*1.)  \n",
    "    CM_old = confusion_matrix(y_oos, (y_old_oos_ > t)*1.)  \n",
    "\n",
    "    # YOUR CODE\n",
    "    benefit_new_model = (CM_new[0][0] * e_fp - CM_new[1][0] * e_fn)\n",
    "    benefit_old_model = (CM_old[0][0] * e_fp - CM_old[1][0] * e_fn)\n",
    "    ######\n",
    "\n",
    "    return(benefit_new_model - benefit_old_model)\n",
    "\n",
    "diff_001 = benefit_2mod_diff(model_new, model_old, X_oos, t=0.01)\n",
    "diff_005 = benefit_2mod_diff(model_new, model_old, X_oos, t=0.05)\n",
    "\n",
    "print(\"Diff. at threshold 0.01: {:.1f}\".format(diff_001))\n",
    "print(\"Diff. at threshold 0.05: {:.1f}\".format(diff_005))\n",
    "\n",
    "\n",
    "# your code here\n"
   ]
  },
  {
   "cell_type": "code",
   "execution_count": null,
   "metadata": {
    "deletable": false,
    "editable": false,
    "nbgrader": {
     "cell_type": "code",
     "checksum": "b38a96a9ad9b7dc9f200fe12d97ac3d7",
     "grade": true,
     "grade_id": "cell-35ace0a7e758b9c2",
     "locked": true,
     "points": 2,
     "schema_version": 3,
     "solution": false,
     "task": false
    }
   },
   "outputs": [],
   "source": []
  }
 ],
 "metadata": {
  "kernelspec": {
   "display_name": "Python 3 (ipykernel)",
   "language": "python",
   "name": "python3"
  },
  "language_info": {
   "codemirror_mode": {
    "name": "ipython",
    "version": 3
   },
   "file_extension": ".py",
   "mimetype": "text/x-python",
   "name": "python",
   "nbconvert_exporter": "python",
   "pygments_lexer": "ipython3",
   "version": "3.8.10"
  }
 },
 "nbformat": 4,
 "nbformat_minor": 4
}
