{
 "cells": [
  {
   "cell_type": "markdown",
   "id": "e847a1b2-ecc8-43c8-8e45-f1d28fea40cc",
   "metadata": {},
   "source": [
    "# Question 1\n",
    "\n",
    "What is a model risk?\n",
    "\n",
    "- [X] Risk of adverse consequences due to the use of models in business production"
   ]
  },
  {
   "cell_type": "markdown",
   "id": "085ff791-6045-4223-bc94-d7784b109fa9",
   "metadata": {},
   "source": [
    "# Question 2\n",
    "\n",
    "The logistic regression model predicts the likelihood of clients going into default and is used in the loan approval process. Which is not a case of model risk for such a model? correct statement:\n",
    "\n",
    "- [X] Model has shown FN error rate close to the one at training stage"
   ]
  },
  {
   "cell_type": "markdown",
   "id": "0838d477-338c-460a-b119-c70a7c5c672b",
   "metadata": {},
   "source": [
    "# Question 3\n",
    "\n",
    "The estimated financial effect when using the current model is $100 per year. However, there is an alternative model of higher quality. The estimated financial effect from its use is $120 per year but this model is not deployed due to some reason. What is value of model risk in this case?\n",
    "\n",
    "120 - 100 -> 20"
   ]
  },
  {
   "cell_type": "markdown",
   "id": "2e9d9d17-32c8-42f8-bbcc-5b43e38c96d0",
   "metadata": {},
   "source": [
    "# Question 4\n",
    "\n",
    "How would you evaluate the model risk due to model quality deterioration for models that are updated online using the most recent data?\n",
    "\n",
    "- [X] Zero"
   ]
  },
  {
   "cell_type": "markdown",
   "id": "5d63a5d0-7e66-4482-bcd2-abbd1c1f66f7",
   "metadata": {},
   "source": [
    "# Question 5\n",
    "\n",
    "In order to estimate the expected and unexpected deterioration of model quality, we use bootstrap to build the model quality distribution. The initial sample size = N. How are samples extracted during bootstrap?\n",
    "\n",
    "- [X] Samples of the same size as the original are extracted with replacement"
   ]
  },
  {
   "cell_type": "markdown",
   "id": "ed77524d-f799-4056-ab18-ae74eb244ce4",
   "metadata": {},
   "source": [
    "# Question 6\n",
    "\n",
    "There is a model quality distribution. Which quantile of this distribution shows us unexpectedly bad outcome? And which metrics do we use for expected outcome?\n",
    "\n",
    "- [X] Unexpectedly bad -> 1% lower quantile; expected -> mean"
   ]
  },
  {
   "cell_type": "markdown",
   "id": "0205f709-cec1-4c06-ac25-e9c923a2408c",
   "metadata": {},
   "source": [
    "# Question 7\n",
    "\n",
    "What research needs to be done to calculate the model risk component connected with incorrect use of the model?\n",
    "\n",
    "- [X] Apply an erroneous and corrected model to historical data and compare the financial effect estimates"
   ]
  },
  {
   "cell_type": "markdown",
   "id": "2fb9af64-27a8-4510-aaa5-359cd2cd4ca3",
   "metadata": {
    "jp-MarkdownHeadingCollapsed": true,
    "tags": []
   },
   "source": [
    "# Question 8\n",
    "\n",
    "While developing the response model, out-of-time sampling was used. The training sample contains information about communications from January 2019 to December 2019. \n",
    "\n",
    "The out-of-time sample contains information about communications within January 2020 ⎯ March 2020 and model quality metrics is 3% lower. \n",
    "\n",
    "Perform the simplest extrapolation to calculate the expected model quality decrease by December 2020\n",
    "\n",
    "- [X] 12"
   ]
  },
  {
   "cell_type": "markdown",
   "id": "90a01a29-c5df-406d-b48f-83d6d13a3c9f",
   "metadata": {
    "tags": []
   },
   "source": [
    "# Question 9\n",
    "\n",
    "Question 9\n",
    "\n",
    "Suppose that when model quality decreases by 1%, financial benefit decreases by $10. \n",
    "\n",
    "The expected decrease in model quality is 2% per month. \n",
    "\n",
    "What is the simplest estimate of model risk component connected with model quality deterioration within a year?\n",
    "\n",
    "- [X] 240"
   ]
  },
  {
   "cell_type": "markdown",
   "id": "e12268ec-3551-4b71-9195-a605acb4d596",
   "metadata": {
    "tags": []
   },
   "source": [
    "# Question 10\n",
    "\n",
    "Suppose, a model has been developed and deployed in production environment. \n",
    "\n",
    "The model is planned to be used for 5 years without updating. Total expected benefit from its implementation during 5 years is $1000. \n",
    "\n",
    "However, there is an evidence that the model quality is going to decrease by 5% each year. When model quality decreases by 1%, financial effect decreases by $20. \n",
    "\n",
    "What will be net expected benefit, taking into account the model risk?"
   ]
  },
  {
   "cell_type": "code",
   "execution_count": null,
   "id": "ec862141-e520-4d06-bcbb-70568592d7d2",
   "metadata": {},
   "outputs": [],
   "source": [
    "# This answer is wrong\n",
    "\n",
    "benefit_per_year = [200]*5\n",
    "degradation_rate_perc = 5\n",
    "sensitivity = 20  # dollars\n",
    "\n",
    "benefit_per_year_with_degrad = [x - degradation_rate_perc*idx*sensitivity for idx, x in enumerate(benefit_per_year)]\n",
    "\n",
    "print(f\"Benefit with no degradation {sum(benefit_per_year)}\")\n",
    "print(f\"Benefit with degradation {sum(benefit_per_year_with_degrad)}\")"
   ]
  }
 ],
 "metadata": {
  "kernelspec": {
   "display_name": "Python 3 (ipykernel)",
   "language": "python",
   "name": "python3"
  },
  "language_info": {
   "codemirror_mode": {
    "name": "ipython",
    "version": 3
   },
   "file_extension": ".py",
   "mimetype": "text/x-python",
   "name": "python",
   "nbconvert_exporter": "python",
   "pygments_lexer": "ipython3",
   "version": "3.8.10"
  }
 },
 "nbformat": 4,
 "nbformat_minor": 5
}
