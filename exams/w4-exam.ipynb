{
 "cells": [
  {
   "cell_type": "markdown",
   "metadata": {
    "deletable": false,
    "editable": false,
    "nbgrader": {
     "cell_type": "markdown",
     "checksum": "7ad98880717e00d308cc46162bc19bbc",
     "grade": false,
     "grade_id": "cell-4f20e370fbf6490c",
     "locked": true,
     "schema_version": 3,
     "solution": false,
     "task": false
    }
   },
   "source": [
    "## Week 4\n",
    "### AB-testing"
   ]
  },
  {
   "cell_type": "markdown",
   "metadata": {
    "deletable": false,
    "editable": false,
    "nbgrader": {
     "cell_type": "markdown",
     "checksum": "ae4f10d7bd35d9381b018dbcee37efbb",
     "grade": false,
     "grade_id": "cell-b42fb38d3ab147b0",
     "locked": true,
     "schema_version": 3,
     "solution": false,
     "task": false
    }
   },
   "source": [
    "In this jupyter-notebook we will learn how check A/B-test result"
   ]
  },
  {
   "cell_type": "code",
   "execution_count": 1,
   "metadata": {},
   "outputs": [],
   "source": [
    "import pandas as pd\n",
    "import numpy as np\n",
    "import scipy.stats as stats"
   ]
  },
  {
   "cell_type": "code",
   "execution_count": 2,
   "metadata": {},
   "outputs": [],
   "source": [
    "df_a = pd.read_csv('../data/ab-testing/data_ab_res_a.csv')\n",
    "df_b = pd.read_csv('../data/ab-testing/data_ab_res_b.csv')"
   ]
  },
  {
   "cell_type": "markdown",
   "metadata": {
    "deletable": false,
    "editable": false,
    "nbgrader": {
     "cell_type": "markdown",
     "checksum": "4487a79c7a3ec316e6a2043cab6a12eb",
     "grade": false,
     "grade_id": "cell-ba8cc7a7ce80f61a",
     "locked": true,
     "schema_version": 3,
     "solution": false,
     "task": false
    }
   },
   "source": [
    "`Group A`- communicate with clients according new better model\n",
    "`Group B` - communicate with clients according old model"
   ]
  },
  {
   "cell_type": "code",
   "execution_count": 3,
   "metadata": {},
   "outputs": [
    {
     "data": {
      "text/html": [
       "<div>\n",
       "<style scoped>\n",
       "    .dataframe tbody tr th:only-of-type {\n",
       "        vertical-align: middle;\n",
       "    }\n",
       "\n",
       "    .dataframe tbody tr th {\n",
       "        vertical-align: top;\n",
       "    }\n",
       "\n",
       "    .dataframe thead th {\n",
       "        text-align: right;\n",
       "    }\n",
       "</style>\n",
       "<table border=\"1\" class=\"dataframe\">\n",
       "  <thead>\n",
       "    <tr style=\"text-align: right;\">\n",
       "      <th></th>\n",
       "      <th>age</th>\n",
       "      <th>job_admin.</th>\n",
       "      <th>job_blue-collar</th>\n",
       "      <th>job_entrepreneur</th>\n",
       "      <th>job_housemaid</th>\n",
       "      <th>job_management</th>\n",
       "      <th>job_retired</th>\n",
       "      <th>job_self-employed</th>\n",
       "      <th>job_services</th>\n",
       "      <th>job_student</th>\n",
       "      <th>...</th>\n",
       "      <th>education_professional.course</th>\n",
       "      <th>education_university.degree</th>\n",
       "      <th>education_unknown</th>\n",
       "      <th>housing_no</th>\n",
       "      <th>housing_unknown</th>\n",
       "      <th>housing_yes</th>\n",
       "      <th>loan_no</th>\n",
       "      <th>loan_unknown</th>\n",
       "      <th>loan_yes</th>\n",
       "      <th>target</th>\n",
       "    </tr>\n",
       "  </thead>\n",
       "  <tbody>\n",
       "    <tr>\n",
       "      <th>0</th>\n",
       "      <td>35</td>\n",
       "      <td>1.0</td>\n",
       "      <td>0.0</td>\n",
       "      <td>0.0</td>\n",
       "      <td>0.0</td>\n",
       "      <td>0.0</td>\n",
       "      <td>0.0</td>\n",
       "      <td>0.0</td>\n",
       "      <td>0.0</td>\n",
       "      <td>0.0</td>\n",
       "      <td>...</td>\n",
       "      <td>0.0</td>\n",
       "      <td>1.0</td>\n",
       "      <td>0.0</td>\n",
       "      <td>0.0</td>\n",
       "      <td>0.0</td>\n",
       "      <td>1.0</td>\n",
       "      <td>1.0</td>\n",
       "      <td>0.0</td>\n",
       "      <td>0.0</td>\n",
       "      <td>1.0</td>\n",
       "    </tr>\n",
       "    <tr>\n",
       "      <th>1</th>\n",
       "      <td>36</td>\n",
       "      <td>1.0</td>\n",
       "      <td>0.0</td>\n",
       "      <td>0.0</td>\n",
       "      <td>0.0</td>\n",
       "      <td>0.0</td>\n",
       "      <td>0.0</td>\n",
       "      <td>0.0</td>\n",
       "      <td>0.0</td>\n",
       "      <td>0.0</td>\n",
       "      <td>...</td>\n",
       "      <td>0.0</td>\n",
       "      <td>0.0</td>\n",
       "      <td>0.0</td>\n",
       "      <td>1.0</td>\n",
       "      <td>0.0</td>\n",
       "      <td>0.0</td>\n",
       "      <td>1.0</td>\n",
       "      <td>0.0</td>\n",
       "      <td>0.0</td>\n",
       "      <td>1.0</td>\n",
       "    </tr>\n",
       "    <tr>\n",
       "      <th>2</th>\n",
       "      <td>63</td>\n",
       "      <td>0.0</td>\n",
       "      <td>0.0</td>\n",
       "      <td>0.0</td>\n",
       "      <td>0.0</td>\n",
       "      <td>0.0</td>\n",
       "      <td>1.0</td>\n",
       "      <td>0.0</td>\n",
       "      <td>0.0</td>\n",
       "      <td>0.0</td>\n",
       "      <td>...</td>\n",
       "      <td>0.0</td>\n",
       "      <td>0.0</td>\n",
       "      <td>0.0</td>\n",
       "      <td>1.0</td>\n",
       "      <td>0.0</td>\n",
       "      <td>0.0</td>\n",
       "      <td>1.0</td>\n",
       "      <td>0.0</td>\n",
       "      <td>0.0</td>\n",
       "      <td>1.0</td>\n",
       "    </tr>\n",
       "    <tr>\n",
       "      <th>3</th>\n",
       "      <td>30</td>\n",
       "      <td>0.0</td>\n",
       "      <td>0.0</td>\n",
       "      <td>0.0</td>\n",
       "      <td>0.0</td>\n",
       "      <td>0.0</td>\n",
       "      <td>0.0</td>\n",
       "      <td>0.0</td>\n",
       "      <td>0.0</td>\n",
       "      <td>0.0</td>\n",
       "      <td>...</td>\n",
       "      <td>0.0</td>\n",
       "      <td>1.0</td>\n",
       "      <td>0.0</td>\n",
       "      <td>0.0</td>\n",
       "      <td>0.0</td>\n",
       "      <td>1.0</td>\n",
       "      <td>1.0</td>\n",
       "      <td>0.0</td>\n",
       "      <td>0.0</td>\n",
       "      <td>1.0</td>\n",
       "    </tr>\n",
       "    <tr>\n",
       "      <th>4</th>\n",
       "      <td>33</td>\n",
       "      <td>0.0</td>\n",
       "      <td>0.0</td>\n",
       "      <td>0.0</td>\n",
       "      <td>0.0</td>\n",
       "      <td>0.0</td>\n",
       "      <td>0.0</td>\n",
       "      <td>0.0</td>\n",
       "      <td>1.0</td>\n",
       "      <td>0.0</td>\n",
       "      <td>...</td>\n",
       "      <td>0.0</td>\n",
       "      <td>0.0</td>\n",
       "      <td>0.0</td>\n",
       "      <td>1.0</td>\n",
       "      <td>0.0</td>\n",
       "      <td>0.0</td>\n",
       "      <td>0.0</td>\n",
       "      <td>0.0</td>\n",
       "      <td>1.0</td>\n",
       "      <td>1.0</td>\n",
       "    </tr>\n",
       "  </tbody>\n",
       "</table>\n",
       "<p>5 rows × 32 columns</p>\n",
       "</div>"
      ],
      "text/plain": [
       "   age  job_admin.  job_blue-collar  job_entrepreneur  job_housemaid  \\\n",
       "0   35         1.0              0.0               0.0            0.0   \n",
       "1   36         1.0              0.0               0.0            0.0   \n",
       "2   63         0.0              0.0               0.0            0.0   \n",
       "3   30         0.0              0.0               0.0            0.0   \n",
       "4   33         0.0              0.0               0.0            0.0   \n",
       "\n",
       "   job_management  job_retired  job_self-employed  job_services  job_student  \\\n",
       "0             0.0          0.0                0.0           0.0          0.0   \n",
       "1             0.0          0.0                0.0           0.0          0.0   \n",
       "2             0.0          1.0                0.0           0.0          0.0   \n",
       "3             0.0          0.0                0.0           0.0          0.0   \n",
       "4             0.0          0.0                0.0           1.0          0.0   \n",
       "\n",
       "   ...  education_professional.course  education_university.degree  \\\n",
       "0  ...                            0.0                          1.0   \n",
       "1  ...                            0.0                          0.0   \n",
       "2  ...                            0.0                          0.0   \n",
       "3  ...                            0.0                          1.0   \n",
       "4  ...                            0.0                          0.0   \n",
       "\n",
       "   education_unknown  housing_no  housing_unknown  housing_yes  loan_no  \\\n",
       "0                0.0         0.0              0.0          1.0      1.0   \n",
       "1                0.0         1.0              0.0          0.0      1.0   \n",
       "2                0.0         1.0              0.0          0.0      1.0   \n",
       "3                0.0         0.0              0.0          1.0      1.0   \n",
       "4                0.0         1.0              0.0          0.0      0.0   \n",
       "\n",
       "   loan_unknown  loan_yes  target  \n",
       "0           0.0       0.0     1.0  \n",
       "1           0.0       0.0     1.0  \n",
       "2           0.0       0.0     1.0  \n",
       "3           0.0       0.0     1.0  \n",
       "4           0.0       1.0     1.0  \n",
       "\n",
       "[5 rows x 32 columns]"
      ]
     },
     "execution_count": 3,
     "metadata": {},
     "output_type": "execute_result"
    }
   ],
   "source": [
    "df_a.head()"
   ]
  },
  {
   "cell_type": "code",
   "execution_count": 4,
   "metadata": {},
   "outputs": [
    {
     "data": {
      "text/html": [
       "<div>\n",
       "<style scoped>\n",
       "    .dataframe tbody tr th:only-of-type {\n",
       "        vertical-align: middle;\n",
       "    }\n",
       "\n",
       "    .dataframe tbody tr th {\n",
       "        vertical-align: top;\n",
       "    }\n",
       "\n",
       "    .dataframe thead th {\n",
       "        text-align: right;\n",
       "    }\n",
       "</style>\n",
       "<table border=\"1\" class=\"dataframe\">\n",
       "  <thead>\n",
       "    <tr style=\"text-align: right;\">\n",
       "      <th></th>\n",
       "      <th>age</th>\n",
       "      <th>job_admin.</th>\n",
       "      <th>job_blue-collar</th>\n",
       "      <th>job_entrepreneur</th>\n",
       "      <th>job_housemaid</th>\n",
       "      <th>job_management</th>\n",
       "      <th>job_retired</th>\n",
       "      <th>job_self-employed</th>\n",
       "      <th>job_services</th>\n",
       "      <th>job_student</th>\n",
       "      <th>...</th>\n",
       "      <th>education_professional.course</th>\n",
       "      <th>education_university.degree</th>\n",
       "      <th>education_unknown</th>\n",
       "      <th>housing_no</th>\n",
       "      <th>housing_unknown</th>\n",
       "      <th>housing_yes</th>\n",
       "      <th>loan_no</th>\n",
       "      <th>loan_unknown</th>\n",
       "      <th>loan_yes</th>\n",
       "      <th>target</th>\n",
       "    </tr>\n",
       "  </thead>\n",
       "  <tbody>\n",
       "    <tr>\n",
       "      <th>0</th>\n",
       "      <td>49</td>\n",
       "      <td>0.0</td>\n",
       "      <td>0.0</td>\n",
       "      <td>0.0</td>\n",
       "      <td>0.0</td>\n",
       "      <td>0.0</td>\n",
       "      <td>1.0</td>\n",
       "      <td>0.0</td>\n",
       "      <td>0.0</td>\n",
       "      <td>0.0</td>\n",
       "      <td>...</td>\n",
       "      <td>0.0</td>\n",
       "      <td>0.0</td>\n",
       "      <td>0.0</td>\n",
       "      <td>1.0</td>\n",
       "      <td>0.0</td>\n",
       "      <td>0.0</td>\n",
       "      <td>1.0</td>\n",
       "      <td>0.0</td>\n",
       "      <td>0.0</td>\n",
       "      <td>0.0</td>\n",
       "    </tr>\n",
       "    <tr>\n",
       "      <th>1</th>\n",
       "      <td>26</td>\n",
       "      <td>0.0</td>\n",
       "      <td>1.0</td>\n",
       "      <td>0.0</td>\n",
       "      <td>0.0</td>\n",
       "      <td>0.0</td>\n",
       "      <td>0.0</td>\n",
       "      <td>0.0</td>\n",
       "      <td>0.0</td>\n",
       "      <td>0.0</td>\n",
       "      <td>...</td>\n",
       "      <td>0.0</td>\n",
       "      <td>0.0</td>\n",
       "      <td>0.0</td>\n",
       "      <td>1.0</td>\n",
       "      <td>0.0</td>\n",
       "      <td>0.0</td>\n",
       "      <td>1.0</td>\n",
       "      <td>0.0</td>\n",
       "      <td>0.0</td>\n",
       "      <td>0.0</td>\n",
       "    </tr>\n",
       "    <tr>\n",
       "      <th>2</th>\n",
       "      <td>38</td>\n",
       "      <td>0.0</td>\n",
       "      <td>1.0</td>\n",
       "      <td>0.0</td>\n",
       "      <td>0.0</td>\n",
       "      <td>0.0</td>\n",
       "      <td>0.0</td>\n",
       "      <td>0.0</td>\n",
       "      <td>0.0</td>\n",
       "      <td>0.0</td>\n",
       "      <td>...</td>\n",
       "      <td>0.0</td>\n",
       "      <td>0.0</td>\n",
       "      <td>0.0</td>\n",
       "      <td>0.0</td>\n",
       "      <td>0.0</td>\n",
       "      <td>1.0</td>\n",
       "      <td>1.0</td>\n",
       "      <td>0.0</td>\n",
       "      <td>0.0</td>\n",
       "      <td>0.0</td>\n",
       "    </tr>\n",
       "    <tr>\n",
       "      <th>3</th>\n",
       "      <td>38</td>\n",
       "      <td>1.0</td>\n",
       "      <td>0.0</td>\n",
       "      <td>0.0</td>\n",
       "      <td>0.0</td>\n",
       "      <td>0.0</td>\n",
       "      <td>0.0</td>\n",
       "      <td>0.0</td>\n",
       "      <td>0.0</td>\n",
       "      <td>0.0</td>\n",
       "      <td>...</td>\n",
       "      <td>0.0</td>\n",
       "      <td>0.0</td>\n",
       "      <td>1.0</td>\n",
       "      <td>1.0</td>\n",
       "      <td>0.0</td>\n",
       "      <td>0.0</td>\n",
       "      <td>0.0</td>\n",
       "      <td>0.0</td>\n",
       "      <td>1.0</td>\n",
       "      <td>0.0</td>\n",
       "    </tr>\n",
       "    <tr>\n",
       "      <th>4</th>\n",
       "      <td>44</td>\n",
       "      <td>0.0</td>\n",
       "      <td>0.0</td>\n",
       "      <td>1.0</td>\n",
       "      <td>0.0</td>\n",
       "      <td>0.0</td>\n",
       "      <td>0.0</td>\n",
       "      <td>0.0</td>\n",
       "      <td>0.0</td>\n",
       "      <td>0.0</td>\n",
       "      <td>...</td>\n",
       "      <td>0.0</td>\n",
       "      <td>1.0</td>\n",
       "      <td>0.0</td>\n",
       "      <td>0.0</td>\n",
       "      <td>0.0</td>\n",
       "      <td>1.0</td>\n",
       "      <td>1.0</td>\n",
       "      <td>0.0</td>\n",
       "      <td>0.0</td>\n",
       "      <td>0.0</td>\n",
       "    </tr>\n",
       "  </tbody>\n",
       "</table>\n",
       "<p>5 rows × 32 columns</p>\n",
       "</div>"
      ],
      "text/plain": [
       "   age  job_admin.  job_blue-collar  job_entrepreneur  job_housemaid  \\\n",
       "0   49         0.0              0.0               0.0            0.0   \n",
       "1   26         0.0              1.0               0.0            0.0   \n",
       "2   38         0.0              1.0               0.0            0.0   \n",
       "3   38         1.0              0.0               0.0            0.0   \n",
       "4   44         0.0              0.0               1.0            0.0   \n",
       "\n",
       "   job_management  job_retired  job_self-employed  job_services  job_student  \\\n",
       "0             0.0          1.0                0.0           0.0          0.0   \n",
       "1             0.0          0.0                0.0           0.0          0.0   \n",
       "2             0.0          0.0                0.0           0.0          0.0   \n",
       "3             0.0          0.0                0.0           0.0          0.0   \n",
       "4             0.0          0.0                0.0           0.0          0.0   \n",
       "\n",
       "   ...  education_professional.course  education_university.degree  \\\n",
       "0  ...                            0.0                          0.0   \n",
       "1  ...                            0.0                          0.0   \n",
       "2  ...                            0.0                          0.0   \n",
       "3  ...                            0.0                          0.0   \n",
       "4  ...                            0.0                          1.0   \n",
       "\n",
       "   education_unknown  housing_no  housing_unknown  housing_yes  loan_no  \\\n",
       "0                0.0         1.0              0.0          0.0      1.0   \n",
       "1                0.0         1.0              0.0          0.0      1.0   \n",
       "2                0.0         0.0              0.0          1.0      1.0   \n",
       "3                1.0         1.0              0.0          0.0      0.0   \n",
       "4                0.0         0.0              0.0          1.0      1.0   \n",
       "\n",
       "   loan_unknown  loan_yes  target  \n",
       "0           0.0       0.0     0.0  \n",
       "1           0.0       0.0     0.0  \n",
       "2           0.0       0.0     0.0  \n",
       "3           0.0       1.0     0.0  \n",
       "4           0.0       0.0     0.0  \n",
       "\n",
       "[5 rows x 32 columns]"
      ]
     },
     "execution_count": 4,
     "metadata": {},
     "output_type": "execute_result"
    }
   ],
   "source": [
    "df_b.head()"
   ]
  },
  {
   "cell_type": "markdown",
   "metadata": {
    "deletable": false,
    "editable": false,
    "nbgrader": {
     "cell_type": "markdown",
     "checksum": "efd3ef43873036147e1ffb2c1d92604b",
     "grade": false,
     "grade_id": "cell-26ca97159131b2f5",
     "locked": true,
     "schema_version": 3,
     "solution": false,
     "task": false
    }
   },
   "source": [
    "__Column description:__\n",
    "\n",
    "\n",
    "- `age` (numeric)\n",
    "- `job` : type of job (categorical: \"admin.\",\"blue-collar\",\"entrepreneur\",\"housemaid\",\"management\",\"retired\",\"self-employed\",\"services\",\"student\",\"technician\",\"unemployed\",\"unknown\")\n",
    "- `marital` : marital status (categorical: \"divorced\",\"married\",\"single\",\"unknown\"; note: \"divorced\" means divorced or widowed)\n",
    "- `education` (categorical: \"basic.4y\",\"basic.6y\",\"basic.9y\",\"high.school\",\"illiterate\",\"professional.course\",\"university.degree\",\"unknown\")\n",
    "- `default`: has credit in default? (categorical: \"no\",\"yes\",\"unknown\")\n",
    "- `housing`: has housing loan? (categorical: \"no\",\"yes\",\"unknown\")\n",
    "- `loan`: has personal loan? (categorical: \"no\",\"yes\",\"unknown\")\n",
    "\n",
    "___Output variable (A/B test results):___\n",
    "\n",
    "- `target` - has the client subscribed a term deposit? (binary: \"yes\",\"no\")"
   ]
  },
  {
   "cell_type": "markdown",
   "metadata": {
    "deletable": false,
    "editable": false,
    "nbgrader": {
     "cell_type": "markdown",
     "checksum": "b1a15f294111001d0503c5150d82b563",
     "grade": false,
     "grade_id": "cell-39c38d3e78ef743f",
     "locked": true,
     "schema_version": 3,
     "solution": false,
     "task": false
    }
   },
   "source": [
    "### Randomization checking"
   ]
  },
  {
   "cell_type": "markdown",
   "metadata": {
    "deletable": false,
    "editable": false,
    "nbgrader": {
     "cell_type": "markdown",
     "checksum": "48a9bffae58bbb72dbdc5166df27d6ac",
     "grade": false,
     "grade_id": "cell-72ab1f9e09755040",
     "locked": true,
     "schema_version": 3,
     "solution": false,
     "task": false
    }
   },
   "source": [
    "Check clients randomization by calculation metrics of clients factors.\n",
    "Mean, median nd variance"
   ]
  },
  {
   "cell_type": "code",
   "execution_count": 5,
   "metadata": {},
   "outputs": [],
   "source": [
    "targ_cols = [i for i in df_a.columns if i != 'target']"
   ]
  },
  {
   "cell_type": "code",
   "execution_count": 6,
   "metadata": {},
   "outputs": [
    {
     "name": "stdout",
     "output_type": "stream",
     "text": [
      "age -- OK -- mean rate: 1.0 median rate: 1.0 var rate: 1.0\n",
      "job_admin. -- OK -- mean rate: 1.01 median rate: 1 var rate: 1\n",
      "job_blue-collar -- OK -- mean rate: 0.98 median rate: 1 var rate: 1\n",
      "job_entrepreneur -- OK -- mean rate: 0.96 median rate: 1 var rate: 1\n",
      "job_housemaid -- OK -- mean rate: 0.97 median rate: 1 var rate: 1\n",
      "job_management -- OK -- mean rate: 1.0 median rate: 1 var rate: 1\n",
      "job_retired -- OK -- mean rate: 1.07 median rate: 1 var rate: 1\n",
      "job_self-employed -- OK -- mean rate: 1.02 median rate: 1 var rate: 1\n",
      "job_services -- OK -- mean rate: 0.99 median rate: 1 var rate: 1\n",
      "job_student -- OK -- mean rate: 1.09 median rate: 1 var rate: 1\n",
      "job_technician -- OK -- mean rate: 1.0 median rate: 1 var rate: 1\n",
      "job_unemployed -- OK -- mean rate: 1.06 median rate: 1 var rate: 1\n",
      "job_unknown -- OK -- mean rate: 1.03 median rate: 1 var rate: 1\n",
      "marital_divorced -- OK -- mean rate: 1.01 median rate: 1 var rate: 1\n",
      "marital_married -- OK -- mean rate: 1.0 median rate: 1.0 var rate: 1.0\n",
      "marital_single -- OK -- mean rate: 1.01 median rate: 1 var rate: 1\n",
      "marital_unknown -- NO RANDOM -- mean rate: 1.16 median rate: 1 var rate: 1\n",
      "education_basic.4y -- OK -- mean rate: 0.98 median rate: 1 var rate: 1\n",
      "education_basic.6y -- OK -- mean rate: 1.01 median rate: 1 var rate: 1\n",
      "education_basic.9y -- OK -- mean rate: 0.98 median rate: 1 var rate: 1\n",
      "education_high.school -- OK -- mean rate: 1.0 median rate: 1 var rate: 1\n",
      "education_illiterate -- NO RANDOM -- mean rate: 1.16 median rate: 1 var rate: 1\n",
      "education_professional.course -- OK -- mean rate: 1.0 median rate: 1 var rate: 1\n",
      "education_university.degree -- OK -- mean rate: 1.01 median rate: 1 var rate: 1\n",
      "education_unknown -- OK -- mean rate: 1.01 median rate: 1 var rate: 1\n",
      "housing_no -- OK -- mean rate: 0.99 median rate: 1 var rate: 1\n",
      "housing_unknown -- OK -- mean rate: 1.01 median rate: 1 var rate: 1\n",
      "housing_yes -- OK -- mean rate: 1.01 median rate: 1.0 var rate: 1.0\n",
      "loan_no -- OK -- mean rate: 1.0 median rate: 1.0 var rate: 1.0\n",
      "loan_unknown -- OK -- mean rate: 1.01 median rate: 1 var rate: 1\n",
      "loan_yes -- OK -- mean rate: 1.0 median rate: 1 var rate: 1\n"
     ]
    }
   ],
   "source": [
    "for i in targ_cols:\n",
    "    mean_a = np.mean(df_a[i])\n",
    "    mean_b = np.mean(df_b[i])\n",
    "    median_a = np.median(df_a[i])\n",
    "    median_b = np.median(df_b[i])\n",
    "    \n",
    "    var_a = np.var(df_a[i])\n",
    "    var_b = np.var(df_b[i])\n",
    "    \n",
    "    mean = mean_a/mean_b\n",
    "    if median_b == 0:\n",
    "        if median_a == 0:\n",
    "            median = 1\n",
    "        else:\n",
    "            median = 0\n",
    "    else:\n",
    "        median = median_a/median_b\n",
    "    var = var_a/var_b\n",
    "\n",
    "    if mean > 1.1 or mean < 0.9 or median > 1.1 or median < 0.9 or var > 1.1 or var < 0.9:\n",
    "        tmp = 'NO RANDOM'\n",
    "    else:\n",
    "        tmp = 'OK'\n",
    "    print(i, '--', tmp, '-- mean rate:', round(mean, 2), \n",
    "          'median rate:', round(median, 2), 'var rate:', round(median, 2))"
   ]
  },
  {
   "cell_type": "markdown",
   "metadata": {
    "deletable": false,
    "editable": false,
    "nbgrader": {
     "cell_type": "markdown",
     "checksum": "fdc4238b9a90130c8ef20ae3a97f99b2",
     "grade": false,
     "grade_id": "cell-1b78ff0ec80de36c",
     "locked": true,
     "schema_version": 3,
     "solution": false,
     "task": false
    }
   },
   "source": [
    "Clients in A/B test was random"
   ]
  },
  {
   "cell_type": "markdown",
   "metadata": {
    "deletable": false,
    "editable": false,
    "nbgrader": {
     "cell_type": "markdown",
     "checksum": "16ad17d47637badb1a4fa3d85c3c6115",
     "grade": false,
     "grade_id": "cell-7022bf414f37987f",
     "locked": true,
     "schema_version": 3,
     "solution": false,
     "task": false
    }
   },
   "source": [
    "### Statistical significance testing."
   ]
  },
  {
   "cell_type": "markdown",
   "metadata": {
    "deletable": false,
    "editable": false,
    "nbgrader": {
     "cell_type": "markdown",
     "checksum": "8678e4c3c3c55917c25bcc05486445b7",
     "grade": false,
     "grade_id": "cell-8db956502ea1f9d8",
     "locked": true,
     "schema_version": 3,
     "solution": false,
     "task": false
    }
   },
   "source": [
    "#### Average treatment effect (ATE) – the average difference of the sample parameter"
   ]
  },
  {
   "cell_type": "code",
   "execution_count": 7,
   "metadata": {},
   "outputs": [],
   "source": [
    "Y_a = np.mean(df_a['target'])\n",
    "Y_b = np.mean(df_b['target'])"
   ]
  },
  {
   "cell_type": "code",
   "execution_count": 8,
   "metadata": {},
   "outputs": [],
   "source": [
    "ATE = Y_a - Y_b"
   ]
  },
  {
   "cell_type": "code",
   "execution_count": 9,
   "metadata": {},
   "outputs": [
    {
     "name": "stdout",
     "output_type": "stream",
     "text": [
      "Difference in response =  0.057\n"
     ]
    }
   ],
   "source": [
    "print('Difference in response = ', round(ATE, 3))"
   ]
  },
  {
   "cell_type": "markdown",
   "metadata": {
    "deletable": false,
    "editable": false,
    "nbgrader": {
     "cell_type": "markdown",
     "checksum": "a23216c506f0f0e083e8912ff1e07615",
     "grade": false,
     "grade_id": "cell-d4fb04653756800e",
     "locked": true,
     "schema_version": 3,
     "solution": false,
     "task": false
    }
   },
   "source": [
    "#### Significance testing is used after A/B test (to verify the effect) "
   ]
  },
  {
   "cell_type": "markdown",
   "metadata": {
    "deletable": false,
    "editable": false,
    "nbgrader": {
     "cell_type": "markdown",
     "checksum": "81c05bcdc9bba8ffa3ca9d2577fb4c34",
     "grade": false,
     "grade_id": "cell-f66e5be5b0822ae0",
     "locked": true,
     "schema_version": 3,
     "solution": false,
     "task": false
    }
   },
   "source": [
    "`Student’s t-test` - the variances in Y within group A and B are `similar`\n",
    "\n",
    "`Welch’s t-test` - the variances in Y within group A and B are `different`"
   ]
  },
  {
   "cell_type": "markdown",
   "metadata": {
    "deletable": false,
    "editable": false,
    "nbgrader": {
     "cell_type": "markdown",
     "checksum": "5e71d41ab77c34233729551fbb79571e",
     "grade": false,
     "grade_id": "cell-d89bfb07d1981bc4",
     "locked": true,
     "schema_version": 3,
     "solution": false,
     "task": false
    }
   },
   "source": [
    "Check  variances in Y within group A and B"
   ]
  },
  {
   "cell_type": "code",
   "execution_count": 10,
   "metadata": {},
   "outputs": [],
   "source": [
    "var_a = np.var(df_a['target'])\n",
    "var_b = np.var(df_b['target'])"
   ]
  },
  {
   "cell_type": "code",
   "execution_count": 11,
   "metadata": {},
   "outputs": [
    {
     "name": "stdout",
     "output_type": "stream",
     "text": [
      "Vaiance in group A =  0.1409\n",
      "Vaiance in group B =  0.1\n"
     ]
    }
   ],
   "source": [
    "print('Vaiance in group A = ', round(var_a, 4))\n",
    "print('Vaiance in group B = ', round(var_b, 4))"
   ]
  },
  {
   "cell_type": "markdown",
   "metadata": {
    "deletable": false,
    "editable": false,
    "nbgrader": {
     "cell_type": "markdown",
     "checksum": "203c6e8b98aca0137841240691c00d44",
     "grade": false,
     "grade_id": "cell-5c4444f38d40979a",
     "locked": true,
     "schema_version": 3,
     "solution": false,
     "task": false
    }
   },
   "source": [
    "`Null Hypothesis`: the means of both populations are equal\n",
    "\n",
    "`Alternate Hypothesis`: the means of both populations are not equal"
   ]
  },
  {
   "cell_type": "code",
   "execution_count": 12,
   "metadata": {},
   "outputs": [
    {
     "data": {
      "text/plain": [
       "Ttest_indResult(statistic=17.322636931888905, pvalue=5.9255962020386293e-67)"
      ]
     },
     "execution_count": 12,
     "metadata": {},
     "output_type": "execute_result"
    }
   ],
   "source": [
    "stats.ttest_ind(df_a['target'], df_b['target'], equal_var = False)"
   ]
  },
  {
   "cell_type": "markdown",
   "metadata": {
    "deletable": false,
    "editable": false,
    "nbgrader": {
     "cell_type": "markdown",
     "checksum": "06d1b1f229585ccc009d25e880d0ff91",
     "grade": false,
     "grade_id": "cell-45ab72ff1cb74159",
     "locked": true,
     "schema_version": 3,
     "solution": false,
     "task": false
    }
   },
   "source": [
    "### p-value is too small, so we reject `Null Hypothesis` and can accept `Alternate Hypothesis`"
   ]
  },
  {
   "cell_type": "markdown",
   "metadata": {},
   "source": [
    "### Task 1 \n",
    "#### Check randomization in Group A and Group B by *Age*\n",
    "Calculate difference in *mean*, *median*, *variance* of *Age* in Groups A and B"
   ]
  },
  {
   "cell_type": "code",
   "execution_count": 13,
   "metadata": {
    "deletable": false,
    "nbgrader": {
     "cell_type": "code",
     "checksum": "97d456b83c4f9162e4a9fc1b3b415731",
     "grade": false,
     "grade_id": "cell-676c1f10e2152bf4",
     "locked": false,
     "schema_version": 3,
     "solution": true,
     "task": false
    }
   },
   "outputs": [],
   "source": [
    "# your code here\n",
    "\n",
    "mean_diff = df_a['age'].mean() - df_b['age'].mean()\n",
    "median_diff = df_a['age'].median() - df_b['age'].median()\n",
    "var_diff = df_a['age'].var() - df_b['age'].var()\n",
    "\n",
    "# your code here\n"
   ]
  },
  {
   "cell_type": "code",
   "execution_count": null,
   "metadata": {
    "deletable": false,
    "editable": false,
    "nbgrader": {
     "cell_type": "code",
     "checksum": "3bc67935da6a462744522f96e1c38809",
     "grade": true,
     "grade_id": "cell-4f895da94f08dc5c",
     "locked": true,
     "points": 1,
     "schema_version": 3,
     "solution": false,
     "task": false
    }
   },
   "outputs": [],
   "source": []
  },
  {
   "cell_type": "markdown",
   "metadata": {},
   "source": [
    "### Task 2 \n",
    "#### Check A/B test results for Married clients (`marital_married == 1`)\n",
    "#### Check randomization in Group A and Group B by *Age* for Married clients\n",
    "Calculate difference in *mean*, *median*, *variance* of *Age* in Groups A and B"
   ]
  },
  {
   "cell_type": "code",
   "execution_count": 17,
   "metadata": {
    "deletable": false,
    "nbgrader": {
     "cell_type": "code",
     "checksum": "7ab197bd29683b009a1cca4e93fe47dc",
     "grade": false,
     "grade_id": "cell-17cc970547774c89",
     "locked": false,
     "schema_version": 3,
     "solution": true,
     "task": false
    }
   },
   "outputs": [],
   "source": [
    "# select only married clients\n",
    "df_a_m = df_a.loc[df_a['marital_married'] == 1].copy()\n",
    "df_b_m = df_b.loc[df_b['marital_married'] == 1].copy()\n",
    "\n",
    "# your code here\n",
    "\n",
    "mean_diff = df_a_m['age'].mean() - df_b_m['age'].mean()\n",
    "median_diff = df_a_m['age'].median() - df_b_m['age'].median()\n",
    "var_diff = df_a_m['age'].var() - df_b_m['age'].var()\n",
    "\n",
    "\n",
    "# your code here\n"
   ]
  },
  {
   "cell_type": "code",
   "execution_count": null,
   "metadata": {
    "deletable": false,
    "editable": false,
    "nbgrader": {
     "cell_type": "code",
     "checksum": "df33341efaeafe82a712f9acad730148",
     "grade": true,
     "grade_id": "cell-c4e1c4a555e184ab",
     "locked": true,
     "points": 1,
     "schema_version": 3,
     "solution": false,
     "task": false
    }
   },
   "outputs": [],
   "source": []
  },
  {
   "cell_type": "markdown",
   "metadata": {},
   "source": [
    "### Task 3\n",
    "#### Check A/B test results for Married clients (`marital_married == 1`)\n",
    "#### Calculate difference in mean *target* in Groups A and B. Compare variance of *target* in Groups A and B.\n",
    "Check statistical significance of results using correct t-test:\n",
    "\n",
    "`Student’s t-test` - the variances in Y within group A and B are `similar`\n",
    "\n",
    "`Welch’s t-test` - the variances in Y within group A and B are `different`"
   ]
  },
  {
   "cell_type": "code",
   "execution_count": 24,
   "metadata": {
    "deletable": false,
    "nbgrader": {
     "cell_type": "code",
     "checksum": "2caf3d959e3d7054350fdd537dc35d6d",
     "grade": false,
     "grade_id": "cell-a52c61095800b389",
     "locked": false,
     "schema_version": 3,
     "solution": true,
     "task": false
    }
   },
   "outputs": [
    {
     "name": "stdout",
     "output_type": "stream",
     "text": [
      "VAR_A: 0.13\n",
      "VAR_B: 0.09\n",
      "P value (means are equal): 0.000\n"
     ]
    }
   ],
   "source": [
    "# your code here\n",
    "\n",
    "# calcualte difference in mean response in Groups A nd B\n",
    "diff_in_target = df_a_m['target'].mean() - df_b_m['target'].mean()\n",
    "\n",
    "# calcualte variance of response in Groups A nad B\n",
    "var_a_m = df_a_m['target'].var()\n",
    "var_b_m = df_b_m['target'].var()\n",
    "\n",
    "print(\"VAR_A: {:.2f}\".format(var_a_m))\n",
    "print(\"VAR_B: {:.2f}\".format(var_b_m))\n",
    "\n",
    "# use correct t-test and save p-value\n",
    "ttest = stats.ttest_ind(df_a_m['target'], df_b_m['target'], equal_var = False)\n",
    "p_value = ttest[1]\n",
    "\n",
    "print(\"P value (means are equal): {:.3f}\".format(p_value))\n",
    "\n",
    "# your code here\n"
   ]
  },
  {
   "cell_type": "code",
   "execution_count": null,
   "metadata": {
    "deletable": false,
    "editable": false,
    "nbgrader": {
     "cell_type": "code",
     "checksum": "2d70f288c7dded579549c27e7df56573",
     "grade": true,
     "grade_id": "cell-479c52d5641989f1",
     "locked": true,
     "points": 2,
     "schema_version": 3,
     "solution": false,
     "task": false
    }
   },
   "outputs": [],
   "source": []
  }
 ],
 "metadata": {
  "kernelspec": {
   "display_name": "Python 3 (ipykernel)",
   "language": "python",
   "name": "python3"
  },
  "language_info": {
   "codemirror_mode": {
    "name": "ipython",
    "version": 3
   },
   "file_extension": ".py",
   "mimetype": "text/x-python",
   "name": "python",
   "nbconvert_exporter": "python",
   "pygments_lexer": "ipython3",
   "version": "3.8.10"
  }
 },
 "nbformat": 4,
 "nbformat_minor": 4
}
