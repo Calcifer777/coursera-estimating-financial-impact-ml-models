{
 "cells": [
  {
   "cell_type": "markdown",
   "id": "e847a1b2-ecc8-43c8-8e45-f1d28fea40cc",
   "metadata": {},
   "source": [
    "# Question 1\n",
    "\n",
    "What is the main goal of A/B testing?\n",
    "\n",
    "- [X] To evaluate the effect of proposed improvement in model ..."
   ]
  },
  {
   "cell_type": "markdown",
   "id": "085ff791-6045-4223-bc94-d7784b109fa9",
   "metadata": {},
   "source": [
    "# Question 2\n",
    "\n",
    "Which of the following statements contradicts with principles of A/B testing?\n",
    "\n",
    "- [X] The structure and features should be significantly different from production environment"
   ]
  },
  {
   "cell_type": "markdown",
   "id": "0838d477-338c-460a-b119-c70a7c5c672b",
   "metadata": {},
   "source": [
    "# Question 3\n",
    "\n",
    "Why is it so important to perform proper randomization for control and treatment groups before an A/B test?\n",
    "\n",
    "- [X] In order to keep \"other things equal\" principle"
   ]
  },
  {
   "cell_type": "markdown",
   "id": "2e9d9d17-32c8-42f8-bbcc-5b43e38c96d0",
   "metadata": {},
   "source": [
    "# Question 4\n",
    "\n",
    "When preparing for an A/B test we must specify the measurable target. Which of the following is hardly measurable?\n",
    "\n",
    "- [X] Clients' mood uplift"
   ]
  },
  {
   "cell_type": "markdown",
   "id": "5d63a5d0-7e66-4482-bcd2-abbd1c1f66f7",
   "metadata": {},
   "source": [
    "# Question 5\n",
    "\n",
    "Suppose we perform an A/B test for our corporate clients. Which factors can be important to take into account when preparing control and treatment groups?\n",
    "\n",
    "- [X] All the above"
   ]
  },
  {
   "cell_type": "markdown",
   "id": "ed77524d-f799-4056-ab18-ae74eb244ce4",
   "metadata": {},
   "source": [
    "# Question 6\n",
    "\n",
    "What should we calculate in order to check for proper randomization before an A/B test?\n",
    "\n",
    "- [X] Means, medians, and variances"
   ]
  },
  {
   "cell_type": "markdown",
   "id": "0205f709-cec1-4c06-ac25-e9c923a2408c",
   "metadata": {},
   "source": [
    "# Question 7\n",
    "\n",
    "You developed a new model that estimates the probability of response. You launched an A/B test to verify whether or not your new model is better than the previous one. You collected the responses. What should you do now?\n",
    "\n",
    "- [X] Calculate average actual responses separately for clients estimated by new and old model and run sample means test with null hypothesis that average responses are equal"
   ]
  },
  {
   "cell_type": "markdown",
   "id": "2fb9af64-27a8-4510-aaa5-359cd2cd4ca3",
   "metadata": {
    "jp-MarkdownHeadingCollapsed": true,
    "tags": []
   },
   "source": [
    "# Question 8\n",
    "\n",
    "What is cannibalization?\n",
    "\n",
    "- [X] Situation when our initiatives to boost sales of one product or service worsen the sales of our other competitive products and services"
   ]
  },
  {
   "cell_type": "markdown",
   "id": "90a01a29-c5df-406d-b48f-83d6d13a3c9f",
   "metadata": {
    "tags": []
   },
   "source": [
    "# Question 9\n",
    "\n",
    "What differs Welch’s t-test from Student’s t-test?\n",
    "\n",
    "- [X] The former considers sample variance to be significantly different"
   ]
  },
  {
   "cell_type": "markdown",
   "id": "e12268ec-3551-4b71-9195-a605acb4d596",
   "metadata": {
    "tags": []
   },
   "source": [
    "# Question 10\n",
    "\n",
    "What differs Barlett’s test from F-test?\n",
    "\n",
    "- [X] They both check for variance equality, but the former is designed for multiple samples"
   ]
  }
 ],
 "metadata": {
  "kernelspec": {
   "display_name": "Python 3 (ipykernel)",
   "language": "python",
   "name": "python3"
  },
  "language_info": {
   "codemirror_mode": {
    "name": "ipython",
    "version": 3
   },
   "file_extension": ".py",
   "mimetype": "text/x-python",
   "name": "python",
   "nbconvert_exporter": "python",
   "pygments_lexer": "ipython3",
   "version": "3.8.10"
  }
 },
 "nbformat": 4,
 "nbformat_minor": 5
}
