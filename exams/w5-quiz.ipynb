{
 "cells": [
  {
   "cell_type": "markdown",
   "id": "e847a1b2-ecc8-43c8-8e45-f1d28fea40cc",
   "metadata": {},
   "source": [
    "# Question 1\n",
    "\n",
    "Suppose you are implementing a new model within the credit scoring process. Which sources of bias can take place when collecting historical data to train the model?\n",
    "\n",
    "- [X] The data you possess contains information only about clients who were granted a loan based on a previously used model."
   ]
  },
  {
   "cell_type": "markdown",
   "id": "085ff791-6045-4223-bc94-d7784b109fa9",
   "metadata": {},
   "source": [
    "# Question 2\n",
    "\n",
    "Which attribute of rejected clients in credit scoring (or the clients with no communication in a marketing campaign) is typically unobservable?\n",
    "\n",
    "- [X] Target variable (default or response event)"
   ]
  },
  {
   "cell_type": "markdown",
   "id": "0838d477-338c-460a-b119-c70a7c5c672b",
   "metadata": {},
   "source": [
    "# Question 3\n",
    "\n",
    "How can A/B testing handle the problem of biased historical data?\n",
    "\n",
    "- [X] Randomized control group in AB testing allow us to observe behavior of otherwise rehected clients"
   ]
  },
  {
   "cell_type": "markdown",
   "id": "2e9d9d17-32c8-42f8-bbcc-5b43e38c96d0",
   "metadata": {},
   "source": [
    "# Question 4\n",
    "\n",
    "When is it impossible to run a control group?\n",
    "\n",
    "- [X] All of the above"
   ]
  },
  {
   "cell_type": "markdown",
   "id": "5d63a5d0-7e66-4482-bcd2-abbd1c1f66f7",
   "metadata": {},
   "source": [
    "# Question 5\n",
    "\n",
    "Why is it important to assign weight to observations when running a control group and restoring FP and FN error rates for the whole client base?\n",
    "\n",
    "- [X] Because usually a control group is a relatively small portion of the dataset"
   ]
  },
  {
   "cell_type": "markdown",
   "id": "ed77524d-f799-4056-ab18-ae74eb244ce4",
   "metadata": {},
   "source": [
    "# Question 6\n",
    "\n",
    "What can we say about reject inference as a method?\n",
    "\n",
    "- [X] Using this method can help us to extract some information about rejected clients but it is still questionable and should be tested for case by case"
   ]
  },
  {
   "cell_type": "markdown",
   "id": "0205f709-cec1-4c06-ac25-e9c923a2408c",
   "metadata": {},
   "source": [
    "# Question 7\n",
    "\n",
    "What is the basic way to use observations with unknown targets in order to adjust your model?\n",
    "\n",
    "- [X] To score them with a model trained on data with known target values, simulate target values and retrain the model appending both datasets."
   ]
  },
  {
   "cell_type": "markdown",
   "id": "2fb9af64-27a8-4510-aaa5-359cd2cd4ca3",
   "metadata": {
    "jp-MarkdownHeadingCollapsed": true,
    "tags": []
   },
   "source": [
    "# Question 8\n",
    "\n",
    "Which statement is correct regarding semi-supervised learning and reject inference?\n",
    "\n",
    "- [X] Semi-supervised learning and reject inference both aim to restore information about target events in rejected clients but the former uses metrical approach"
   ]
  },
  {
   "cell_type": "markdown",
   "id": "90a01a29-c5df-406d-b48f-83d6d13a3c9f",
   "metadata": {
    "tags": []
   },
   "source": [
    "# Question 9\n",
    "\n",
    "What is metalearning? It is…\n",
    "\n",
    "- [X] An area of machine learning which uses ML algorithms to analyze metadata on properties of ML algorithms"
   ]
  },
  {
   "cell_type": "markdown",
   "id": "e12268ec-3551-4b71-9195-a605acb4d596",
   "metadata": {
    "tags": []
   },
   "source": [
    "# Question 10\n",
    "\n",
    "Suppose you evaluate models X and Y. How can we use an auxiliary classifier which predicts whether the X or Y model is more accurate for this particular client?\n",
    "\n",
    "- [X] We can use its predictions as weight for X and Y predictions to build probabilistic estimate of target values in unlabeled dataset"
   ]
  }
 ],
 "metadata": {
  "kernelspec": {
   "display_name": "Python 3 (ipykernel)",
   "language": "python",
   "name": "python3"
  },
  "language_info": {
   "codemirror_mode": {
    "name": "ipython",
    "version": 3
   },
   "file_extension": ".py",
   "mimetype": "text/x-python",
   "name": "python",
   "nbconvert_exporter": "python",
   "pygments_lexer": "ipython3",
   "version": "3.8.10"
  }
 },
 "nbformat": 4,
 "nbformat_minor": 5
}
