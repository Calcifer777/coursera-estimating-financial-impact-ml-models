{
 "cells": [
  {
   "cell_type": "markdown",
   "metadata": {},
   "source": [
    "# Week 1. Project evaluation"
   ]
  },
  {
   "cell_type": "markdown",
   "metadata": {},
   "source": [
    "## Case 1. Change of bank scoring for loans"
   ]
  },
  {
   "cell_type": "markdown",
   "metadata": {},
   "source": [
    "To make decision about clients requests for loan bank uses scoring model that predicts the probability of default and potential economic value added.\n",
    "\n",
    "Scoring allows to distinguish “bad” clients from “good” clients. The aim of a new AI model is to improve current model to swap customers that will default for “good” clients (“swap in – swap out” effect).\n",
    "\n",
    "Bank is selling only one product – loans to individuals. Thus there is no cannibalization risk.\n",
    "\n"
   ]
  },
  {
   "cell_type": "markdown",
   "metadata": {},
   "source": [
    "We need 6 month to build the model. \n",
    "Valuation period for the project is 3 years since the moment the model is created"
   ]
  },
  {
   "cell_type": "code",
   "execution_count": 1,
   "metadata": {},
   "outputs": [],
   "source": [
    "import pandas as pd\n",
    "import numpy as np\n",
    "\n",
    "import seaborn as sns\n",
    "import matplotlib.pyplot as plt\n"
   ]
  },
  {
   "cell_type": "markdown",
   "metadata": {},
   "source": [
    "### Several constants"
   ]
  },
  {
   "cell_type": "code",
   "execution_count": 2,
   "metadata": {},
   "outputs": [],
   "source": [
    "Income_Tax_Rate = 0.2\n",
    "Cost_of_Equity = 0.1\n",
    "Cost_of_Debt = 0.05\n",
    "Equity_Weight = 0.15\n",
    "Debt_Weight = 0.85"
   ]
  },
  {
   "cell_type": "markdown",
   "metadata": {},
   "source": [
    "### WACC - Weight average cost of capital\n",
    "$$\n",
    "WACC= Cost of Equity × Equity Weight + Cost of Debt × Debt Weight × (1 - Income Tax Rate)\n",
    "$$"
   ]
  },
  {
   "cell_type": "code",
   "execution_count": 3,
   "metadata": {},
   "outputs": [
    {
     "data": {
      "text/plain": [
       "0.049"
      ]
     },
     "execution_count": 3,
     "metadata": {},
     "output_type": "execute_result"
    }
   ],
   "source": [
    "WACC = Cost_of_Equity*Equity_Weight + Cost_of_Debt*Debt_Weight*(1 - Income_Tax_Rate)\n",
    "WACC"
   ]
  },
  {
   "cell_type": "markdown",
   "metadata": {},
   "source": [
    "### Inflation\n",
    "\n",
    "Inflation factor for 1 - 12 months = 1\n",
    "\n",
    "Inflation factor for 13 - 24 months\t= 1.04\n",
    "\n",
    "Inflation factor for 25 - 42 months = 1.08\n",
    "\n"
   ]
  },
  {
   "cell_type": "code",
   "execution_count": 4,
   "metadata": {},
   "outputs": [],
   "source": [
    "df = pd.DataFrame()"
   ]
  },
  {
   "cell_type": "code",
   "execution_count": 5,
   "metadata": {},
   "outputs": [],
   "source": [
    "df['period'] = range(0, 42)"
   ]
  },
  {
   "cell_type": "markdown",
   "metadata": {},
   "source": [
    "- `ds_train` -  Number of employees to build a model \n",
    "- `ds_maintain` -  Number of employees to maintain a model \n",
    "- `ds_tratin_w` -  Workload of employees to build a model \n",
    "- `ds_maintain_w` -  Workload of employees to maintain a model \n",
    "- `ds_train_l` -  Labor costs on 1 employee to build a model \n",
    "- `ds_maintain_l` -  Labor costs on 1 employee to maintain a model "
   ]
  },
  {
   "cell_type": "code",
   "execution_count": 6,
   "metadata": {},
   "outputs": [],
   "source": [
    "# collect data and train model for 6 month\n",
    "df['ds_train'] = 0\n",
    "df['ds_train'].loc[range(0, 6)] = 12\n",
    "\n",
    "# next 3 years 2 DS need to maintain a model (calibration, analize)\n",
    "df['ds_maintain'] = 0\n",
    "df['ds_maintain'].loc[range(6, 42)] = 2\n",
    "\n",
    "ds_tratin_w = 1 # full-time\n",
    "ds_maintain_w = 1 # full-time\n",
    "\n",
    "ds_tratin_l = 1000\n",
    "ds_maintain_l = 1000"
   ]
  },
  {
   "cell_type": "code",
   "execution_count": 7,
   "metadata": {},
   "outputs": [],
   "source": [
    "# Labor costs to build a model\n",
    "df['c_labour_train'] = ds_tratin_w * ds_tratin_l * df['ds_train']\n",
    "\n",
    "# Labor costs to build a model\n",
    "df['c_labour_maintain'] = ds_maintain_w * ds_maintain_l * df['ds_maintain']\n"
   ]
  },
  {
   "cell_type": "code",
   "execution_count": 8,
   "metadata": {},
   "outputs": [],
   "source": [
    "# Other costs:\n",
    "# Consulting (OPEX)\n",
    "df['Consulting'] = 0\n",
    "df['Consulting'].loc[range(0, 2)] = 10000\n",
    "\n",
    "# Costs on IT resources (OPEX)\n",
    "df['IT'] = 500\n",
    "\n",
    "#Data purchase (OPEX)\n",
    "df['Data'] = 1000\n"
   ]
  },
  {
   "cell_type": "markdown",
   "metadata": {},
   "source": [
    "### Total costs"
   ]
  },
  {
   "cell_type": "code",
   "execution_count": 9,
   "metadata": {},
   "outputs": [],
   "source": [
    "df['costs'] = (-1) * (1 - Income_Tax_Rate) * \\\n",
    "    (df['c_labour_train'] + df['c_labour_maintain'] + df['Consulting'] + df['IT'] + df['Data'])"
   ]
  },
  {
   "cell_type": "code",
   "execution_count": 10,
   "metadata": {},
   "outputs": [],
   "source": [
    "df['inflation'] = 0\n",
    "df['inflation'].loc[range(0,12)] = 1\n",
    "df['inflation'].loc[range(12,24)] = 1.04\n",
    "df['inflation'].loc[range(24,42)] = 1.08"
   ]
  },
  {
   "cell_type": "code",
   "execution_count": 11,
   "metadata": {},
   "outputs": [],
   "source": [
    "df['costs_inf'] = df['costs'] * df['inflation']"
   ]
  },
  {
   "cell_type": "code",
   "execution_count": 12,
   "metadata": {},
   "outputs": [
    {
     "name": "stdout",
     "output_type": "stream",
     "text": [
      "Total costs  -186976.0\n"
     ]
    }
   ],
   "source": [
    "print('Total costs ' ,  sum(df['costs_inf'] ))\n"
   ]
  },
  {
   "cell_type": "markdown",
   "metadata": {},
   "source": [
    "### Effect of sales growth"
   ]
  },
  {
   "cell_type": "markdown",
   "metadata": {},
   "source": [
    "<table>\n",
    "  <thead>\n",
    "    <tr>\n",
    "      <th> metric</th>\n",
    "      <th>AS IS</th>\n",
    "      <th>TO BE</th>\n",
    "    </tr>\n",
    "  </thead>\n",
    "  <tbody>\n",
    "    <tr>\n",
    "      <td>Average sum (USD)</td>\n",
    "      <td>1000</td>\n",
    "      <td>1003</td>\n",
    "    </tr>\n",
    "    <tr>\n",
    "      <td>Average rate %</td>\n",
    "      <td>3%</td>\n",
    "      <td>3%</td>\n",
    "    </tr>\n",
    "    <tr>\n",
    "      <td>Average term (months)</td>\n",
    "      <td>23.8</td>\n",
    "      <td>24</td>\n",
    "    </tr>\n",
    "    <tr>\n",
    "      <td>Average expected losses (%)</td>\n",
    "      <td>1%</td>\n",
    "      <td>0.9%</td>\n",
    "    </tr>\n",
    "    <tr>\n",
    "      <td>Average cost of funding (%)</td>\n",
    "      <td>0.5%</td>\n",
    "      <td>0.5%</td>\n",
    "    </tr>\n",
    "    <tr>\n",
    "      <td>Average NPV of 1 sale (USD)</td>\n",
    "      <td>4</td>\n",
    "      <td>4.4</td>\n",
    "    </tr>\n",
    "    <tr>\n",
    "      <td>Approval rate (%)</td>\n",
    "      <td>20</td>\n",
    "      <td>20%</td>\n",
    "    </tr>\n",
    "    <tr>\n",
    "      <td>Take up rate (%)</td>\n",
    "      <td>50%</td>\n",
    "      <td>50%</td>\n",
    "    </tr>\n",
    "  </tbody>\n",
    "</table>"
   ]
  },
  {
   "cell_type": "markdown",
   "metadata": {},
   "source": [
    "The effect of sales growth is calculated using the following formula\n",
    "$$ \n",
    "Effect = NPV_{TO - BE} × Sales - NPV_{AS - IS} × Sales\n",
    "$$"
   ]
  },
  {
   "cell_type": "code",
   "execution_count": 13,
   "metadata": {},
   "outputs": [],
   "source": [
    "NPV_as_is = 4\n",
    "NPV_to_be = 4.4"
   ]
  },
  {
   "cell_type": "markdown",
   "metadata": {},
   "source": [
    "### Sales plan AS-IS = Sales plan TO-BE\n",
    "Sales  for 7 - 12 months = 10000\n",
    "\n",
    "Sales  for 13 - 24 months = 20000\n",
    "\n",
    "Sales  for 25 - 42 months = 30000"
   ]
  },
  {
   "cell_type": "code",
   "execution_count": 14,
   "metadata": {},
   "outputs": [],
   "source": [
    "df['sales'] = 0\n",
    "df['sales'].loc[range(6,12)] = 10000\n",
    "df['sales'].loc[range(12,24)] = 20000\n",
    "df['sales'].loc[range(24,42)] = 30000"
   ]
  },
  {
   "cell_type": "code",
   "execution_count": 15,
   "metadata": {},
   "outputs": [],
   "source": [
    "df['Benefit_inf'] = df['sales']* (NPV_to_be - NPV_as_is) * df['inflation']"
   ]
  },
  {
   "cell_type": "code",
   "execution_count": 16,
   "metadata": {},
   "outputs": [
    {
     "name": "stdout",
     "output_type": "stream",
     "text": [
      "Benefit   357120.00000000006\n"
     ]
    }
   ],
   "source": [
    "print('Benefit  ' ,  sum(df['Benefit_inf']) )"
   ]
  },
  {
   "cell_type": "markdown",
   "metadata": {},
   "source": [
    "### Discounted cash flows \n",
    "\n",
    "#### Now all that we need is to build discounted cash flows as a difference between total costs and effect of sales growth."
   ]
  },
  {
   "cell_type": "markdown",
   "metadata": {},
   "source": [
    "$$\n",
    "Discount Coeficient_i = \\frac{1}{( 1 + WACC) ^ \\frac{i}{12} }\n",
    "$$"
   ]
  },
  {
   "cell_type": "code",
   "execution_count": 17,
   "metadata": {},
   "outputs": [],
   "source": [
    "df['discount_coef'] = 1 / (1 + WACC) ** ((df['period'] + 1)/12)"
   ]
  },
  {
   "cell_type": "code",
   "execution_count": 18,
   "metadata": {},
   "outputs": [],
   "source": [
    "df['cash_flow'] = df['Benefit_inf'] +  df['costs_inf']\n",
    "df['cash_flow_discount'] =  df['discount_coef'] * df['cash_flow'] "
   ]
  },
  {
   "cell_type": "code",
   "execution_count": 19,
   "metadata": {},
   "outputs": [],
   "source": [
    "NPV = sum(df['cash_flow_discount'] )"
   ]
  },
  {
   "cell_type": "code",
   "execution_count": 20,
   "metadata": {},
   "outputs": [
    {
     "name": "stdout",
     "output_type": "stream",
     "text": [
      "NPV    143935.4\n"
     ]
    }
   ],
   "source": [
    "print('NPV   ' ,  round(NPV, 1) )"
   ]
  },
  {
   "cell_type": "markdown",
   "metadata": {},
   "source": [
    "### So we can say that this AI initiative is profitable (NPV>0) and we can accept this project"
   ]
  }
 ],
 "metadata": {
  "kernelspec": {
   "display_name": "Python 3 (ipykernel)",
   "language": "python",
   "name": "python3"
  },
  "language_info": {
   "codemirror_mode": {
    "name": "ipython",
    "version": 3
   },
   "file_extension": ".py",
   "mimetype": "text/x-python",
   "name": "python",
   "nbconvert_exporter": "python",
   "pygments_lexer": "ipython3",
   "version": "3.8.10"
  }
 },
 "nbformat": 4,
 "nbformat_minor": 4
}
