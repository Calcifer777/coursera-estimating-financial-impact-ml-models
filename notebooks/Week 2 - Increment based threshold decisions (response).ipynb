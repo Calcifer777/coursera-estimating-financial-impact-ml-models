{
 "cells": [
  {
   "cell_type": "markdown",
   "metadata": {},
   "source": [
    "## Week 2\n",
    "### Model quality and decision making. Increment based threshold decisions"
   ]
  },
  {
   "cell_type": "markdown",
   "metadata": {},
   "source": [
    "In this jupyter-notebook we will learn how to apply increment based threshold decisions"
   ]
  },
  {
   "cell_type": "markdown",
   "metadata": {},
   "source": [
    "#### Import libraries"
   ]
  },
  {
   "cell_type": "code",
   "execution_count": null,
   "metadata": {},
   "outputs": [],
   "source": [
    "import pandas as pd\n",
    "import numpy as np\n",
    "\n",
    "import seaborn as sns\n",
    "import matplotlib.pyplot as plt\n",
    "\n",
    "from tqdm import tqdm\n",
    "\n",
    "from sklearn.model_selection import train_test_split\n",
    "\n",
    "from sklearn.linear_model import LogisticRegression\n",
    "from sklearn.metrics import confusion_matrix\n",
    "\n",
    "\n",
    "from sklearn.metrics import roc_auc_score\n",
    "from sklearn.metrics import roc_curve\n",
    "from sklearn.metrics import f1_score as f1\n",
    "\n",
    "import matplotlib.colors\n",
    "import random\n",
    "\n",
    "\n",
    "\n",
    "sns.set(style=\"white\")\n",
    "\n",
    "np.random.seed(2020)\n",
    "\n",
    "#settings for plots\n",
    "plt.rcParams.update({'font.size': 16,\n",
    "                     'xtick.labelsize' : 14, \n",
    "                     'ytick.labelsize' : 14,\n",
    "                     'axes.labelsize' : 16,\n",
    "                     'axes.titlesize' : 20})"
   ]
  },
  {
   "cell_type": "code",
   "execution_count": null,
   "metadata": {},
   "outputs": [],
   "source": [
    "import warnings\n",
    "warnings.filterwarnings(\"ignore\")"
   ]
  },
  {
   "cell_type": "markdown",
   "metadata": {},
   "source": [
    "Define some functions that will help us to plot graphs. "
   ]
  },
  {
   "cell_type": "code",
   "execution_count": null,
   "metadata": {},
   "outputs": [],
   "source": [
    "def roc_auc_plot(model, X_train, y_train,\n",
    "                X_oos, y_oos):\n",
    "    \n",
    "    plt.figure(figsize=(12,10))\n",
    "    colors = ['olivedrab','salmon']\n",
    "    for it, i in enumerate(['train', 'oos']):\n",
    "        \n",
    "        #choose the data\n",
    "        if i == 'train':\n",
    "            X = X_train\n",
    "            y_ = y_train\n",
    "        else:\n",
    "            X = X_oos\n",
    "            y_ = y_oos\n",
    "        \n",
    "        y_hat = model.predict_proba(X)[:, 1]\n",
    "        fpr, tpr, _ = roc_curve(y_, y_hat)\n",
    "        gini = 2 * roc_auc_score(y_, y_hat) - 1\n",
    "        plt.plot(fpr, tpr, label = i, color = colors[it], linewidth=2)\n",
    "        print('Model',i, 'gini: ', np.round(gini,2))\n",
    "\n",
    "    plt.xlabel('FPR')\n",
    "    plt.ylabel('TPR')\n",
    "    plt.title('Model old')\n",
    "    plt.legend(bbox_to_anchor=(1, 1));\n",
    "    plt.plot([0,1], [0,1], '--', color='grey', label='Random model')\n",
    "\n",
    "    plt.grid()\n",
    "    _ = plt.legend(loc= 0, prop= {'size': 16})"
   ]
  },
  {
   "cell_type": "code",
   "execution_count": null,
   "metadata": {},
   "outputs": [],
   "source": [
    "def benefit_plot(model, X_train, y_train,\n",
    "                X_oos, y_oos):\n",
    "                 \n",
    "    plt.figure(figsize=(12,8))\n",
    "\n",
    "    colors = ['olivedrab','salmon']\n",
    "    \n",
    "    max_val = []\n",
    "    for it, i in enumerate(['train', 'oos']):\n",
    "\n",
    "        if i == 'train':\n",
    "            X = X_train\n",
    "            y_ = y_train\n",
    "        elif i == 'oos':\n",
    "            X = X_oos\n",
    "            y_ = y_oos\n",
    "\n",
    "        val = []    \n",
    "        ar = []\n",
    "        \n",
    "        \n",
    "        y_ar = X['delta_p']\n",
    "        \n",
    "        #y = model.predict_proba(X.drop(columns = ['pred','pred_comm0', 'pred_comm1', 'delta_p']))[:, 1]\n",
    "        y = X['delta_p']\n",
    "        \n",
    "        for t in tqdm(thr[::-1]):\n",
    "            X['npv'] = (X.delta_p >= t) * (X.pred_comm1 * e_fp - e_fn) + \\\n",
    "                        (X.delta_p < t) * X.pred_comm0 * e_fp\n",
    "            \n",
    "            val.append(X['npv'].mean())\n",
    "            ar.append((np.sum((X.delta_p >= t)*1.)) / len(y))\n",
    "        \n",
    "        \n",
    "        plt.plot(ar, val, label = i, color = colors[it], linewidth=2)  \n",
    "        plt.plot(ar[np.argmax(val)], np.max(val), color = colors[it], marker='*', markersize=10)\n",
    "        max_val.append(np.max(val))\n",
    "\n",
    "    plt.xlabel('Acceptance rate')\n",
    "    plt.ylabel('Benefit')\n",
    "    plt.title('Benefit curve for old model')\n",
    "    plt.legend(bbox_to_anchor=(1, 1));\n",
    "\n",
    "    plt.grid()\n",
    "    _ = plt.legend(loc= 0, prop= {'size': 16})\n",
    "    \n",
    "    print('Max(benefit_oos) =', np.round(max_val[1],2)) \n"
   ]
  },
  {
   "cell_type": "markdown",
   "metadata": {},
   "source": [
    "__Consider a binary classification model $X -> Prob$, e.g. model of response on term deposit__:"
   ]
  },
  {
   "cell_type": "markdown",
   "metadata": {},
   "source": [
    "#### Load Data"
   ]
  },
  {
   "cell_type": "markdown",
   "metadata": {},
   "source": [
    "Load **train** and **out-of-sample** samples"
   ]
  },
  {
   "cell_type": "code",
   "execution_count": null,
   "metadata": {},
   "outputs": [],
   "source": [
    "df_train = pd.read_csv('../data/threshold-decisions/df_train.csv')\n",
    "df_oos = pd.read_csv('../data/threshold-decisions/df_test.csv')\n",
    "## based on kaggle https://www.kaggle.com/henriqueyamahata/bank-marketing"
   ]
  },
  {
   "cell_type": "code",
   "execution_count": null,
   "metadata": {},
   "outputs": [],
   "source": [
    "df_train.head()"
   ]
  },
  {
   "cell_type": "markdown",
   "metadata": {},
   "source": [
    "__Column description:__\n",
    "\n",
    "##### bank client data:\n",
    "- `age` (numeric)\n",
    "- `job` : type of job (categorical: \"admin.\",\"blue-collar\",\"entrepreneur\",\"housemaid\",\"management\",\"retired\",\"self-employed\",\"services\",\"student\",\"technician\",\"unemployed\",\"unknown\")\n",
    "- `marital` : marital status (categorical: \"divorced\",\"married\",\"single\",\"unknown\"; note: \"divorced\" means divorced or widowed)\n",
    "- `education` (categorical: \"basic.4y\",\"basic.6y\",\"basic.9y\",\"high.school\",\"illiterate\",\"professional.course\",\"university.degree\",\"unknown\")\n",
    "- `default`: has credit in default? (categorical: \"no\",\"yes\",\"unknown\")\n",
    "- `housing`: has housing loan? (categorical: \"no\",\"yes\",\"unknown\")\n",
    "- `loan`: has personal loan? (categorical: \"no\",\"yes\",\"unknown\")\n",
    "##### related with the last contact of the current campaign:\n",
    "- `contact`: contact communication type (categorical: \"cellular\",\"telephone\") \n",
    "- `month`: last contact month of year (categorical: \"jan\", \"feb\", \"mar\", ..., \"nov\", \"dec\")\n",
    "- `day_of_week`: last contact day of the week (categorical: \"mon\",\"tue\",\"wed\",\"thu\",\"fri\")\n",
    "- `duration`: last contact duration, in seconds (numeric). Important note:  this attribute highly affects the output target (e.g., if duration=0 then y=\"no\"). Yet, the duration is not known before a call is performed. Also, after the end of the call y is obviously known. Thus, this input should only be included for benchmark purposes and should be discarded if the intention is to have a realistic predictive model.\n",
    "##### other attributes:\n",
    "- `campaign`: number of contacts performed during this campaign and for this client (numeric, includes last contact)\n",
    "- `pdays`: number of days that passed by after the client was last contacted from a previous campaign (numeric; 999 means client was not previously contacted)\n",
    "- `previous`: number of contacts performed before this campaign and for this client (numeric)\n",
    "- `poutcome`: outcome of the previous marketing campaign (categorical: \"failure\",\"nonexistent\",\"success\")\n",
    "##### social and economic context attributes\n",
    "- `emp.var.rate`: employment variation rate - quarterly indicator (numeric)\n",
    "- `cons.price.idx`: consumer price index - monthly indicator (numeric)     \n",
    "- `cons.conf.idx`: consumer confidence index - monthly indicator (numeric)     \n",
    "- `euribor3m`: euribor 3 month rate - daily indicator (numeric)\n",
    "- `nr.employed`: number of employees - quarterly indicator (numeric)\n",
    "\n",
    "___Output variable (desired target):___\n",
    "- `y` - has the client subscribed a term deposit? (binary: \"yes\",\"no\")"
   ]
  },
  {
   "cell_type": "markdown",
   "metadata": {},
   "source": [
    "#### Modelling"
   ]
  },
  {
   "cell_type": "markdown",
   "metadata": {},
   "source": [
    "##### *1. Define target*"
   ]
  },
  {
   "cell_type": "code",
   "execution_count": null,
   "metadata": {},
   "outputs": [],
   "source": [
    "targ_cols = [i for i in df_train.columns if i != 'target']\n",
    "\n",
    "X_train = df_train[targ_cols]\n",
    "X_oos = df_oos[targ_cols]\n",
    "\n",
    "y_train = df_train[\"target\"]\n",
    "y_oos = df_oos[\"target\"]"
   ]
  },
  {
   "cell_type": "markdown",
   "metadata": {},
   "source": [
    "##### 2.*Train model*"
   ]
  },
  {
   "cell_type": "markdown",
   "metadata": {},
   "source": [
    "Define a model with optimized hyperparameters (outside this notebook)\n",
    "\n",
    "You can also train your own more complex model (random forest or gradient-boosting models)"
   ]
  },
  {
   "cell_type": "code",
   "execution_count": null,
   "metadata": {},
   "outputs": [],
   "source": [
    "model = LogisticRegression(C=0.002, fit_intercept=True, max_iter=100,\n",
    "          penalty='l1', random_state=123, solver = 'liblinear',\n",
    "          tol=0.01).fit(X_train, y_train)"
   ]
  },
  {
   "cell_type": "markdown",
   "metadata": {},
   "source": [
    "**Plot roc-auc** in order to compare the quality of model on different samples"
   ]
  },
  {
   "cell_type": "code",
   "execution_count": null,
   "metadata": {},
   "outputs": [],
   "source": [
    "roc_auc_plot(model, X_train, y_train,\n",
    "                X_oos, y_oos)"
   ]
  },
  {
   "cell_type": "markdown",
   "metadata": {},
   "source": [
    "##### *3. Define FP and FN costs*"
   ]
  },
  {
   "cell_type": "markdown",
   "metadata": {},
   "source": [
    "Define costs of communication and subscription payment."
   ]
  },
  {
   "cell_type": "code",
   "execution_count": null,
   "metadata": {},
   "outputs": [],
   "source": [
    "e_fn = 3 #price of communication (npv-)\n",
    "e_fp = 200 #price of subscription (npv+)"
   ]
  },
  {
   "cell_type": "markdown",
   "metadata": {},
   "source": [
    "We want to calculate the probability of response according to communication\n",
    "$$Pr_0=P(Y_i = 1| comm = 0)$$\n",
    "and\n",
    "$$Pr_1=P(Y_i = 1| comm = 1)$$"
   ]
  },
  {
   "cell_type": "code",
   "execution_count": null,
   "metadata": {},
   "outputs": [],
   "source": [
    "#for train\n",
    "X_train_0 = X_train.copy()\n",
    "X_train_0['comm'] = 0\n",
    "X_train_1 = X_train.copy()\n",
    "X_train_1['comm'] = 1\n",
    "\n",
    "#for oos\n",
    "X_oos_0 = X_oos.copy()\n",
    "X_oos_0['comm'] = 0\n",
    "X_oos_1 = X_oos.copy()\n",
    "X_oos_1['comm'] = 1"
   ]
  },
  {
   "cell_type": "markdown",
   "metadata": {},
   "source": [
    "Calculate the model output according to the communication input"
   ]
  },
  {
   "cell_type": "code",
   "execution_count": null,
   "metadata": {},
   "outputs": [],
   "source": [
    "X_train['pred'] = model.predict_proba(X_train)[:,1]\n",
    "X_train['pred_comm0'] = model.predict_proba(X_train_0)[:,1]\n",
    "X_train['pred_comm1'] = model.predict_proba(X_train_1)[:,1]\n",
    "\n",
    "\n",
    "X_oos['pred'] = model.predict_proba(X_oos)[:,1]\n",
    "X_oos['pred_comm0'] = model.predict_proba(X_oos_0)[:,1]\n",
    "X_oos['pred_comm1'] = model.predict_proba(X_oos_1)[:,1]"
   ]
  },
  {
   "cell_type": "markdown",
   "metadata": {},
   "source": [
    "Calculate the delta p $$\\Delta p=Pr_1 - Pr_0$$"
   ]
  },
  {
   "cell_type": "code",
   "execution_count": null,
   "metadata": {},
   "outputs": [],
   "source": [
    "X_train['delta_p'] = X_train['pred_comm1'] - X_train['pred_comm0']\n",
    "X_oos['delta_p'] = X_oos['pred_comm1'] - X_oos['pred_comm0']"
   ]
  },
  {
   "cell_type": "markdown",
   "metadata": {},
   "source": [
    "Let's see the distribution of $\\Delta p$"
   ]
  },
  {
   "cell_type": "code",
   "execution_count": null,
   "metadata": {},
   "outputs": [],
   "source": [
    "sns.distplot(X_train['delta_p']);"
   ]
  },
  {
   "cell_type": "markdown",
   "metadata": {},
   "source": [
    "We see: \n",
    "- communication always increase the probability of response\n",
    "- in most cases $\\Delta p$ is small \n",
    "- we prefer to communicate with people which $\\Delta p$ is bigger (communication increase their response)"
   ]
  },
  {
   "cell_type": "code",
   "execution_count": null,
   "metadata": {},
   "outputs": [],
   "source": [
    "#define threshold space to calculate the benefit\n",
    "thr = np.sort(X_train['delta_p'].sample(frac = 0.01))\n",
    "thr = np.hstack((thr,0.09))"
   ]
  },
  {
   "cell_type": "markdown",
   "metadata": {},
   "source": [
    "**Plot benefit curve** to see the dependence between the benefit and acceptance rate"
   ]
  },
  {
   "cell_type": "markdown",
   "metadata": {},
   "source": [
    "**Acceptance rate** $c$ is a percentage of observations that satisfy rule:\n",
    "$$\n",
    "if \\Delta P \\le a, i.e. c = \\frac{\\sum_{i=1}^{N}I\\{\\Delta P_i\\le a\\}}{N}\n",
    "$$"
   ]
  },
  {
   "cell_type": "code",
   "execution_count": null,
   "metadata": {},
   "outputs": [],
   "source": [
    "benefit_plot(model, X_train, y_train,\n",
    "                X_oos, y_oos)"
   ]
  },
  {
   "cell_type": "markdown",
   "metadata": {},
   "source": [
    "Let's see how communication increase our benefit"
   ]
  },
  {
   "cell_type": "code",
   "execution_count": null,
   "metadata": {},
   "outputs": [],
   "source": [
    "X_oos_comm1 = X_oos[X_oos.comm == 1]\n",
    "y_oos_comm1 = y_oos[X_oos.comm == 1]\n",
    "X_oos_comm1['target'] = y_oos_comm1\n",
    "\n",
    "X_oos_comm0 = X_oos[X_oos.comm == 0]\n",
    "y_oos_comm0 = y_oos[X_oos.comm == 0]\n",
    "X_oos_comm0['target'] = y_oos_comm0"
   ]
  },
  {
   "cell_type": "markdown",
   "metadata": {},
   "source": [
    "Group values according to the fact of communication and $\\Delta p$"
   ]
  },
  {
   "cell_type": "code",
   "execution_count": null,
   "metadata": {},
   "outputs": [],
   "source": [
    "bins_hist = np.histogram(X_oos.delta_p, bins = 3)[1]\n",
    "\n",
    "oos_groups_comm1 = X_oos_comm1.groupby(pd.cut(X_oos_comm1.delta_p, bins_hist))\n",
    "oos_groups_comm0 = X_oos_comm0.groupby(pd.cut(X_oos_comm0.delta_p, bins_hist))\n",
    "oos_groups_ = X_oos.groupby(pd.cut(X_oos.delta_p, bins_hist))"
   ]
  },
  {
   "cell_type": "markdown",
   "metadata": {},
   "source": [
    "Let's see how the value\n",
    "$$ \\overline{Y|comm=1} - \\overline{Y|comm=0} $$\n",
    "and\n",
    "$$\\overline{Pred}$$\n",
    "changes according to $\\Delta p$ bin"
   ]
  },
  {
   "cell_type": "code",
   "execution_count": null,
   "metadata": {},
   "outputs": [],
   "source": [
    "fig, ax1 = plt.subplots(figsize = (12,7))\n",
    "\n",
    "Y_comm1 = oos_groups_comm1.target.mean()\n",
    "Y_comm0 = oos_groups_comm0.target.mean()\n",
    "delta_y = Y_comm1 - Y_comm0\n",
    "(delta_y).plot(label='$\\overline{Y|comm=1} - \\overline{Y|comm=0}$', marker='*', \n",
    "                                    linestyle = 'None', color='olivedrab', markersize =20)\n",
    "\n",
    "\n",
    "oos_groups_.pred.mean().plot(label='$\\overline{P}$', marker='*', \n",
    "                                    linestyle = '--', color='salmon', markersize =20)\n",
    "\n",
    "\n",
    "\n",
    "plt.xlabel('$\\Delta p$')\n",
    "plt.legend#(bbox_to_anchor=(1, 1));\n",
    "plt.grid()\n",
    "plt.tight_layout()\n",
    "\n",
    "_ = plt.legend(loc= 0, prop= {'size': 16})\n",
    "ax1.xaxis.set_tick_params(rotation = 60)\n"
   ]
  },
  {
   "cell_type": "markdown",
   "metadata": {},
   "source": [
    "We see that the higher delta p the higher the probability of response. The real communication response $ \\overline{Y|comm=1} - \\overline{Y|comm=0} $ saves this tendention besides bin [0.0203,0.0261] where not so many observations."
   ]
  },
  {
   "cell_type": "code",
   "execution_count": null,
   "metadata": {
    "scrolled": true
   },
   "outputs": [],
   "source": [
    "sns.distplot(X_train['delta_p']);"
   ]
  },
  {
   "cell_type": "markdown",
   "metadata": {},
   "source": [
    "Let's see how the value\n",
    "$$ \\overline{Y|comm=1}$$\n",
    "and\n",
    "$$\\overline{P_1}$$\n",
    "changes according to $\\Delta p$ bin"
   ]
  },
  {
   "cell_type": "code",
   "execution_count": null,
   "metadata": {},
   "outputs": [],
   "source": [
    "bins_hist = np.histogram(X_oos.pred_comm1, bins = 3)[1]\n",
    "\n",
    "oos_groups_comm1 = X_oos_comm1.groupby(pd.cut(X_oos_comm1.pred, bins_hist))\n",
    "oos_groups_ = X_oos.groupby(pd.cut(X_oos.pred, bins_hist))\n",
    "\n",
    "\n",
    "fig, ax1 = plt.subplots(figsize = (12,7))\n",
    "\n",
    "Y_comm1 = oos_groups_comm1.target.mean()\n",
    "\n",
    "\n",
    "Y_comm1.plot(label='$\\overline{Y|comm=1}$', marker='*', \n",
    "                                    linestyle = 'None', color='olivedrab', markersize =20)\n",
    "\n",
    "\n",
    "oos_groups_.pred_comm1.mean().plot(label='$\\overline{P_1}$', marker='*', \n",
    "                                    linestyle = '--', color='salmon', markersize =20)\n",
    "\n",
    "\n",
    "\n",
    "plt.xlabel('$P_1$')\n",
    "plt.legend#(bbox_to_anchor=(1, 1));\n",
    "plt.grid()\n",
    "plt.tight_layout()\n",
    "\n",
    "_ = plt.legend(loc= 0, prop= {'size': 16})\n",
    "ax1.xaxis.set_tick_params(rotation = 60)\n"
   ]
  },
  {
   "cell_type": "markdown",
   "metadata": {},
   "source": [
    "Let's see how the value\n",
    "$$ \\overline{Y|comm=0}$$\n",
    "and\n",
    "$$\\overline{P_0}$$\n",
    "changes according to $\\Delta p$ bin"
   ]
  },
  {
   "cell_type": "code",
   "execution_count": null,
   "metadata": {},
   "outputs": [],
   "source": [
    "bins_hist = np.histogram(X_oos.pred_comm0, bins = 3)[1]\n",
    "\n",
    "oos_groups_comm0 = X_oos_comm0.groupby(pd.cut(X_oos_comm0.pred, bins_hist))\n",
    "oos_groups_ = X_oos.groupby(pd.cut(X_oos.pred, bins_hist))\n",
    "\n",
    "\n",
    "fig, ax1 = plt.subplots(figsize = (12,7))\n",
    "\n",
    "Y_comm0 = oos_groups_comm0.target.mean()\n",
    "\n",
    "\n",
    "Y_comm0.plot(label='$\\overline{Y|comm=0}$', marker='*', \n",
    "                                    linestyle = 'None', color='olivedrab', markersize =20)\n",
    "\n",
    "\n",
    "oos_groups_.pred_comm1.mean().plot(label='$\\overline{P_0}$', marker='*', \n",
    "                                    linestyle = '--', color='salmon', markersize =20)\n",
    "\n",
    "\n",
    "\n",
    "plt.xlabel('$P_0$')\n",
    "plt.legend#(bbox_to_anchor=(1, 1));\n",
    "plt.grid()\n",
    "plt.tight_layout()\n",
    "\n",
    "_ = plt.legend(loc= 0, prop= {'size': 16})\n",
    "ax1.xaxis.set_tick_params(rotation = 60)\n"
   ]
  }
 ],
 "metadata": {
  "kernelspec": {
   "display_name": "Python 3 (ipykernel)",
   "language": "python",
   "name": "python3"
  },
  "language_info": {
   "codemirror_mode": {
    "name": "ipython",
    "version": 3
   },
   "file_extension": ".py",
   "mimetype": "text/x-python",
   "name": "python",
   "nbconvert_exporter": "python",
   "pygments_lexer": "ipython3",
   "version": "3.8.10"
  }
 },
 "nbformat": 4,
 "nbformat_minor": 4
}
