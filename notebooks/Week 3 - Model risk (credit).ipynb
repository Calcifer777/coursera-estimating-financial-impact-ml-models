{
 "cells": [
  {
   "cell_type": "markdown",
   "metadata": {},
   "source": [
    " \n",
    "## Week 3\n",
    "### Model Risk"
   ]
  },
  {
   "cell_type": "markdown",
   "metadata": {},
   "source": [
    "#### Import libraries"
   ]
  },
  {
   "cell_type": "markdown",
   "metadata": {},
   "source": [
    "We use materials from **Week 2 - Benefit curve (credit)**"
   ]
  },
  {
   "cell_type": "code",
   "execution_count": null,
   "metadata": {},
   "outputs": [],
   "source": [
    "import pandas as pd\n",
    "import numpy as np\n",
    "\n",
    "import seaborn as sns\n",
    "import matplotlib.pyplot as plt\n",
    "\n",
    "\n",
    "from sklearn.model_selection import train_test_split\n",
    "\n",
    "from sklearn.linear_model import LogisticRegression\n",
    "from sklearn.model_selection import GridSearchCV\n",
    "from sklearn.metrics import confusion_matrix\n",
    "\n",
    "\n",
    "from sklearn.metrics import roc_auc_score\n",
    "from sklearn.metrics import roc_curve\n",
    "from sklearn.metrics import f1_score as f1\n",
    "\n",
    "import matplotlib.colors\n",
    "\n",
    "\n",
    "sns.set(style=\"white\")\n",
    "\n",
    "np.random.seed(2020)\n",
    "\n",
    "#settings for plots\n",
    "plt.rcParams.update({'font.size': 16,\n",
    "                     'xtick.labelsize' : 14, \n",
    "                     'ytick.labelsize' : 14,\n",
    "                     'axes.labelsize' : 16,\n",
    "                     'axes.titlesize' : 20})"
   ]
  },
  {
   "cell_type": "code",
   "execution_count": null,
   "metadata": {},
   "outputs": [],
   "source": [
    "import warnings\n",
    "warnings.filterwarnings(\"ignore\")"
   ]
  },
  {
   "cell_type": "markdown",
   "metadata": {},
   "source": [
    "Define some functions that will help us to plot graphs. "
   ]
  },
  {
   "cell_type": "code",
   "execution_count": null,
   "metadata": {},
   "outputs": [],
   "source": [
    "def roc_auc_plot(model, X_train, y_train,\n",
    "                X_oos, y_oos, X_oot, y_oot, names = ['train', 'oos' ]):\n",
    "    \n",
    "    plt.figure(figsize=(10,8))\n",
    "    colors = ['olivedrab','deepskyblue',  'salmon']\n",
    "    \n",
    "    for it, i in enumerate(names):\n",
    "        \n",
    "        #choose the data\n",
    "        if i == 'train':\n",
    "            X = X_train\n",
    "            y_ = y_train\n",
    "        elif i == 'oos':\n",
    "            X = X_oos\n",
    "            y_ = y_oos\n",
    "        else:\n",
    "            X = X_oot\n",
    "            y_ = y_oot\n",
    "        \n",
    "        y_hat = model.predict_proba(X)[:, 1]\n",
    "        fpr, tpr, _ = roc_curve(y_, y_hat)\n",
    "        gini = 2 * roc_auc_score(y_, y_hat) - 1\n",
    "        plt.plot(fpr, tpr, label = i, color = colors[it], linewidth=2)\n",
    "        print('Model',i, 'gini: ', np.round(gini,2))\n",
    "\n",
    "    plt.xlabel('FPR')\n",
    "    plt.ylabel('TPR')\n",
    "    plt.title('Model old')\n",
    "    plt.legend(bbox_to_anchor=(1, 1));\n",
    "    plt.plot([0,1], [0,1], '--', color='grey', label='Random model')\n",
    "\n",
    "    plt.grid()\n",
    "    _ = plt.legend(loc= 0, prop= {'size': 16})"
   ]
  },
  {
   "cell_type": "code",
   "execution_count": null,
   "metadata": {},
   "outputs": [],
   "source": [
    "def benefit_plot(model, X_train, y_train,\n",
    "                X_oos, y_oos, X_oot, y_oot, names = ['train', 'oos' ]):\n",
    "                 \n",
    "    plt.figure(figsize=(10,8))\n",
    "\n",
    "    colors = ['olivedrab','deepskyblue',  'salmon']\n",
    "    \n",
    "    max_val = []\n",
    "    for it, i in enumerate(names):\n",
    "\n",
    "        if i == 'train':\n",
    "            X = X_train\n",
    "            y_ = y_train\n",
    "        elif i == 'oos':\n",
    "            X = X_oos\n",
    "            y_ = y_oos\n",
    "        else:\n",
    "            X = X_oot\n",
    "            y_ = y_oot\n",
    "\n",
    "        benefit = []    \n",
    "        c_acceptance_rate = []\n",
    "        \n",
    "        y_hat = model.predict_proba(X)[:, 1]\n",
    "        \n",
    "        for t in thr:\n",
    "            #calculate confusion matrix\n",
    "            CM = confusion_matrix(y_, (y_hat > t)*1.)  \n",
    "            \n",
    "            #calculate accaptance rate as amount of non-defaulted clients\n",
    "            c_acceptance_rate.append((len(y_hat) - np.sum((y_hat > t)*1.)) / len(y_hat))\n",
    "            TN = CM[0][0]\n",
    "            FN = CM[1][0]\n",
    "            FP = CM[0][1]\n",
    "            \n",
    "            #calculate the financial effect\n",
    "            benefit.append(TN * e_fp - FN * e_fn)\n",
    "\n",
    "        fpr, tpr, _ = roc_curve(y_, y_hat)\n",
    "        gini = 2 * roc_auc_score(y_, y_hat) - 1\n",
    "        print('Model',i, 'gini: ', np.round(gini,2)) \n",
    "        print('Model',i, 'Max Benefit: ', np.max(benefit)) \n",
    "        \n",
    "        plt.plot(c_acceptance_rate, benefit, label = i, color = colors[it], linewidth=2)  \n",
    "        plt.plot(c_acceptance_rate[np.argmax(benefit)], np.max(benefit), color = colors[it], marker='*', markersize=10)\n",
    "         \n",
    "\n",
    "\n",
    "    plt.xlabel('Acceptance rate')\n",
    "    plt.ylabel('Benefit')\n",
    "    plt.title('Benefit curve for old model')\n",
    "    plt.legend(bbox_to_anchor=(1, 1));\n",
    "\n",
    "    plt.grid()\n",
    "    _ = plt.legend(loc= 0, prop= {'size': 16})\n",
    "    \n"
   ]
  },
  {
   "cell_type": "markdown",
   "metadata": {},
   "source": [
    "__Consider a binary classification model $X -> Prob$, e.g. credit scoring__:"
   ]
  },
  {
   "cell_type": "markdown",
   "metadata": {},
   "source": [
    "#### Load Data"
   ]
  },
  {
   "cell_type": "markdown",
   "metadata": {},
   "source": [
    "Load **train**, **out-of-sample** and **out-of-time** samples"
   ]
  },
  {
   "cell_type": "code",
   "execution_count": null,
   "metadata": {},
   "outputs": [],
   "source": [
    "df_train = pd.read_csv('../data/benefit-curve/df_train.csv')\n",
    "df_oos = pd.read_csv('../data/benefit-curve/df_oos.csv')\n",
    "df_oot = pd.read_csv('../data/benefit-curve/df_oot.csv')\n",
    "## based on kaggle https://www.kaggle.com/c/GiveMeSomeCredit"
   ]
  },
  {
   "cell_type": "code",
   "execution_count": null,
   "metadata": {},
   "outputs": [],
   "source": []
  },
  {
   "cell_type": "code",
   "execution_count": null,
   "metadata": {},
   "outputs": [],
   "source": [
    "df_train.head()"
   ]
  },
  {
   "cell_type": "markdown",
   "metadata": {},
   "source": [
    "__Column description:__\n",
    "\n",
    "- `issue_d` - The month which the loan was funded\n",
    "- `addr_state` - The state provided by the borrower in the loan application\n",
    "- `emp_title` - The job title supplied by the Borrower when applying for the loan.\n",
    "- `installment` - The monthly payment owed by the borrower if the loan originates.\n",
    "- `dti` - A ratio calculated using the borrower’s total monthly debt payments on the total debt obligations, excluding mortgage and the requested LC loan, divided by the borrower’s self-reported monthly income.\n",
    "- `funded_amnt` - The total amount committed to that loan at that point in time.\n",
    "- `annual_inc` - The self-reported annual income provided by the borrower during registration.\n",
    "- `emp_length` - Employment length in years. Possible values are between 0 and 10 where 0 means less than one year and 10 means ten or more years. \n",
    "- `term` - The number of payments on the loan. Values are in months and can be either 36 or 60.\n",
    "- `inq_last_6mths` - The number of inquiries in past 6 months (excluding auto and mortgage inquiries)\n",
    "- `mths_since_recent_inq` - Months since most recent inquiry.\n",
    "- `delinq_2yrs` - The number of 30+ days past-due incidences of delinquency in the borrower's credit file for the past 2 years\n",
    "- `chargeoff_within_12_mths` - Number of charge-offs within 12 months\n",
    "- `num_accts_ever_120_pd` - Number of accounts ever 120 or more days past due\n",
    "- `num_tl_90g_dpd_24m` - Number of accounts 90 or more days past due in last 24 months\n",
    "- `acc_open_past_24mths` - Number of trades opened in past 24 months.\n",
    "- `avg_cur_bal` - Average current balance of all accounts\n",
    "- `tot_hi_cred_lim` - Total high credit/credit limit\n",
    "- `delinq_amnt` - The past-due amount owed for the accounts on which the borrower is now delinquent.\n",
    "\n",
    "And all categorical variables are encoded:\n",
    "- `sub_grade` - External assigned loan subgrade\n",
    "- `purpose` - A category provided by the borrower for the loan request.\n",
    "- `home_ownership` - The home ownership status provided by the borrower during registration or obtained from the credit report. Our values are: RENT, OWN, MORTGAGE, OTHER\n",
    "\n",
    "\n",
    "__Target variable:__\n",
    "- `def`"
   ]
  },
  {
   "cell_type": "markdown",
   "metadata": {},
   "source": [
    "#### Modelling"
   ]
  },
  {
   "cell_type": "markdown",
   "metadata": {},
   "source": [
    "##### *Define target*"
   ]
  },
  {
   "cell_type": "code",
   "execution_count": null,
   "metadata": {},
   "outputs": [],
   "source": [
    "targ_cols = [i for i in df_train.columns if i != 'def']\n",
    "\n",
    "X_train = df_train[targ_cols]\n",
    "X_oos = df_oos[targ_cols]\n",
    "X_oot = df_oot[targ_cols]\n",
    "\n",
    "y_train = df_train[\"def\"]\n",
    "y_oos = df_oos[\"def\"]\n",
    "y_oot = df_oot[\"def\"]"
   ]
  },
  {
   "cell_type": "markdown",
   "metadata": {},
   "source": [
    "##### *Define FP and FN costs*\n",
    "\n",
    "Financial result of model performance depends on FP and FN error"
   ]
  },
  {
   "cell_type": "code",
   "execution_count": null,
   "metadata": {},
   "outputs": [],
   "source": [
    "S = 1000 # amount of loan\n",
    "r = 0.03 # interest rate\n",
    "lgd = 0.2 # losses in case of default\n",
    "e_fp = r * S # 1 type error cost\n",
    "e_fn = lgd * S # 2 type error cost"
   ]
  },
  {
   "cell_type": "code",
   "execution_count": null,
   "metadata": {},
   "outputs": [],
   "source": [
    "#the grid to calculate acceptance rate\n",
    "thr = np.linspace(0,1,41) #41"
   ]
  },
  {
   "cell_type": "markdown",
   "metadata": {},
   "source": [
    "##### *Train old model*"
   ]
  },
  {
   "cell_type": "code",
   "execution_count": null,
   "metadata": {},
   "outputs": [],
   "source": [
    "model_old = LogisticRegression(C=0.02, fit_intercept=True, max_iter=100,\n",
    "          penalty='l1', random_state=123, solver = 'liblinear',\n",
    "          tol=0.01).fit(X_train, y_train)\n",
    "\n",
    "\n",
    "model_old.fit(X_train, y_train)"
   ]
  },
  {
   "cell_type": "markdown",
   "metadata": {},
   "source": [
    "**Plot roc-auc** in order to compare the quality of model on different samples"
   ]
  },
  {
   "cell_type": "code",
   "execution_count": null,
   "metadata": {},
   "outputs": [],
   "source": [
    "roc_auc_plot(model_old, X_train, y_train,\n",
    "                X_oos, y_oos, X_oot, y_oot, ['train', 'oos' ])"
   ]
  },
  {
   "cell_type": "markdown",
   "metadata": {},
   "source": [
    "We see that the quality of model on oos and oot data is lower than on the train"
   ]
  },
  {
   "cell_type": "markdown",
   "metadata": {},
   "source": [
    "___\n",
    "**Plot benefit curve** to see the dependence between the benefit and acceptance rate "
   ]
  },
  {
   "cell_type": "markdown",
   "metadata": {},
   "source": [
    "Simple threshold decision is a level $a$: \n",
    "if $Prob > a$ then some action is undertaken, i.e. $\\hat{𝑌}=1$ and otherwise $\\hat{𝑌}=0$\n"
   ]
  },
  {
   "cell_type": "markdown",
   "metadata": {},
   "source": [
    "**Acceptance rate** $c$ is a percentage of observations that satisfy rule:\n",
    "$$\n",
    "if Prob \\le a, i.e. c = \\frac{\\sum_{i=1}^{N}I\\{Prob_i\\le a\\}}{N}\n",
    "$$"
   ]
  },
  {
   "cell_type": "markdown",
   "metadata": {},
   "source": [
    "We use the function that is defined above. For each acceptance rate we calculate the benefit:\n",
    "1. Pick threshold level a. Calculate c (x axis)\n",
    "2. Calculate FP and FN for given c\n",
    "3. Weigh FP and FN with error costs (e_FP and e_FN) and plot on y axis\n",
    "4. Reiterate 1-3 from $c = 0$ to $c = 1$"
   ]
  },
  {
   "cell_type": "code",
   "execution_count": null,
   "metadata": {},
   "outputs": [],
   "source": [
    "benefit_plot(model_old, X_train, y_train, X_oos, y_oos, \n",
    "                X_oot, y_oot,['train', 'oos' ])"
   ]
  },
  {
   "cell_type": "markdown",
   "metadata": {},
   "source": [
    "##### *Train new model*"
   ]
  },
  {
   "cell_type": "markdown",
   "metadata": {},
   "source": [
    "Define better model with optimized hyperparameters (outside this notebook)\n",
    "\n",
    "You can also train your own more complex model (random forest or gradient-boosting models)"
   ]
  },
  {
   "cell_type": "code",
   "execution_count": null,
   "metadata": {},
   "outputs": [],
   "source": [
    "model_new = LogisticRegression(C=2, fit_intercept=True, max_iter=100,\n",
    "          penalty='l1', random_state=123, solver = 'liblinear',\n",
    "          tol=0.01).fit(X_train, y_train)\n",
    "\n",
    "model_new.fit(X_train, y_train)"
   ]
  },
  {
   "cell_type": "markdown",
   "metadata": {},
   "source": [
    "**Plot roc-auc** in order to compare the quality of model on different samples"
   ]
  },
  {
   "cell_type": "code",
   "execution_count": null,
   "metadata": {},
   "outputs": [],
   "source": [
    "roc_auc_plot(model_new, X_train, y_train,X_oos, y_oos, \n",
    "                X_oot, y_oot, ['train', 'oos'])"
   ]
  },
  {
   "cell_type": "markdown",
   "metadata": {},
   "source": [
    "**Plot benefit curve** to see the dependence between the benefit and acceptance rate "
   ]
  },
  {
   "cell_type": "code",
   "execution_count": null,
   "metadata": {},
   "outputs": [],
   "source": [
    "benefit_plot(model_new, X_train, y_train, X_oos, y_oos, \n",
    "                X_oot, y_oot, ['train', 'oos'])"
   ]
  },
  {
   "cell_type": "markdown",
   "metadata": {},
   "source": [
    "In our example we get that the higher model quality metrics are, the higher is financial result (in general)"
   ]
  },
  {
   "cell_type": "markdown",
   "metadata": {},
   "source": [
    "  \n",
    "  "
   ]
  },
  {
   "cell_type": "markdown",
   "metadata": {},
   "source": [
    "#### 1.Model non-optimal implementation"
   ]
  },
  {
   "cell_type": "markdown",
   "metadata": {},
   "source": [
    "To calculate model risk we should find the difference between the benefit of using old model and the benefit of using current model:\n",
    "$$Model Risk = Benefit (Optimal Model) - Benefit (Current Model) $$"
   ]
  },
  {
   "cell_type": "markdown",
   "metadata": {},
   "source": [
    "Let's compare the benefit of using optimal cut-off and the one that equals 0.1"
   ]
  },
  {
   "cell_type": "code",
   "execution_count": null,
   "metadata": {},
   "outputs": [],
   "source": [
    "plt.figure(figsize=(10,8))\n",
    "\n",
    "colors = ['salmon']\n",
    "labels_m = ['Old model']\n",
    "\n",
    "\n",
    "val_oos = [] \n",
    "ar_oos = []\n",
    "\n",
    "y_oos_ = model_old.predict_proba(X_oos)[:, 1]\n",
    "\n",
    "for t in thr:\n",
    "    CM_oos = confusion_matrix(y_oos, (y_oos_ > t)*1.)  \n",
    "    ar_oos.append((len(y_oos) - np.sum((y_oos_ > t)*1.)) / len(y_oos_))\n",
    "    val_oos.append(CM_oos[0][0] * e_fp - CM_oos[1][0] * e_fn)\n",
    "\n",
    "plt.plot(ar_oos, val_oos, label = 'Current Model' , color = 'salmon', linewidth=2) \n",
    "## OPTIMAL CUT-OFF\n",
    "plt.plot(ar_oos[np.argmax(val_oos)], np.max(val_oos), color = 'red', marker='*', markersize=15)\n",
    "optimal_benefit = np.max(val_oos)    \n",
    "\n",
    "## Current cut-off\n",
    "t = 0.1\n",
    "\n",
    "\n",
    "y_oos_ = model_old.predict_proba(X_oos)[:, 1]\n",
    "\n",
    "CM_oos = confusion_matrix(y_oos, (y_oos_ > t)*1.)  \n",
    "ar_oos = ((len(y_oos) - np.sum((y_oos_ > t)*1.)) / len(y_oos_))\n",
    "val_oos = (CM_oos[0][0] * e_fp - CM_oos[1][0] * e_fn)\n",
    "\n",
    "## CURRENT CUT-OFF\n",
    "plt.plot(ar_oos, val_oos, color = 'black', marker='*', markersize=12)\n",
    "cutrrent_benefit = val_oos       \n",
    "    \n",
    "plt.xlabel('Acceptance rate')\n",
    "plt.ylabel('Benefit')\n",
    "plt.title('Benefit curve ')\n",
    "plt.legend(bbox_to_anchor=(1, 1));\n",
    "\n",
    "plt.grid()\n",
    "_ = plt.legend(loc= 0, prop= {'size': 16})\n",
    "\n",
    "print('Model Risk = Benefit (Optimal Model) - Benefit (Current Model) = ', optimal_benefit - cutrrent_benefit) \n"
   ]
  },
  {
   "cell_type": "markdown",
   "metadata": {},
   "source": [
    "##### 2. Ignoring better model"
   ]
  },
  {
   "cell_type": "markdown",
   "metadata": {},
   "source": [
    "Now we compare the benefit of using better model and the current one.\n",
    "$$Model Risk = Benefit (Better Model) - Benefit (Current Model)$$"
   ]
  },
  {
   "cell_type": "code",
   "execution_count": null,
   "metadata": {},
   "outputs": [],
   "source": [
    "#this code duplicates the code from benefit_plot for two models\n",
    "plt.figure(figsize=(10,8))\n",
    "\n",
    "colors = ['salmon', 'olivedrab']\n",
    "labels_m = ['New model', 'Old model']\n",
    "\n",
    "max_val = []\n",
    "for it, model in enumerate([model_new, model_old]):\n",
    "    val_oos = [] \n",
    "    ar_oos = []\n",
    "\n",
    "    y_oos_ = model.predict_proba(X_oos)[:, 1]\n",
    "\n",
    "    for t in thr:\n",
    "\n",
    "        CM_oos = confusion_matrix(y_oos, (y_oos_ > t)*1.)  \n",
    "        ar_oos.append((len(y_oos) - np.sum((y_oos_ > t)*1.)) / len(y_oos_))\n",
    "        val_oos.append(CM_oos[0][0] * e_fp - CM_oos[1][0] * e_fn)\n",
    "\n",
    "\n",
    "    plt.plot(ar_oos, val_oos, label = labels_m[it] + ' oos', color = colors[it], linewidth=2) \n",
    "    plt.plot(ar_oos[np.argmax(val_oos)], np.max(val_oos), color = colors[it], marker='*', markersize=10)\n",
    "    max_val.append(np.max(val_oos))\n",
    "\n",
    "plt.xlabel('Acceptance rate')\n",
    "plt.ylabel('Benefit')\n",
    "plt.title('Benefit curve ')\n",
    "plt.legend(bbox_to_anchor=(1, 1));\n",
    "\n",
    "plt.grid()\n",
    "_ = plt.legend(loc= 0, prop= {'size': 16})\n",
    "\n",
    "print('Model Risk = Benefit(Better Model) -  Benefit(Current Model)) = ', np.round(max_val[0] - max_val[1],1)) "
   ]
  },
  {
   "cell_type": "markdown",
   "metadata": {},
   "source": [
    "##### 3.*We have out-of-time sample to check model quality*"
   ]
  },
  {
   "cell_type": "markdown",
   "metadata": {},
   "source": [
    "Now let's see how benefit depends on model degradation over time\n",
    "$$Model Risk = Benefit (Current Model) - Benefit (Model Decay)$$"
   ]
  },
  {
   "cell_type": "code",
   "execution_count": null,
   "metadata": {},
   "outputs": [],
   "source": [
    "roc_auc_plot(model_old, X_train, y_train, X_oos, y_oos,\n",
    "                X_oot, y_oot, ['oos', 'oot'])"
   ]
  },
  {
   "cell_type": "code",
   "execution_count": null,
   "metadata": {},
   "outputs": [],
   "source": [
    "#this code duplicates the code from benefit_plot for two models\n",
    "plt.figure(figsize=(10,8))\n",
    "\n",
    "colors = ['salmon', 'olivedrab']\n",
    "labels_m = ['New model', 'Old model']\n",
    "\n",
    "max_val = []\n",
    "\n",
    "val_oos = [] \n",
    "ar_oos = []\n",
    "val_oot = [] \n",
    "ar_oot = []\n",
    "\n",
    "\n",
    "y_oos_ = model_old.predict_proba(X_oos)[:, 1]\n",
    "y_oot_ = model_old.predict_proba(X_oot)[:, 1]\n",
    "\n",
    "for t in thr:\n",
    "\n",
    "    CM_oos = confusion_matrix(y_oos, (y_oos_ > t)*1.)  \n",
    "    ar_oos.append((len(y_oos) - np.sum((y_oos_ > t)*1.)) / len(y_oos_))\n",
    "    val_oos.append(CM_oos[0][0] * e_fp - CM_oos[1][0] * e_fn)\n",
    "\n",
    "    CM_oot = confusion_matrix(y_oot, (y_oot_ > t)*1.)  \n",
    "    ar_oot.append((len(y_oot) - np.sum((y_oot_ > t)*1.)) / len(y_oot_))\n",
    "    val_oot.append(CM_oot[0][0] * e_fp - CM_oot[1][0] * e_fn)\n",
    "\n",
    "\n",
    "\n",
    "plt.plot(ar_oos, val_oos, label = 'Now', color = 'salmon', linewidth=2) \n",
    "plt.plot(ar_oos[np.argmax(val_oos)], np.max(val_oos), color = 'salmon', marker='*', markersize=12)\n",
    "\n",
    "plt.plot(ar_oot, val_oot, label = 'In 1 Year' , color = 'olivedrab', linewidth=2) \n",
    "plt.plot(ar_oot[np.argmax(val_oot)], np.max(val_oot), color = 'olivedrab', marker='*', markersize=12)\n",
    "\n",
    "plt.xlabel('Acceptance rate')\n",
    "plt.ylabel('Benefit')\n",
    "plt.title('Benefit curve ')\n",
    "plt.legend(bbox_to_anchor=(1, 1));\n",
    "\n",
    "plt.grid()\n",
    "_ = plt.legend(loc= 0, prop= {'size': 16})\n",
    "\n",
    "print('Model Risk = Benefit(Current Model) -  Benefit(Decay Model)) = ',\n",
    "      ar_oos[np.argmax(val_oos)] - ar_oot[np.argmax(val_oot)]) "
   ]
  },
  {
   "cell_type": "markdown",
   "metadata": {},
   "source": [
    "## Model risk"
   ]
  },
  {
   "cell_type": "markdown",
   "metadata": {},
   "source": [
    "To sum up, we can see the components of midel risk "
   ]
  },
  {
   "cell_type": "code",
   "execution_count": null,
   "metadata": {},
   "outputs": [],
   "source": [
    "plt.figure(figsize=(10,8))\n",
    "\n",
    "val_oos = [] \n",
    "ar_oos = []\n",
    "val_oot = [] \n",
    "ar_oot = []\n",
    "val_oos_alt = [] \n",
    "ar_oos_alt = []\n",
    "\n",
    "y_oos_ = model_old.predict_proba(X_oos)[:, 1]\n",
    "y_oot_ = model_old.predict_proba(X_oot)[:, 1]\n",
    "y_oos_alt_ = model_new.predict_proba(X_oos)[:, 1]\n",
    "\n",
    "for t in thr:\n",
    "\n",
    "    CM_oos = confusion_matrix(y_oos, (y_oos_ > t)*1.)  \n",
    "    ar_oos.append((len(y_oos) - np.sum((y_oos_ > t)*1.)) / len(y_oos_))\n",
    "    val_oos.append(CM_oos[0][0] * e_fp - CM_oos[1][0] * e_fn)\n",
    "\n",
    "    CM_oot = confusion_matrix(y_oot, (y_oot_ > t)*1.)  \n",
    "    ar_oot.append((len(y_oot) - np.sum((y_oot_ > t)*1.)) / len(y_oot_))\n",
    "    val_oot.append(CM_oot[0][0] * e_fp - CM_oot[1][0] * e_fn)\n",
    "\n",
    "    CM_oos_alt = confusion_matrix(y_oos, (y_oos_alt_ > t)*1.)  \n",
    "    ar_oos_alt.append((len(y_oos) - np.sum((y_oos_alt_ > t)*1.)) / len(y_oos_alt_))\n",
    "    val_oos_alt.append(CM_oos_alt[0][0] * e_fp - CM_oos_alt[1][0] * e_fn)\n",
    "\n",
    "\n",
    "plt.plot(ar_oos, val_oos, color = 'salmon', linewidth=2) \n",
    "plt.plot(ar_oos[np.argmax(val_oos)], np.max(val_oos), color = 'salmon', marker='*', markersize=12, \n",
    "         label = 'A - current model')\n",
    "\n",
    "plt.plot(ar_oot, val_oot, color = 'olivedrab', linewidth=2) \n",
    "plt.plot(ar_oot[np.argmax(val_oot)], np.max(val_oot), color = 'olivedrab', marker='*', markersize=12,\n",
    "        label = 'B - model decay')\n",
    "\n",
    "plt.plot(ar_oos_alt, val_oos_alt, color = 'deepskyblue', linewidth=2) \n",
    "plt.plot(ar_oos_alt[np.argmax(val_oos_alt)], np.max(val_oos_alt), color = 'deepskyblue', marker='*', markersize=12,\n",
    "        label = 'C - better model')\n",
    "\n",
    "\n",
    "## Current cut-off\n",
    "t = 0.1\n",
    "\n",
    "y_oos_ = model_old.predict_proba(X_oos)[:, 1]\n",
    "\n",
    "CM_oos = confusion_matrix(y_oos, (y_oos_ > t)*1.)  \n",
    "ar_oos = ((len(y_oos) - np.sum((y_oos_ > t)*1.)) / len(y_oos_))\n",
    "val_oos = (CM_oos[0][0] * e_fp - CM_oos[1][0] * e_fn)\n",
    "\n",
    "## CURRENT CUT-OFF\n",
    "plt.plot(ar_oos, val_oos, color = 'black', marker='*', markersize=12,\n",
    "        label = 'D - optimal model')\n",
    "cutrrent_benefit = val_oos       \n",
    "    \n",
    "\n",
    "plt.xlabel('Acceptance rate')\n",
    "plt.ylabel('Benefit')\n",
    "plt.title('Benefit curve ')\n",
    "plt.legend(bbox_to_anchor=(1, 1));\n",
    "\n",
    "plt.grid()\n",
    "_ = plt.legend(loc= 0, prop= {'size': 16})"
   ]
  },
  {
   "cell_type": "markdown",
   "metadata": {},
   "source": [
    "# Model Risk:\n",
    "   ## Model Decay = A - B\n",
    "   ## Better Model = C - A\n",
    "   ## Optimal model = D - A"
   ]
  }
 ],
 "metadata": {
  "kernelspec": {
   "display_name": "Python 3 (ipykernel)",
   "language": "python",
   "name": "python3"
  },
  "language_info": {
   "codemirror_mode": {
    "name": "ipython",
    "version": 3
   },
   "file_extension": ".py",
   "mimetype": "text/x-python",
   "name": "python",
   "nbconvert_exporter": "python",
   "pygments_lexer": "ipython3",
   "version": "3.8.10"
  }
 },
 "nbformat": 4,
 "nbformat_minor": 4
}
