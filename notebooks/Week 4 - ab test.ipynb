{
 "cells": [
  {
   "cell_type": "markdown",
   "metadata": {},
   "source": [
    "## Week 4\n",
    "### AB-testing"
   ]
  },
  {
   "cell_type": "markdown",
   "metadata": {},
   "source": [
    "In this jupyter-notebook we will learn how check A/B-test result"
   ]
  },
  {
   "cell_type": "code",
   "execution_count": 1,
   "metadata": {},
   "outputs": [],
   "source": [
    "import pandas as pd\n",
    "import numpy as np\n",
    "import scipy.stats as stats"
   ]
  },
  {
   "cell_type": "code",
   "execution_count": 2,
   "metadata": {},
   "outputs": [],
   "source": [
    "df_a = pd.read_csv('data/data_ab_res_a.csv')\n",
    "df_b = pd.read_csv('data/data_ab_res_b.csv')"
   ]
  },
  {
   "cell_type": "markdown",
   "metadata": {},
   "source": [
    "`Group A` - communicate with clients according new better model\n",
    "\n",
    "`Group B` - communicate with clients according old model"
   ]
  },
  {
   "cell_type": "code",
   "execution_count": 3,
   "metadata": {},
   "outputs": [
    {
     "data": {
      "text/html": [
       "<div>\n",
       "<style scoped>\n",
       "    .dataframe tbody tr th:only-of-type {\n",
       "        vertical-align: middle;\n",
       "    }\n",
       "\n",
       "    .dataframe tbody tr th {\n",
       "        vertical-align: top;\n",
       "    }\n",
       "\n",
       "    .dataframe thead th {\n",
       "        text-align: right;\n",
       "    }\n",
       "</style>\n",
       "<table border=\"1\" class=\"dataframe\">\n",
       "  <thead>\n",
       "    <tr style=\"text-align: right;\">\n",
       "      <th></th>\n",
       "      <th>age</th>\n",
       "      <th>job_admin.</th>\n",
       "      <th>job_blue-collar</th>\n",
       "      <th>job_entrepreneur</th>\n",
       "      <th>job_housemaid</th>\n",
       "      <th>job_management</th>\n",
       "      <th>job_retired</th>\n",
       "      <th>job_self-employed</th>\n",
       "      <th>job_services</th>\n",
       "      <th>job_student</th>\n",
       "      <th>...</th>\n",
       "      <th>education_professional.course</th>\n",
       "      <th>education_university.degree</th>\n",
       "      <th>education_unknown</th>\n",
       "      <th>housing_no</th>\n",
       "      <th>housing_unknown</th>\n",
       "      <th>housing_yes</th>\n",
       "      <th>loan_no</th>\n",
       "      <th>loan_unknown</th>\n",
       "      <th>loan_yes</th>\n",
       "      <th>target</th>\n",
       "    </tr>\n",
       "  </thead>\n",
       "  <tbody>\n",
       "    <tr>\n",
       "      <th>0</th>\n",
       "      <td>35</td>\n",
       "      <td>1.0</td>\n",
       "      <td>0.0</td>\n",
       "      <td>0.0</td>\n",
       "      <td>0.0</td>\n",
       "      <td>0.0</td>\n",
       "      <td>0.0</td>\n",
       "      <td>0.0</td>\n",
       "      <td>0.0</td>\n",
       "      <td>0.0</td>\n",
       "      <td>...</td>\n",
       "      <td>0.0</td>\n",
       "      <td>1.0</td>\n",
       "      <td>0.0</td>\n",
       "      <td>0.0</td>\n",
       "      <td>0.0</td>\n",
       "      <td>1.0</td>\n",
       "      <td>1.0</td>\n",
       "      <td>0.0</td>\n",
       "      <td>0.0</td>\n",
       "      <td>1.0</td>\n",
       "    </tr>\n",
       "    <tr>\n",
       "      <th>1</th>\n",
       "      <td>36</td>\n",
       "      <td>1.0</td>\n",
       "      <td>0.0</td>\n",
       "      <td>0.0</td>\n",
       "      <td>0.0</td>\n",
       "      <td>0.0</td>\n",
       "      <td>0.0</td>\n",
       "      <td>0.0</td>\n",
       "      <td>0.0</td>\n",
       "      <td>0.0</td>\n",
       "      <td>...</td>\n",
       "      <td>0.0</td>\n",
       "      <td>0.0</td>\n",
       "      <td>0.0</td>\n",
       "      <td>1.0</td>\n",
       "      <td>0.0</td>\n",
       "      <td>0.0</td>\n",
       "      <td>1.0</td>\n",
       "      <td>0.0</td>\n",
       "      <td>0.0</td>\n",
       "      <td>1.0</td>\n",
       "    </tr>\n",
       "    <tr>\n",
       "      <th>2</th>\n",
       "      <td>63</td>\n",
       "      <td>0.0</td>\n",
       "      <td>0.0</td>\n",
       "      <td>0.0</td>\n",
       "      <td>0.0</td>\n",
       "      <td>0.0</td>\n",
       "      <td>1.0</td>\n",
       "      <td>0.0</td>\n",
       "      <td>0.0</td>\n",
       "      <td>0.0</td>\n",
       "      <td>...</td>\n",
       "      <td>0.0</td>\n",
       "      <td>0.0</td>\n",
       "      <td>0.0</td>\n",
       "      <td>1.0</td>\n",
       "      <td>0.0</td>\n",
       "      <td>0.0</td>\n",
       "      <td>1.0</td>\n",
       "      <td>0.0</td>\n",
       "      <td>0.0</td>\n",
       "      <td>1.0</td>\n",
       "    </tr>\n",
       "    <tr>\n",
       "      <th>3</th>\n",
       "      <td>30</td>\n",
       "      <td>0.0</td>\n",
       "      <td>0.0</td>\n",
       "      <td>0.0</td>\n",
       "      <td>0.0</td>\n",
       "      <td>0.0</td>\n",
       "      <td>0.0</td>\n",
       "      <td>0.0</td>\n",
       "      <td>0.0</td>\n",
       "      <td>0.0</td>\n",
       "      <td>...</td>\n",
       "      <td>0.0</td>\n",
       "      <td>1.0</td>\n",
       "      <td>0.0</td>\n",
       "      <td>0.0</td>\n",
       "      <td>0.0</td>\n",
       "      <td>1.0</td>\n",
       "      <td>1.0</td>\n",
       "      <td>0.0</td>\n",
       "      <td>0.0</td>\n",
       "      <td>1.0</td>\n",
       "    </tr>\n",
       "    <tr>\n",
       "      <th>4</th>\n",
       "      <td>33</td>\n",
       "      <td>0.0</td>\n",
       "      <td>0.0</td>\n",
       "      <td>0.0</td>\n",
       "      <td>0.0</td>\n",
       "      <td>0.0</td>\n",
       "      <td>0.0</td>\n",
       "      <td>0.0</td>\n",
       "      <td>1.0</td>\n",
       "      <td>0.0</td>\n",
       "      <td>...</td>\n",
       "      <td>0.0</td>\n",
       "      <td>0.0</td>\n",
       "      <td>0.0</td>\n",
       "      <td>1.0</td>\n",
       "      <td>0.0</td>\n",
       "      <td>0.0</td>\n",
       "      <td>0.0</td>\n",
       "      <td>0.0</td>\n",
       "      <td>1.0</td>\n",
       "      <td>1.0</td>\n",
       "    </tr>\n",
       "  </tbody>\n",
       "</table>\n",
       "<p>5 rows × 32 columns</p>\n",
       "</div>"
      ],
      "text/plain": [
       "   age  job_admin.  job_blue-collar  job_entrepreneur  job_housemaid  \\\n",
       "0   35         1.0              0.0               0.0            0.0   \n",
       "1   36         1.0              0.0               0.0            0.0   \n",
       "2   63         0.0              0.0               0.0            0.0   \n",
       "3   30         0.0              0.0               0.0            0.0   \n",
       "4   33         0.0              0.0               0.0            0.0   \n",
       "\n",
       "   job_management  job_retired  job_self-employed  job_services  job_student  \\\n",
       "0             0.0          0.0                0.0           0.0          0.0   \n",
       "1             0.0          0.0                0.0           0.0          0.0   \n",
       "2             0.0          1.0                0.0           0.0          0.0   \n",
       "3             0.0          0.0                0.0           0.0          0.0   \n",
       "4             0.0          0.0                0.0           1.0          0.0   \n",
       "\n",
       "   ...  education_professional.course  education_university.degree  \\\n",
       "0  ...                            0.0                          1.0   \n",
       "1  ...                            0.0                          0.0   \n",
       "2  ...                            0.0                          0.0   \n",
       "3  ...                            0.0                          1.0   \n",
       "4  ...                            0.0                          0.0   \n",
       "\n",
       "   education_unknown  housing_no  housing_unknown  housing_yes  loan_no  \\\n",
       "0                0.0         0.0              0.0          1.0      1.0   \n",
       "1                0.0         1.0              0.0          0.0      1.0   \n",
       "2                0.0         1.0              0.0          0.0      1.0   \n",
       "3                0.0         0.0              0.0          1.0      1.0   \n",
       "4                0.0         1.0              0.0          0.0      0.0   \n",
       "\n",
       "   loan_unknown  loan_yes  target  \n",
       "0           0.0       0.0     1.0  \n",
       "1           0.0       0.0     1.0  \n",
       "2           0.0       0.0     1.0  \n",
       "3           0.0       0.0     1.0  \n",
       "4           0.0       1.0     1.0  \n",
       "\n",
       "[5 rows x 32 columns]"
      ]
     },
     "execution_count": 3,
     "metadata": {},
     "output_type": "execute_result"
    }
   ],
   "source": [
    "df_a.head()"
   ]
  },
  {
   "cell_type": "code",
   "execution_count": 4,
   "metadata": {},
   "outputs": [
    {
     "data": {
      "text/html": [
       "<div>\n",
       "<style scoped>\n",
       "    .dataframe tbody tr th:only-of-type {\n",
       "        vertical-align: middle;\n",
       "    }\n",
       "\n",
       "    .dataframe tbody tr th {\n",
       "        vertical-align: top;\n",
       "    }\n",
       "\n",
       "    .dataframe thead th {\n",
       "        text-align: right;\n",
       "    }\n",
       "</style>\n",
       "<table border=\"1\" class=\"dataframe\">\n",
       "  <thead>\n",
       "    <tr style=\"text-align: right;\">\n",
       "      <th></th>\n",
       "      <th>age</th>\n",
       "      <th>job_admin.</th>\n",
       "      <th>job_blue-collar</th>\n",
       "      <th>job_entrepreneur</th>\n",
       "      <th>job_housemaid</th>\n",
       "      <th>job_management</th>\n",
       "      <th>job_retired</th>\n",
       "      <th>job_self-employed</th>\n",
       "      <th>job_services</th>\n",
       "      <th>job_student</th>\n",
       "      <th>...</th>\n",
       "      <th>education_professional.course</th>\n",
       "      <th>education_university.degree</th>\n",
       "      <th>education_unknown</th>\n",
       "      <th>housing_no</th>\n",
       "      <th>housing_unknown</th>\n",
       "      <th>housing_yes</th>\n",
       "      <th>loan_no</th>\n",
       "      <th>loan_unknown</th>\n",
       "      <th>loan_yes</th>\n",
       "      <th>target</th>\n",
       "    </tr>\n",
       "  </thead>\n",
       "  <tbody>\n",
       "    <tr>\n",
       "      <th>0</th>\n",
       "      <td>49</td>\n",
       "      <td>0.0</td>\n",
       "      <td>0.0</td>\n",
       "      <td>0.0</td>\n",
       "      <td>0.0</td>\n",
       "      <td>0.0</td>\n",
       "      <td>1.0</td>\n",
       "      <td>0.0</td>\n",
       "      <td>0.0</td>\n",
       "      <td>0.0</td>\n",
       "      <td>...</td>\n",
       "      <td>0.0</td>\n",
       "      <td>0.0</td>\n",
       "      <td>0.0</td>\n",
       "      <td>1.0</td>\n",
       "      <td>0.0</td>\n",
       "      <td>0.0</td>\n",
       "      <td>1.0</td>\n",
       "      <td>0.0</td>\n",
       "      <td>0.0</td>\n",
       "      <td>0.0</td>\n",
       "    </tr>\n",
       "    <tr>\n",
       "      <th>1</th>\n",
       "      <td>26</td>\n",
       "      <td>0.0</td>\n",
       "      <td>1.0</td>\n",
       "      <td>0.0</td>\n",
       "      <td>0.0</td>\n",
       "      <td>0.0</td>\n",
       "      <td>0.0</td>\n",
       "      <td>0.0</td>\n",
       "      <td>0.0</td>\n",
       "      <td>0.0</td>\n",
       "      <td>...</td>\n",
       "      <td>0.0</td>\n",
       "      <td>0.0</td>\n",
       "      <td>0.0</td>\n",
       "      <td>1.0</td>\n",
       "      <td>0.0</td>\n",
       "      <td>0.0</td>\n",
       "      <td>1.0</td>\n",
       "      <td>0.0</td>\n",
       "      <td>0.0</td>\n",
       "      <td>0.0</td>\n",
       "    </tr>\n",
       "    <tr>\n",
       "      <th>2</th>\n",
       "      <td>38</td>\n",
       "      <td>0.0</td>\n",
       "      <td>1.0</td>\n",
       "      <td>0.0</td>\n",
       "      <td>0.0</td>\n",
       "      <td>0.0</td>\n",
       "      <td>0.0</td>\n",
       "      <td>0.0</td>\n",
       "      <td>0.0</td>\n",
       "      <td>0.0</td>\n",
       "      <td>...</td>\n",
       "      <td>0.0</td>\n",
       "      <td>0.0</td>\n",
       "      <td>0.0</td>\n",
       "      <td>0.0</td>\n",
       "      <td>0.0</td>\n",
       "      <td>1.0</td>\n",
       "      <td>1.0</td>\n",
       "      <td>0.0</td>\n",
       "      <td>0.0</td>\n",
       "      <td>0.0</td>\n",
       "    </tr>\n",
       "    <tr>\n",
       "      <th>3</th>\n",
       "      <td>38</td>\n",
       "      <td>1.0</td>\n",
       "      <td>0.0</td>\n",
       "      <td>0.0</td>\n",
       "      <td>0.0</td>\n",
       "      <td>0.0</td>\n",
       "      <td>0.0</td>\n",
       "      <td>0.0</td>\n",
       "      <td>0.0</td>\n",
       "      <td>0.0</td>\n",
       "      <td>...</td>\n",
       "      <td>0.0</td>\n",
       "      <td>0.0</td>\n",
       "      <td>1.0</td>\n",
       "      <td>1.0</td>\n",
       "      <td>0.0</td>\n",
       "      <td>0.0</td>\n",
       "      <td>0.0</td>\n",
       "      <td>0.0</td>\n",
       "      <td>1.0</td>\n",
       "      <td>0.0</td>\n",
       "    </tr>\n",
       "    <tr>\n",
       "      <th>4</th>\n",
       "      <td>44</td>\n",
       "      <td>0.0</td>\n",
       "      <td>0.0</td>\n",
       "      <td>1.0</td>\n",
       "      <td>0.0</td>\n",
       "      <td>0.0</td>\n",
       "      <td>0.0</td>\n",
       "      <td>0.0</td>\n",
       "      <td>0.0</td>\n",
       "      <td>0.0</td>\n",
       "      <td>...</td>\n",
       "      <td>0.0</td>\n",
       "      <td>1.0</td>\n",
       "      <td>0.0</td>\n",
       "      <td>0.0</td>\n",
       "      <td>0.0</td>\n",
       "      <td>1.0</td>\n",
       "      <td>1.0</td>\n",
       "      <td>0.0</td>\n",
       "      <td>0.0</td>\n",
       "      <td>0.0</td>\n",
       "    </tr>\n",
       "  </tbody>\n",
       "</table>\n",
       "<p>5 rows × 32 columns</p>\n",
       "</div>"
      ],
      "text/plain": [
       "   age  job_admin.  job_blue-collar  job_entrepreneur  job_housemaid  \\\n",
       "0   49         0.0              0.0               0.0            0.0   \n",
       "1   26         0.0              1.0               0.0            0.0   \n",
       "2   38         0.0              1.0               0.0            0.0   \n",
       "3   38         1.0              0.0               0.0            0.0   \n",
       "4   44         0.0              0.0               1.0            0.0   \n",
       "\n",
       "   job_management  job_retired  job_self-employed  job_services  job_student  \\\n",
       "0             0.0          1.0                0.0           0.0          0.0   \n",
       "1             0.0          0.0                0.0           0.0          0.0   \n",
       "2             0.0          0.0                0.0           0.0          0.0   \n",
       "3             0.0          0.0                0.0           0.0          0.0   \n",
       "4             0.0          0.0                0.0           0.0          0.0   \n",
       "\n",
       "   ...  education_professional.course  education_university.degree  \\\n",
       "0  ...                            0.0                          0.0   \n",
       "1  ...                            0.0                          0.0   \n",
       "2  ...                            0.0                          0.0   \n",
       "3  ...                            0.0                          0.0   \n",
       "4  ...                            0.0                          1.0   \n",
       "\n",
       "   education_unknown  housing_no  housing_unknown  housing_yes  loan_no  \\\n",
       "0                0.0         1.0              0.0          0.0      1.0   \n",
       "1                0.0         1.0              0.0          0.0      1.0   \n",
       "2                0.0         0.0              0.0          1.0      1.0   \n",
       "3                1.0         1.0              0.0          0.0      0.0   \n",
       "4                0.0         0.0              0.0          1.0      1.0   \n",
       "\n",
       "   loan_unknown  loan_yes  target  \n",
       "0           0.0       0.0     0.0  \n",
       "1           0.0       0.0     0.0  \n",
       "2           0.0       0.0     0.0  \n",
       "3           0.0       1.0     0.0  \n",
       "4           0.0       0.0     0.0  \n",
       "\n",
       "[5 rows x 32 columns]"
      ]
     },
     "execution_count": 4,
     "metadata": {},
     "output_type": "execute_result"
    }
   ],
   "source": [
    "df_b.head()"
   ]
  },
  {
   "cell_type": "markdown",
   "metadata": {},
   "source": [
    "__Column description:__\n",
    "\n",
    "\n",
    "- `age` (numeric)\n",
    "- `job` : type of job (categorical: \"admin.\",\"blue-collar\",\"entrepreneur\",\"housemaid\",\"management\",\"retired\",\"self-employed\",\"services\",\"student\",\"technician\",\"unemployed\",\"unknown\")\n",
    "- `marital` : marital status (categorical: \"divorced\",\"married\",\"single\",\"unknown\"; note: \"divorced\" means divorced or widowed)\n",
    "- `education` (categorical: \"basic.4y\",\"basic.6y\",\"basic.9y\",\"high.school\",\"illiterate\",\"professional.course\",\"university.degree\",\"unknown\")\n",
    "- `default`: has credit in default? (categorical: \"no\",\"yes\",\"unknown\")\n",
    "- `housing`: has housing loan? (categorical: \"no\",\"yes\",\"unknown\")\n",
    "- `loan`: has personal loan? (categorical: \"no\",\"yes\",\"unknown\")\n",
    "\n",
    "___Output variable (A/B test results):___\n",
    "\n",
    "- `target` - has the client subscribed a term deposit? (binary: \"yes\",\"no\")"
   ]
  },
  {
   "cell_type": "markdown",
   "metadata": {},
   "source": [
    "### Randomization checking"
   ]
  },
  {
   "cell_type": "markdown",
   "metadata": {},
   "source": [
    "Check clients randomization by calculation metrics of clients factors.\n",
    "Mean, median nd variance"
   ]
  },
  {
   "cell_type": "code",
   "execution_count": 5,
   "metadata": {},
   "outputs": [],
   "source": [
    "targ_cols = [i for i in df_a.columns if i != 'target']"
   ]
  },
  {
   "cell_type": "code",
   "execution_count": 6,
   "metadata": {},
   "outputs": [
    {
     "name": "stdout",
     "output_type": "stream",
     "text": [
      "age -- OK -- mean rate: 1.0 median rate: 1.0 var rate: 1.0\n",
      "job_admin. -- OK -- mean rate: 1.01 median rate: 1.01 var rate: 1.01\n",
      "job_blue-collar -- OK -- mean rate: 0.98 median rate: 0.98 var rate: 0.98\n",
      "job_entrepreneur -- OK -- mean rate: 0.96 median rate: 0.96 var rate: 0.96\n",
      "job_housemaid -- OK -- mean rate: 0.97 median rate: 0.97 var rate: 0.97\n",
      "job_management -- OK -- mean rate: 1.0 median rate: 1.0 var rate: 1.0\n",
      "job_retired -- OK -- mean rate: 1.07 median rate: 1.07 var rate: 1.07\n",
      "job_self-employed -- OK -- mean rate: 1.02 median rate: 1.02 var rate: 1.02\n",
      "job_services -- OK -- mean rate: 0.99 median rate: 0.99 var rate: 0.99\n",
      "job_student -- OK -- mean rate: 1.09 median rate: 1.09 var rate: 1.09\n",
      "job_technician -- OK -- mean rate: 1.0 median rate: 1.0 var rate: 1.0\n",
      "job_unemployed -- OK -- mean rate: 1.06 median rate: 1.06 var rate: 1.06\n",
      "job_unknown -- OK -- mean rate: 1.03 median rate: 1.03 var rate: 1.03\n",
      "marital_divorced -- OK -- mean rate: 1.01 median rate: 1.01 var rate: 1.01\n",
      "marital_married -- OK -- mean rate: 1.0 median rate: 1.0 var rate: 1.0\n",
      "marital_single -- OK -- mean rate: 1.01 median rate: 1.01 var rate: 1.01\n",
      "marital_unknown -- NO RANDOM -- mean rate: 1.16 median rate: 1.16 var rate: 1.16\n",
      "education_basic.4y -- OK -- mean rate: 0.98 median rate: 0.98 var rate: 0.98\n",
      "education_basic.6y -- OK -- mean rate: 1.01 median rate: 1.01 var rate: 1.01\n",
      "education_basic.9y -- OK -- mean rate: 0.98 median rate: 0.98 var rate: 0.98\n",
      "education_high.school -- OK -- mean rate: 1.0 median rate: 1.0 var rate: 1.0\n",
      "education_illiterate -- NO RANDOM -- mean rate: 1.16 median rate: 1.16 var rate: 1.16\n",
      "education_professional.course -- OK -- mean rate: 1.0 median rate: 1.0 var rate: 1.0\n",
      "education_university.degree -- OK -- mean rate: 1.01 median rate: 1.01 var rate: 1.01\n",
      "education_unknown -- OK -- mean rate: 1.01 median rate: 1.01 var rate: 1.01\n",
      "housing_no -- OK -- mean rate: 0.99 median rate: 0.99 var rate: 0.99\n",
      "housing_unknown -- OK -- mean rate: 1.01 median rate: 1.01 var rate: 1.01\n",
      "housing_yes -- OK -- mean rate: 1.01 median rate: 1.01 var rate: 1.01\n",
      "loan_no -- OK -- mean rate: 1.0 median rate: 1.0 var rate: 1.0\n",
      "loan_unknown -- OK -- mean rate: 1.01 median rate: 1.01 var rate: 1.01\n",
      "loan_yes -- OK -- mean rate: 1.0 median rate: 1.0 var rate: 1.0\n"
     ]
    }
   ],
   "source": [
    "for i in targ_cols:\n",
    "    mean_a = np.mean(df_a[i])\n",
    "    mean_b = np.mean(df_b[i])\n",
    "    median_a = np.mean(df_a[i])\n",
    "    median_b = np.mean(df_b[i])\n",
    "    \n",
    "    var_a = np.var(df_a[i])\n",
    "    var_b = np.var(df_b[i])\n",
    "    \n",
    "    mean = mean_a/mean_b\n",
    "    median = median_a/median_b\n",
    "    var = var_a/var_b\n",
    "\n",
    "    if mean > 1.1 or mean < 0.9 or median > 1.1 or median < 0.9 or var > 1.1 or var < 0.9:\n",
    "        tmp = 'NO RANDOM'\n",
    "    else:\n",
    "        tmp = 'OK'\n",
    "    print(i, '--', tmp, '-- mean rate:', round(mean, 2), \n",
    "          'median rate:', round(median, 2), 'var rate:', round(median, 2))"
   ]
  },
  {
   "cell_type": "markdown",
   "metadata": {},
   "source": [
    "Clients in A/B test was random"
   ]
  },
  {
   "cell_type": "markdown",
   "metadata": {},
   "source": [
    "### Statistical significance testing."
   ]
  },
  {
   "cell_type": "markdown",
   "metadata": {},
   "source": [
    "#### Average treatment effect (ATE) – the average difference of the sample parameter"
   ]
  },
  {
   "cell_type": "code",
   "execution_count": 7,
   "metadata": {},
   "outputs": [],
   "source": [
    "Y_a = np.mean(df_a['target'])\n",
    "Y_b = np.mean(df_b['target'])"
   ]
  },
  {
   "cell_type": "code",
   "execution_count": 8,
   "metadata": {},
   "outputs": [],
   "source": [
    "ATE = Y_a - Y_b"
   ]
  },
  {
   "cell_type": "code",
   "execution_count": 9,
   "metadata": {},
   "outputs": [
    {
     "name": "stdout",
     "output_type": "stream",
     "text": [
      "Difference in response =  0.057\n"
     ]
    }
   ],
   "source": [
    "print('Difference in response = ', round(ATE, 3))"
   ]
  },
  {
   "cell_type": "markdown",
   "metadata": {},
   "source": [
    "#### Significance testing is used after A/B test (to verify the effect) "
   ]
  },
  {
   "cell_type": "markdown",
   "metadata": {},
   "source": [
    "`Student’s t-test` - the variances in Y within group A and B are `similar`\n",
    "\n",
    "`Welch’s t-test` - the variances in Y within group A and B are `different`"
   ]
  },
  {
   "cell_type": "markdown",
   "metadata": {},
   "source": [
    "Check  variances in Y within group A and B"
   ]
  },
  {
   "cell_type": "code",
   "execution_count": 10,
   "metadata": {},
   "outputs": [],
   "source": [
    "var_a = np.var(df_a['target'])\n",
    "var_b = np.var(df_b['target'])"
   ]
  },
  {
   "cell_type": "code",
   "execution_count": 11,
   "metadata": {},
   "outputs": [
    {
     "name": "stdout",
     "output_type": "stream",
     "text": [
      "Vaiance in group A =  0.1409\n",
      "Vaiance in group B =  0.1\n"
     ]
    }
   ],
   "source": [
    "print('Vaiance in group A = ', round(var_a, 4))\n",
    "print('Vaiance in group B = ', round(var_b, 4))"
   ]
  },
  {
   "cell_type": "markdown",
   "metadata": {},
   "source": [
    "`Null Hypothesis`: the means of both populations are equal\n",
    "\n",
    "`Alternate Hypothesis`: the means of both populations are not equal"
   ]
  },
  {
   "cell_type": "code",
   "execution_count": 12,
   "metadata": {},
   "outputs": [
    {
     "data": {
      "text/plain": [
       "Ttest_indResult(statistic=17.322636931888905, pvalue=5.9255962020386293e-67)"
      ]
     },
     "execution_count": 12,
     "metadata": {},
     "output_type": "execute_result"
    }
   ],
   "source": [
    "stats.ttest_ind(df_a['target'], df_b['target'], equal_var = False)"
   ]
  },
  {
   "cell_type": "markdown",
   "metadata": {},
   "source": [
    "### p-value is too smal, so we reject `Null Hypothesis` and can accept `Alternate Hypothesis`"
   ]
  }
 ],
 "metadata": {
  "kernelspec": {
   "display_name": "Python 3 (ipykernel)",
   "language": "python",
   "name": "python3"
  },
  "language_info": {
   "codemirror_mode": {
    "name": "ipython",
    "version": 3
   },
   "file_extension": ".py",
   "mimetype": "text/x-python",
   "name": "python",
   "nbconvert_exporter": "python",
   "pygments_lexer": "ipython3",
   "version": "3.8.10"
  }
 },
 "nbformat": 4,
 "nbformat_minor": 4
}
